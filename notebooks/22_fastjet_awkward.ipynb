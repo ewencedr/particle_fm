{
 "cells": [
  {
   "cell_type": "markdown",
   "metadata": {},
   "source": [
    "# Fastjet with Awkward Arrays\n",
    "This notebook demonstrates how to use [Fastjet in Python](https://github.com/scikit-hep/fastjet) with Awkward Arrays to cluster jets in particle physics. Using Awkward Arrays allows handling multi-event data and is therefore a fast and efficient way to use Fastjet for large datasets in Python. The [LHC-Olympics data](https://lhco2020.github.io/homepage/) is used for this example. The data consists of dijet events and we want to cluster the events to get the constituents and jet features of the two jets."
   ]
  },
  {
   "cell_type": "markdown",
   "metadata": {},
   "source": [
    "## Imports"
   ]
  },
  {
   "cell_type": "code",
   "execution_count": null,
   "metadata": {},
   "outputs": [],
   "source": [
    "import awkward as ak\n",
    "import energyflow as ef\n",
    "import fastjet as fj\n",
    "import h5py\n",
    "import matplotlib as mpl\n",
    "import matplotlib.pyplot as plt\n",
    "import numpy as np\n",
    "import pandas as pd\n",
    "import vector\n",
    "from cycler import cycler"
   ]
  },
  {
   "cell_type": "code",
   "execution_count": null,
   "metadata": {},
   "outputs": [],
   "source": [
    "# define plot style\n",
    "mpl.rcParams[\"axes.prop_cycle\"] = cycler(\n",
    "    color=[\n",
    "        \"#B6BFC3\",\n",
    "        \"#3B515B\",\n",
    "        \"#0271BB\",\n",
    "        \"#E2001A\",\n",
    "    ]\n",
    ")\n",
    "mpl.rcParams[\"font.size\"] = 15\n",
    "mpl.rcParams[\"patch.linewidth\"] = 1.25"
   ]
  },
  {
   "cell_type": "markdown",
   "metadata": {},
   "source": [
    "## Load Data \n",
    "We load the LHC-Olympics data from an h5 file. The data is stored in a pandas dataframe and contains of up to 700 jet constituents per event that are described by the features: $p_T$, $\\eta$, $\\phi$. The dataset contains 1M QCD dijets background events and 100k W'->XY signal events."
   ]
  },
  {
   "cell_type": "code",
   "execution_count": null,
   "metadata": {},
   "outputs": [],
   "source": [
    "filepath = \"/beegfs/desy/user/ewencedr/data/lhco/events_anomalydetection_v2.h5\""
   ]
  },
  {
   "cell_type": "code",
   "execution_count": null,
   "metadata": {},
   "outputs": [],
   "source": [
    "# Load everything into memory\n",
    "df = pd.read_hdf(filepath)\n",
    "print(df.shape)\n",
    "print(\"Memory in GB:\", sum(df.memory_usage(deep=True)) / (1024**3))"
   ]
  },
  {
   "cell_type": "code",
   "execution_count": null,
   "metadata": {},
   "outputs": [],
   "source": [
    "# split data into signal and background\n",
    "np_array = np.array(df)\n",
    "background = np_array[np_array[:, 2100] == 0]\n",
    "signal = np_array[np_array[:, 2100] == 1]"
   ]
  },
  {
   "cell_type": "code",
   "execution_count": null,
   "metadata": {},
   "outputs": [],
   "source": [
    "# change the shape of the data to (n_events, n_particles, n_features)\n",
    "qcd_data = background[:, :2100].reshape(-1, 700, 3)\n",
    "sig_data = signal[:, :2100].reshape(-1, 700, 3)"
   ]
  },
  {
   "cell_type": "code",
   "execution_count": null,
   "metadata": {},
   "outputs": [],
   "source": [
    "# save lengths of signal and background data for later use\n",
    "len_bckg = len(qcd_data)\n",
    "len_sig = len(sig_data)\n",
    "print(f\"Background events: {len_bckg}\")\n",
    "print(f\"Signal events: {len_sig}\")"
   ]
  },
  {
   "cell_type": "code",
   "execution_count": null,
   "metadata": {},
   "outputs": [],
   "source": [
    "data_full = np.concatenate((qcd_data, sig_data), axis=0)"
   ]
  },
  {
   "cell_type": "code",
   "execution_count": null,
   "metadata": {},
   "outputs": [],
   "source": [
    "label_map = {\"0\": r\"$p_T$\", \"1\": r\"$\\eta$\", \"2\": r\"$\\phi$\"}\n",
    "fig, axs = plt.subplots(1, 3, figsize=(15, 5))\n",
    "for index, ax in enumerate(axs):\n",
    "    ax.hist(qcd_data[:, :, index].flatten()[qcd_data[:, :, index].flatten() != 0], bins=100)\n",
    "    ax.set_xlabel(f\"{label_map[str(index)]}\")\n",
    "    ax.set_yscale(\"log\")\n",
    "    if index == 1:\n",
    "        ax.set_ylim(\n",
    "            1,\n",
    "        )\n",
    "    if index == 2 or index == 1:\n",
    "        ax.set_ylim(1, 1e7)\n",
    "plt.show()"
   ]
  },
  {
   "cell_type": "markdown",
   "metadata": {},
   "source": [
    "## Jet Clustering\n",
    "The jet constituents will be clustered into jets. To allow for an efficient calculation, the data will be stored in awkward arrays. The jet clustering will be done using the [FastJet](http://fastjet.fr/) package. The FastJet package is a C++ library for jet finding. It is interfaced to Python using the [FastJet python](https://pypi.org/project/fastjet/) package.\n",
    "\n",
    "Awkward arrays are like numpy arrays, but they can have jagged dimensions. This is useful for particle physics, where we have a variable number of particles in each event. To benefit from the speed of awkward, we need to transform our data into an awkward array. For this, we first remove the zero padding and then tell the awkward array that our input data is a 4vector with $p_T$, $\\eta$, $\\phi$, and $m$."
   ]
  },
  {
   "cell_type": "code",
   "execution_count": null,
   "metadata": {},
   "outputs": [],
   "source": [
    "# to awkard array\n",
    "zrs = np.zeros((data_full.shape[0], data_full.shape[1], 1))\n",
    "data_with_mass = np.concatenate((data_full, zrs), axis=2)\n",
    "awkward_data = ak.from_numpy(data_with_mass)"
   ]
  },
  {
   "cell_type": "code",
   "execution_count": null,
   "metadata": {},
   "outputs": [],
   "source": [
    "# tell awkward that the data is in eta, phi, pt, mass format\n",
    "vector.register_awkward()\n",
    "unmasked_data = ak.zip(\n",
    "    {\n",
    "        \"pt\": awkward_data[:, :, 0],\n",
    "        \"eta\": awkward_data[:, :, 1],\n",
    "        \"phi\": awkward_data[:, :, 2],\n",
    "        \"mass\": awkward_data[:, :, 3],\n",
    "    },\n",
    "    with_name=\"Momentum4D\",\n",
    ")\n",
    "print(unmasked_data.type)"
   ]
  },
  {
   "cell_type": "code",
   "execution_count": null,
   "metadata": {},
   "outputs": [],
   "source": [
    "# remove the padded data points\n",
    "data = ak.drop_none(ak.mask(unmasked_data, unmasked_data.pt != 0))\n",
    "print(data.type)"
   ]
  },
  {
   "cell_type": "markdown",
   "metadata": {},
   "source": [
    "Now the data can be clustered. For this we have to set the cluster algorithm. In this case, we will use the [Anti-$k_t$ algorithm](https://arxiv.org/abs/0802.1189) with $R=1.0$. "
   ]
  },
  {
   "cell_type": "code",
   "execution_count": null,
   "metadata": {},
   "outputs": [],
   "source": [
    "jetdef = fj.JetDefinition(fj.antikt_algorithm, 1.0)"
   ]
  },
  {
   "cell_type": "code",
   "execution_count": null,
   "metadata": {},
   "outputs": [],
   "source": [
    "cluster = fj.ClusterSequence(data, jetdef)"
   ]
  },
  {
   "cell_type": "code",
   "execution_count": null,
   "metadata": {},
   "outputs": [],
   "source": [
    "# get jets and constituents\n",
    "jets_out = cluster.inclusive_jets()\n",
    "consts_out = cluster.constituents()"
   ]
  },
  {
   "cell_type": "markdown",
   "metadata": {},
   "source": [
    "## Processing of Data\n",
    "We want to sort the data and pad it with zeros so that we can transform back to a regular numpy array. A mask is also created to keep track of the padded zeros."
   ]
  },
  {
   "cell_type": "code",
   "execution_count": null,
   "metadata": {},
   "outputs": [],
   "source": [
    "# define a function to sort ak.Array by pt\n",
    "def sort_by_pt(data: ak.Array, ascending: bool = False, return_indices: bool = False):\n",
    "    \"\"\"Sort ak.Array by pt\n",
    "\n",
    "    Args:\n",
    "        data (ak.Array): array that should be sorted by pt. It should have a pt attribute.\n",
    "        ascending (bool, optional): If True, the first value in each sorted group will be smallest; if False, the order is from largest to smallest. Defaults to False.\n",
    "        return_indices (bool, optional): If True, the indices of the sorted array are returned. Defaults to False.\n",
    "\n",
    "    Returns:\n",
    "        ak.Array: sorted array\n",
    "        ak.Array (optional): indices of the sorted array\n",
    "    \"\"\"\n",
    "    if isinstance(data, ak.Array):\n",
    "        try:\n",
    "            temppt = data.pt\n",
    "        except AttributeError:\n",
    "            raise AttributeError(\n",
    "                \"Needs either correct coordinates or embedded vector backend\"\n",
    "            ) from None\n",
    "    tmpsort = ak.argsort(temppt, axis=-1, ascending=ascending)\n",
    "    if return_indices:\n",
    "        return data[tmpsort], tmpsort\n",
    "    else:\n",
    "        return data[tmpsort]"
   ]
  },
  {
   "cell_type": "code",
   "execution_count": null,
   "metadata": {},
   "outputs": [],
   "source": [
    "# define a function to sort ak.Array by mass\n",
    "def sort_by_mass(data: ak.Array, ascending: bool = False, return_indices: bool = False):\n",
    "    \"\"\"Sort ak.Array by mass\n",
    "\n",
    "    Args:\n",
    "        data (ak.Array): array that should be sorted by pt. It should have a pt attribute.\n",
    "        ascending (bool, optional): If True, the first value in each sorted group will be smallest; if False, the order is from largest to smallest. Defaults to False.\n",
    "        return_indices (bool, optional): If True, the indices of the sorted array are returned. Defaults to False.\n",
    "\n",
    "    Returns:\n",
    "        ak.Array: sorted array\n",
    "        ak.Array (optional): indices of the sorted array\n",
    "    \"\"\"\n",
    "    if isinstance(data, ak.Array):\n",
    "        try:\n",
    "            temppt = data.m\n",
    "        except AttributeError:\n",
    "            raise AttributeError(\n",
    "                \"Needs either correct coordinates or embedded vector backend\"\n",
    "            ) from None\n",
    "    tmpsort = ak.argsort(temppt, axis=-1, ascending=ascending)\n",
    "    if return_indices:\n",
    "        return data[tmpsort], tmpsort\n",
    "    else:\n",
    "        return data[tmpsort]"
   ]
  },
  {
   "cell_type": "code",
   "execution_count": null,
   "metadata": {},
   "outputs": [],
   "source": [
    "# sort jets and constituents by pt\n",
    "jets_sorted, idxs = sort_by_mass(jets_out, return_indices=True)\n",
    "consts_sorted_jets = consts_out[idxs]\n",
    "consts_sorted = sort_by_mass(consts_sorted_jets)"
   ]
  },
  {
   "cell_type": "code",
   "execution_count": null,
   "metadata": {},
   "outputs": [],
   "source": [
    "# only take the first 2 highest mass jets\n",
    "jets_awk = jets_sorted[:, :2]\n",
    "consts_awk = consts_sorted[:, :2]"
   ]
  },
  {
   "cell_type": "code",
   "execution_count": null,
   "metadata": {},
   "outputs": [],
   "source": [
    "# get max. number of constituents in an event\n",
    "max_consts = int(ak.max(ak.num(consts_awk, axis=-1)))\n",
    "print(max_consts)"
   ]
  },
  {
   "cell_type": "code",
   "execution_count": null,
   "metadata": {},
   "outputs": [],
   "source": [
    "# pad the data with zeros to make them all the same length\n",
    "zero_padding = ak.zip({\"pt\": 0.0, \"eta\": 0.0, \"phi\": 0.0, \"mass\": 0.0}, with_name=\"Momentum4D\")\n",
    "padded_consts = ak.fill_none(\n",
    "    ak.pad_none(consts_awk, max_consts, clip=True, axis=-1), zero_padding, axis=-1\n",
    ")\n",
    "print(padded_consts.type)"
   ]
  },
  {
   "cell_type": "code",
   "execution_count": null,
   "metadata": {},
   "outputs": [],
   "source": [
    "# go back to numpy arrays\n",
    "pt, eta, phi, mass = ak.unzip(padded_consts)\n",
    "pt_np = ak.to_numpy(pt)\n",
    "eta_np = ak.to_numpy(eta)\n",
    "phi_np = ak.to_numpy(phi)\n",
    "consts = np.stack((pt_np, eta_np, phi_np), axis=-1)\n",
    "print(consts.shape)"
   ]
  },
  {
   "cell_type": "code",
   "execution_count": null,
   "metadata": {},
   "outputs": [],
   "source": [
    "# calculate mask for jet constituents\n",
    "mask = np.expand_dims((consts[..., 0] > 0).astype(int), axis=-1)\n",
    "print(mask.shape)"
   ]
  },
  {
   "cell_type": "code",
   "execution_count": null,
   "metadata": {},
   "outputs": [],
   "source": [
    "# get numpy arrays for jet data\n",
    "jets_pt_np = ak.to_numpy(jets_awk.pt)\n",
    "jets_eta_np = ak.to_numpy(jets_awk.eta)\n",
    "jets_phi_np = ak.to_numpy(jets_awk.phi)\n",
    "jets_m_np = ak.to_numpy(jets_awk.m)\n",
    "jets = np.stack((jets_pt_np, jets_eta_np, jets_phi_np, jets_m_np), axis=-1)\n",
    "print(jets.shape)"
   ]
  },
  {
   "cell_type": "markdown",
   "metadata": {},
   "source": [
    "## Save Data\n",
    "The data will be saved to two h5 files, one for signal and one for background. Both files contain three datasets: jet features, constituents, mask"
   ]
  },
  {
   "cell_type": "code",
   "execution_count": null,
   "metadata": {},
   "outputs": [],
   "source": [
    "jets_background = jets[:len_bckg]\n",
    "jets_signal = jets[len_bckg:]\n",
    "mask_background = mask[:len_bckg]\n",
    "mask_signal = mask[len_bckg:]\n",
    "consts_background = consts[:len_bckg]\n",
    "consts_signal = consts[len_bckg:]"
   ]
  },
  {
   "cell_type": "code",
   "execution_count": null,
   "metadata": {},
   "outputs": [],
   "source": [
    "final_path = \"/beegfs/desy/user/ewencedr/data/lhco/final_data/\""
   ]
  },
  {
   "cell_type": "code",
   "execution_count": null,
   "metadata": {},
   "outputs": [],
   "source": [
    "background_path = final_path + \"processed_data_background.h5\"\n",
    "signal_path = final_path + \"processed_data_signal.h5\"\n",
    "with h5py.File(background_path, \"w\") as f:\n",
    "    f.create_dataset(\"jet_data\", data=jets_background)\n",
    "    f.create_dataset(\"constituents\", data=consts_background)\n",
    "    f.create_dataset(\"mask\", data=mask_background)\n",
    "with h5py.File(signal_path, \"w\") as f:\n",
    "    f.create_dataset(\"jet_data\", data=jets_signal)\n",
    "    f.create_dataset(\"constituents\", data=consts_signal)\n",
    "    f.create_dataset(\"mask\", data=mask_signal)"
   ]
  },
  {
   "cell_type": "markdown",
   "metadata": {},
   "source": [
    "# Compare to Provided Features\n",
    "The LHCO dataset provides high-level features for pre-clustered jets. We can compare the features from our clustered jets to the provided data to see how well our clustering algorithm did."
   ]
  },
  {
   "cell_type": "code",
   "execution_count": null,
   "metadata": {},
   "outputs": [],
   "source": [
    "# these will be the x-axis labels for the histograms\n",
    "label_map = {\"0\": r\"$p_T$\", \"1\": r\"$\\eta$\", \"2\": r\"$\\phi$\", \"3\": r\"$m$\"}"
   ]
  },
  {
   "cell_type": "markdown",
   "metadata": {},
   "source": [
    "## Particle Multiplicity"
   ]
  },
  {
   "cell_type": "markdown",
   "metadata": {},
   "source": [
    "### Background"
   ]
  },
  {
   "cell_type": "code",
   "execution_count": null,
   "metadata": {},
   "outputs": [],
   "source": [
    "fig, ax = plt.subplots()\n",
    "# skip colours in the cycle\n",
    "next(ax._get_lines.prop_cycler)\n",
    "next(ax._get_lines.prop_cycler)\n",
    "hist = ax.hist(\n",
    "    np.sum(mask_background[:, 0], axis=1).flatten(),\n",
    "    bins=range(0, max_consts, 1),\n",
    "    label=\"X-Jet\",\n",
    "    histtype=\"step\",\n",
    ")\n",
    "ax.hist(\n",
    "    np.sum(mask_background[:, 1], axis=1).flatten(), bins=hist[1], label=\"Y-Jet\", histtype=\"step\"\n",
    ")\n",
    "ax.set_xlabel(\"Particle multiplicity\")\n",
    "plt.legend(frameon=False)\n",
    "plt.show()"
   ]
  },
  {
   "cell_type": "markdown",
   "metadata": {},
   "source": [
    "### Signal"
   ]
  },
  {
   "cell_type": "code",
   "execution_count": null,
   "metadata": {},
   "outputs": [],
   "source": [
    "fig, ax = plt.subplots()\n",
    "# skip colours in the cycle\n",
    "next(ax._get_lines.prop_cycler)\n",
    "next(ax._get_lines.prop_cycler)\n",
    "hist = ax.hist(\n",
    "    np.sum(mask_signal[:, 0], axis=1).flatten(),\n",
    "    bins=range(0, max_consts, 1),\n",
    "    label=\"X-Jet\",\n",
    "    histtype=\"step\",\n",
    ")\n",
    "ax.hist(np.sum(mask_signal[:, 1], axis=1).flatten(), bins=hist[1], label=\"Y-Jet\", histtype=\"step\")\n",
    "ax.set_xlabel(\"Particle multiplicity\")\n",
    "plt.legend(frameon=False)\n",
    "plt.show()"
   ]
  },
  {
   "cell_type": "markdown",
   "metadata": {},
   "source": [
    "## Constituent Features"
   ]
  },
  {
   "cell_type": "code",
   "execution_count": null,
   "metadata": {},
   "outputs": [],
   "source": [
    "x_background = consts_background[:, 0]\n",
    "y_background = consts_background[:, 1]\n",
    "x_signal = consts_signal[:, 0]\n",
    "y_signal = consts_signal[:, 1]\n",
    "print(x_background.shape)"
   ]
  },
  {
   "cell_type": "code",
   "execution_count": null,
   "metadata": {},
   "outputs": [],
   "source": [
    "print(x_background.shape)\n",
    "print(y_background.shape)"
   ]
  },
  {
   "cell_type": "markdown",
   "metadata": {},
   "source": [
    "### Background"
   ]
  },
  {
   "cell_type": "code",
   "execution_count": null,
   "metadata": {},
   "outputs": [],
   "source": [
    "fig, axs = plt.subplots(1, 3, figsize=(15, 5))\n",
    "\n",
    "for index, ax in enumerate(axs):\n",
    "    # skip colours in the cycle\n",
    "    next(ax._get_lines.prop_cycler)\n",
    "    next(ax._get_lines.prop_cycler)\n",
    "\n",
    "    ax.hist(\n",
    "        x_background[:, :, index].flatten()[x_background[:, :, index].flatten() != 0],\n",
    "        bins=100,\n",
    "        label=\"X-Jet\",\n",
    "        histtype=\"step\",\n",
    "    )\n",
    "    ax.hist(\n",
    "        y_background[:, :, index].flatten()[y_background[:, :, index].flatten() != 0],\n",
    "        bins=100,\n",
    "        label=\"Y-Jet\",\n",
    "        histtype=\"step\",\n",
    "    )\n",
    "    ax.set_xlabel(f\"{label_map[str(index)]}\")\n",
    "    if index == 0 or index == 1 or index == 2:\n",
    "        ax.set_yscale(\"log\")\n",
    "    ax.set_ylim(\n",
    "        1,\n",
    "    )\n",
    "    if index == 2:\n",
    "        ax.set_ylim(1, 1e7)\n",
    "    if index == 1:\n",
    "        ax.legend(frameon=False)\n",
    "plt.show()"
   ]
  },
  {
   "cell_type": "markdown",
   "metadata": {},
   "source": [
    "### Signal"
   ]
  },
  {
   "cell_type": "code",
   "execution_count": null,
   "metadata": {},
   "outputs": [],
   "source": [
    "fig, axs = plt.subplots(1, 3, figsize=(15, 5))\n",
    "\n",
    "for index, ax in enumerate(axs):\n",
    "    # skip colours in the cycle\n",
    "    next(ax._get_lines.prop_cycler)\n",
    "    next(ax._get_lines.prop_cycler)\n",
    "\n",
    "    ax.hist(\n",
    "        x_signal[:, :, index].flatten()[x_signal[:, :, index].flatten() != 0],\n",
    "        bins=100,\n",
    "        label=\"X-Jet\",\n",
    "        histtype=\"step\",\n",
    "    )\n",
    "    ax.hist(\n",
    "        y_signal[:, :, index].flatten()[y_signal[:, :, index].flatten() != 0],\n",
    "        bins=100,\n",
    "        label=\"Y-Jet\",\n",
    "        histtype=\"step\",\n",
    "    )\n",
    "    ax.set_xlabel(f\"{label_map[str(index)]}\")\n",
    "    if index == 0 or index == 1 or index == 2:\n",
    "        ax.set_yscale(\"log\")\n",
    "    ax.set_ylim(\n",
    "        1,\n",
    "    )\n",
    "    if index == 2:\n",
    "        ax.set_ylim(1, 1e7)\n",
    "    if index == 1:\n",
    "        ax.legend(frameon=False)\n",
    "plt.show()"
   ]
  },
  {
   "cell_type": "markdown",
   "metadata": {},
   "source": [
    "## Jet Features"
   ]
  },
  {
   "cell_type": "markdown",
   "metadata": {},
   "source": [
    "### Load and prepare provided features"
   ]
  },
  {
   "cell_type": "code",
   "execution_count": null,
   "metadata": {},
   "outputs": [],
   "source": [
    "path_features = \"/beegfs/desy/user/ewencedr/data/lhco/events_anomalydetection_v2.features.h5\""
   ]
  },
  {
   "cell_type": "code",
   "execution_count": null,
   "metadata": {},
   "outputs": [],
   "source": [
    "df = pd.read_hdf(path_features)\n",
    "print(df.shape)\n",
    "print(\"Memory in GB:\", sum(df.memory_usage(deep=True)) / (1024**3))"
   ]
  },
  {
   "cell_type": "code",
   "execution_count": null,
   "metadata": {},
   "outputs": [],
   "source": [
    "feats = np.array(df)\n",
    "background_feats = feats[feats[..., -1] == 0][:, :-1]\n",
    "signal_feats = feats[feats[..., -1] == 1][:, :-1]\n",
    "print(background_feats.shape)\n",
    "print(signal_feats.shape)"
   ]
  },
  {
   "cell_type": "code",
   "execution_count": null,
   "metadata": {},
   "outputs": [],
   "source": [
    "def to_ptyphim(feats):\n",
    "    \"\"\"px, py, pz, mj --> pt, eta, phi, mj\"\"\"\n",
    "    p3 = feats[:, :3]\n",
    "    e = np.sqrt(feats[:, 0] ** 2 + feats[:, 1] ** 2 + feats[:, 2] ** 2 + feats[:, 3] ** 2)\n",
    "    p4 = np.concatenate((e[:, None], p3), axis=1)\n",
    "    ptyphim = ef.ptyphims_from_p4s(p4, phi_ref=0)\n",
    "    return ptyphim"
   ]
  },
  {
   "cell_type": "code",
   "execution_count": null,
   "metadata": {},
   "outputs": [],
   "source": [
    "feats_x_background = to_ptyphim(background_feats[:, :4])\n",
    "feats_y_background = to_ptyphim(background_feats[:, 7:11])\n",
    "feats_x_signal = to_ptyphim(signal_feats[:, :4])\n",
    "feats_y_signal = to_ptyphim(signal_feats[:, 7:11])"
   ]
  },
  {
   "cell_type": "markdown",
   "metadata": {},
   "source": [
    "### Prepare fastjet data"
   ]
  },
  {
   "cell_type": "code",
   "execution_count": null,
   "metadata": {},
   "outputs": [],
   "source": [
    "jets_x_background = jets_background[:, 0]\n",
    "jets_y_background = jets_background[:, 1]\n",
    "jets_x_signal = jets_signal[:, 0]\n",
    "jets_y_signal = jets_signal[:, 1]"
   ]
  },
  {
   "cell_type": "markdown",
   "metadata": {},
   "source": [
    "alternatively, we can calculate the jet features from the jet constituents directly"
   ]
  },
  {
   "cell_type": "code",
   "execution_count": null,
   "metadata": {},
   "outputs": [],
   "source": [
    "def get_jet_data(consts: np.ndarray) -> np.ndarray:\n",
    "    \"\"\"Calculate jet data from constituent data. (pt, y, phi)->(pt, y, phi, m)\n",
    "\n",
    "    Args:\n",
    "        consts (np.ndarray): constituent data. (pt, y, phi)\n",
    "\n",
    "    Returns:\n",
    "        np.ndarray: jet data. (pt, y, phi, m)\n",
    "    \"\"\"\n",
    "    p4s = ef.p4s_from_ptyphims(consts[..., :3])\n",
    "    sum_p4 = np.sum(p4s, axis=-2)\n",
    "    jet_data = ef.ptyphims_from_p4s(sum_p4, phi_ref=0)\n",
    "    return jet_data"
   ]
  },
  {
   "cell_type": "code",
   "execution_count": null,
   "metadata": {},
   "outputs": [],
   "source": [
    "jets_x_background_calc = get_jet_data(x_background)\n",
    "jets_y_background_calc = get_jet_data(y_background)\n",
    "jets_x_signal_calc = get_jet_data(x_signal)\n",
    "jets_y_signal_calc = get_jet_data(y_signal)"
   ]
  },
  {
   "cell_type": "markdown",
   "metadata": {},
   "source": [
    "### Background"
   ]
  },
  {
   "cell_type": "markdown",
   "metadata": {},
   "source": [
    "#### X-Jet"
   ]
  },
  {
   "cell_type": "code",
   "execution_count": null,
   "metadata": {},
   "outputs": [],
   "source": [
    "fig, axs = plt.subplots(1, 4, figsize=(15, 5))\n",
    "for index, ax in enumerate(axs):\n",
    "    hist1 = ax.hist(feats_x_background[:, index], bins=100, label=\"provided\")\n",
    "    next(ax._get_lines.prop_cycler)\n",
    "    ax.set_xlabel(f\"{label_map[str(index)]}\")\n",
    "    ax.hist(jets_x_background[:, index], bins=hist1[1], histtype=\"step\", label=\"fastjet\")\n",
    "    ax.hist(\n",
    "        jets_x_background_calc[:, index],\n",
    "        bins=hist1[1],\n",
    "        histtype=\"step\",\n",
    "        label=\"calc. from consts.\",\n",
    "    )\n",
    "    ax.set_yscale(\"log\")\n",
    "    if index == 2:\n",
    "        ax.legend(frameon=False)\n",
    "        ax.set_ylim(1e-1, 1e6)\n",
    "plt.tight_layout()\n",
    "plt.show()"
   ]
  },
  {
   "cell_type": "code",
   "execution_count": null,
   "metadata": {},
   "outputs": [],
   "source": [
    "diff_background_x = feats_x_background - jets_x_background\n",
    "diff_background_x_calc = feats_x_background - jets_x_background_calc\n",
    "fig, axs = plt.subplots(1, 4, figsize=(15, 5))\n",
    "for index, ax in enumerate(axs):\n",
    "    next(ax._get_lines.prop_cycler)\n",
    "    next(ax._get_lines.prop_cycler)\n",
    "    hist1 = ax.hist(diff_background_x[:, index], bins=100, label=\"fastjet\", histtype=\"step\")\n",
    "    ax.hist(\n",
    "        diff_background_x_calc[:, index],\n",
    "        bins=hist1[1],\n",
    "        label=\"calc. from consts.\",\n",
    "        histtype=\"step\",\n",
    "    )\n",
    "    ax.set_xlabel(f\"{label_map[str(index)]}\")\n",
    "    ax.set_yscale(\"log\")\n",
    "    if index == 2:\n",
    "        ax.legend(frameon=False)\n",
    "        ax.set_ylim(1e-1, 1e6)\n",
    "plt.tight_layout()\n",
    "plt.show()"
   ]
  },
  {
   "cell_type": "markdown",
   "metadata": {},
   "source": [
    "#### Y-Jet"
   ]
  },
  {
   "cell_type": "code",
   "execution_count": null,
   "metadata": {},
   "outputs": [],
   "source": [
    "fig, axs = plt.subplots(1, 4, figsize=(15, 5))\n",
    "for index, ax in enumerate(axs):\n",
    "    hist1 = ax.hist(feats_y_background[:, index], bins=100, label=\"provided\")\n",
    "    next(ax._get_lines.prop_cycler)\n",
    "    ax.set_xlabel(f\"{label_map[str(index)]}\")\n",
    "    ax.hist(jets_y_background[:, index], bins=hist1[1], histtype=\"step\", label=\"fastjet\")\n",
    "    ax.hist(\n",
    "        jets_y_background_calc[:, index],\n",
    "        bins=hist1[1],\n",
    "        histtype=\"step\",\n",
    "        label=\"calc. from consts.\",\n",
    "    )\n",
    "    ax.set_yscale(\"log\")\n",
    "    if index == 2:\n",
    "        ax.legend(frameon=False)\n",
    "        ax.set_ylim(1e-1, 1e6)\n",
    "plt.tight_layout()\n",
    "plt.show()"
   ]
  },
  {
   "cell_type": "code",
   "execution_count": null,
   "metadata": {},
   "outputs": [],
   "source": [
    "diff_background_y = feats_y_background - jets_y_background\n",
    "diff_background_y_calc = feats_y_background - jets_y_background_calc\n",
    "fig, axs = plt.subplots(1, 4, figsize=(15, 5))\n",
    "for index, ax in enumerate(axs):\n",
    "    next(ax._get_lines.prop_cycler)\n",
    "    next(ax._get_lines.prop_cycler)\n",
    "    hist1 = ax.hist(diff_background_y[:, index], bins=100, label=\"fastjet\", histtype=\"step\")\n",
    "    ax.hist(\n",
    "        diff_background_y_calc[:, index],\n",
    "        bins=hist1[1],\n",
    "        label=\"calc. from consts.\",\n",
    "        histtype=\"step\",\n",
    "    )\n",
    "    ax.set_xlabel(f\"{label_map[str(index)]}\")\n",
    "    ax.set_yscale(\"log\")\n",
    "    if index == 2:\n",
    "        ax.legend(frameon=False)\n",
    "        ax.set_ylim(1e-1, 1e6)\n",
    "plt.tight_layout()\n",
    "plt.show()"
   ]
  },
  {
   "cell_type": "markdown",
   "metadata": {},
   "source": [
    "### Signal"
   ]
  },
  {
   "cell_type": "markdown",
   "metadata": {},
   "source": [
    "#### X-Jet"
   ]
  },
  {
   "cell_type": "code",
   "execution_count": null,
   "metadata": {},
   "outputs": [],
   "source": [
    "fig, axs = plt.subplots(1, 4, figsize=(15, 5))\n",
    "for index, ax in enumerate(axs):\n",
    "    hist1 = ax.hist(feats_x_signal[:, index], bins=100, label=\"provided\")\n",
    "    next(ax._get_lines.prop_cycler)\n",
    "    ax.set_xlabel(f\"{label_map[str(index)]}\")\n",
    "    ax.hist(jets_x_signal[:, index], bins=hist1[1], histtype=\"step\", label=\"fastjet\")\n",
    "    ax.hist(\n",
    "        jets_x_signal_calc[:, index], bins=hist1[1], histtype=\"step\", label=\"calc. from consts.\"\n",
    "    )\n",
    "    ax.set_yscale(\"log\")\n",
    "    if index == 2:\n",
    "        ax.legend(frameon=False)\n",
    "        ax.set_ylim(1e-1, 1e5)\n",
    "plt.tight_layout()\n",
    "plt.show()"
   ]
  },
  {
   "cell_type": "code",
   "execution_count": null,
   "metadata": {},
   "outputs": [],
   "source": [
    "diff_signal_x = feats_x_signal - jets_x_signal\n",
    "diff_signal_x_calc = feats_x_signal - jets_x_signal_calc\n",
    "fig, axs = plt.subplots(1, 4, figsize=(15, 5))\n",
    "for index, ax in enumerate(axs):\n",
    "    next(ax._get_lines.prop_cycler)\n",
    "    next(ax._get_lines.prop_cycler)\n",
    "    hist1 = ax.hist(diff_signal_x[:, index], bins=100, label=\"fastjet\", histtype=\"step\")\n",
    "    ax.hist(\n",
    "        diff_signal_x_calc[:, index], bins=hist1[1], label=\"calc. from consts.\", histtype=\"step\"\n",
    "    )\n",
    "    ax.set_xlabel(f\"{label_map[str(index)]}\")\n",
    "    ax.set_yscale(\"log\")\n",
    "    if index == 2:\n",
    "        ax.legend(frameon=False)\n",
    "        ax.set_ylim(1e-1, 1e6)\n",
    "plt.tight_layout()\n",
    "plt.show()"
   ]
  },
  {
   "cell_type": "markdown",
   "metadata": {},
   "source": [
    "#### Y-Jets"
   ]
  },
  {
   "cell_type": "code",
   "execution_count": null,
   "metadata": {},
   "outputs": [],
   "source": [
    "fig, axs = plt.subplots(1, 4, figsize=(15, 5))\n",
    "for index, ax in enumerate(axs):\n",
    "    hist1 = ax.hist(feats_y_signal[:, index], bins=100, label=\"provided\")\n",
    "    next(ax._get_lines.prop_cycler)\n",
    "    ax.set_xlabel(f\"{label_map[str(index)]}\")\n",
    "    ax.hist(jets_y_signal[:, index], bins=hist1[1], histtype=\"step\", label=\"fastjet\")\n",
    "    ax.hist(\n",
    "        jets_y_signal_calc[:, index], bins=hist1[1], histtype=\"step\", label=\"calc. from consts.\"\n",
    "    )\n",
    "    ax.set_yscale(\"log\")\n",
    "    if index == 2:\n",
    "        ax.legend(frameon=False)\n",
    "        ax.set_ylim(1e-1, 1e5)\n",
    "plt.tight_layout()\n",
    "plt.show()"
   ]
  },
  {
   "cell_type": "code",
   "execution_count": null,
   "metadata": {},
   "outputs": [],
   "source": [
    "diff_signal_y = feats_y_signal - jets_y_signal\n",
    "diff_signal_y_calc = feats_y_signal - jets_y_signal_calc\n",
    "fig, axs = plt.subplots(1, 4, figsize=(15, 5))\n",
    "for index, ax in enumerate(axs):\n",
    "    next(ax._get_lines.prop_cycler)\n",
    "    next(ax._get_lines.prop_cycler)\n",
    "    hist1 = ax.hist(diff_signal_y[:, index], bins=100, label=\"fastjet\", histtype=\"step\")\n",
    "    ax.hist(\n",
    "        diff_signal_y_calc[:, index], bins=hist1[1], label=\"calc. from consts.\", histtype=\"step\"\n",
    "    )\n",
    "    ax.set_xlabel(f\"{label_map[str(index)]}\")\n",
    "    ax.set_yscale(\"log\")\n",
    "    if index == 2:\n",
    "        ax.legend(frameon=False)\n",
    "        ax.set_ylim(1e-1, 1e6)\n",
    "plt.tight_layout()\n",
    "plt.show()"
   ]
  },
  {
   "cell_type": "markdown",
   "metadata": {},
   "source": [
    "# Calculate Relative Coordinates\n",
    "In the following, the coordinates for the constituents will be calculated relative to the jet axis. The relative coordinates are useful because they result in distributions that are easier to model with a neural network. The relative coordinates are defined as follows:\n",
    "\\begin{equation}\n",
    "    \\phi_{rel} = \\phi / \\phi_{jet}\n",
    "\\end{equation}\n",
    "\n",
    "\\begin{equation}\n",
    "    \\eta_{rel} = \\eta - \\eta_{jet}\n",
    "\\end{equation}\n",
    "\n",
    "\\begin{equation}\n",
    "    p_{T,rel} = p_T - p_{T,jet}\n",
    "\\end{equation} "
   ]
  },
  {
   "cell_type": "code",
   "execution_count": null,
   "metadata": {},
   "outputs": [],
   "source": [
    "# calculate jet features\n",
    "jet_data_calc = get_jet_data(consts)"
   ]
  },
  {
   "cell_type": "code",
   "execution_count": null,
   "metadata": {},
   "outputs": [],
   "source": [
    "# calculate relative pt, eta, phi\n",
    "rel_pt = consts[..., 0] / np.expand_dims(jet_data_calc[..., 0], axis=-1)\n",
    "rel_eta = consts[..., 1] - np.expand_dims(jet_data_calc[..., 1], axis=-1)\n",
    "rel_phi = consts[..., 2] - np.expand_dims(jet_data_calc[..., 2], axis=-1)\n",
    "rel_pt = np.expand_dims(rel_pt, axis=-1)\n",
    "rel_eta = np.expand_dims(rel_eta, axis=-1)\n",
    "rel_phi = np.expand_dims(rel_phi, axis=-1)"
   ]
  },
  {
   "cell_type": "code",
   "execution_count": null,
   "metadata": {},
   "outputs": [],
   "source": [
    "# wrap phi between -pi and pi\n",
    "rel_phi = np.where(\n",
    "    rel_phi > np.pi,\n",
    "    rel_phi - 2 * np.pi,\n",
    "    rel_phi,\n",
    ")\n",
    "rel_phi = np.where(\n",
    "    rel_phi < -np.pi,\n",
    "    rel_phi + 2 * np.pi,\n",
    "    rel_phi,\n",
    ")"
   ]
  },
  {
   "cell_type": "code",
   "execution_count": null,
   "metadata": {},
   "outputs": [],
   "source": [
    "# fix the masking\n",
    "rel_phi = rel_phi * mask\n",
    "rel_eta = rel_eta * mask"
   ]
  },
  {
   "cell_type": "code",
   "execution_count": null,
   "metadata": {},
   "outputs": [],
   "source": [
    "consts_rel = np.concatenate((rel_pt, rel_eta, rel_phi), axis=-1)\n",
    "print(consts_rel.shape)"
   ]
  },
  {
   "cell_type": "markdown",
   "metadata": {},
   "source": [
    "## Save Data"
   ]
  },
  {
   "cell_type": "code",
   "execution_count": null,
   "metadata": {},
   "outputs": [],
   "source": [
    "consts_rel_background = consts_rel[:len_bckg]\n",
    "consts_rel_signal = consts_rel[len_bckg:]\n",
    "jets_calc_background = jet_data_calc[:len_bckg]\n",
    "jets_calc_signal = jet_data_calc[len_bckg:]"
   ]
  },
  {
   "cell_type": "code",
   "execution_count": null,
   "metadata": {},
   "outputs": [],
   "source": [
    "final_path_rel = \"/beegfs/desy/user/ewencedr/data/lhco/final_data/\""
   ]
  },
  {
   "cell_type": "code",
   "execution_count": null,
   "metadata": {},
   "outputs": [],
   "source": [
    "background_path_rel = final_path + \"processed_data_background_rel.h5\"\n",
    "signal_path_rel = final_path + \"processed_data_signal_rel.h5\"\n",
    "with h5py.File(background_path_rel, \"w\") as f:\n",
    "    f.create_dataset(\"jet_data\", data=jets_calc_background)\n",
    "    f.create_dataset(\"constituents\", data=consts_rel_background)\n",
    "    f.create_dataset(\"mask\", data=mask_background)\n",
    "with h5py.File(signal_path_rel, \"w\") as f:\n",
    "    f.create_dataset(\"jet_data\", data=jets_calc_signal)\n",
    "    f.create_dataset(\"constituents\", data=consts_rel_signal)\n",
    "    f.create_dataset(\"mask\", data=mask_signal)"
   ]
  },
  {
   "cell_type": "markdown",
   "metadata": {},
   "source": [
    "## Plots Constituents"
   ]
  },
  {
   "cell_type": "code",
   "execution_count": null,
   "metadata": {},
   "outputs": [],
   "source": [
    "# these will be the x-axis labels for the histograms\n",
    "label_map_rel = {\n",
    "    \"0\": r\"$p_\\mathrm{T}^\\mathrm{rel}$\",\n",
    "    \"1\": r\"$\\eta^\\mathrm{rel}$\",\n",
    "    \"2\": r\"$\\phi^\\mathrm{rel}$\",\n",
    "    \"3\": \"$m$\",\n",
    "}"
   ]
  },
  {
   "cell_type": "code",
   "execution_count": null,
   "metadata": {},
   "outputs": [],
   "source": [
    "consts_rel_background_x = consts_rel_background[:, 0]\n",
    "consts_rel_background_y = consts_rel_background[:, 1]\n",
    "consts_rel_signal_x = consts_rel_signal[:, 0]\n",
    "consts_rel_signal_y = consts_rel_signal[:, 1]"
   ]
  },
  {
   "cell_type": "markdown",
   "metadata": {},
   "source": [
    "### Background"
   ]
  },
  {
   "cell_type": "code",
   "execution_count": null,
   "metadata": {},
   "outputs": [],
   "source": [
    "fig, axs = plt.subplots(1, 3, figsize=(15, 5))\n",
    "\n",
    "for index, ax in enumerate(axs):\n",
    "    # skip colours in the cycle\n",
    "    next(ax._get_lines.prop_cycler)\n",
    "    next(ax._get_lines.prop_cycler)\n",
    "\n",
    "    ax.hist(\n",
    "        consts_rel_background_x[..., index].flatten()[\n",
    "            consts_rel_background_x[..., index].flatten() != 0\n",
    "        ],\n",
    "        bins=100,\n",
    "        label=\"X-Jet\",\n",
    "        histtype=\"step\",\n",
    "    )\n",
    "    ax.hist(\n",
    "        consts_rel_background_y[..., index].flatten()[\n",
    "            consts_rel_background_y[..., index].flatten() != 0\n",
    "        ],\n",
    "        bins=100,\n",
    "        label=\"Y-Jet\",\n",
    "        histtype=\"step\",\n",
    "    )\n",
    "\n",
    "    ax.set_xlabel(f\"{label_map_rel[str(index)]}\")\n",
    "    if index == 0 or index == 1 or index == 2:\n",
    "        ax.set_yscale(\"log\")\n",
    "    ax.set_ylim(\n",
    "        1,\n",
    "    )\n",
    "    if index == 1:\n",
    "        ax.legend(frameon=False)\n",
    "plt.show()"
   ]
  },
  {
   "cell_type": "markdown",
   "metadata": {},
   "source": [
    "### Signal"
   ]
  },
  {
   "cell_type": "code",
   "execution_count": null,
   "metadata": {},
   "outputs": [],
   "source": [
    "fig, axs = plt.subplots(1, 3, figsize=(15, 5))\n",
    "\n",
    "for index, ax in enumerate(axs):\n",
    "    # skip colours in the cycle\n",
    "    next(ax._get_lines.prop_cycler)\n",
    "    next(ax._get_lines.prop_cycler)\n",
    "\n",
    "    ax.hist(\n",
    "        consts_rel_signal_x[..., index].flatten()[consts_rel_signal_x[..., index].flatten() != 0],\n",
    "        bins=100,\n",
    "        label=\"X-Jet\",\n",
    "        histtype=\"step\",\n",
    "    )\n",
    "    ax.hist(\n",
    "        consts_rel_signal_y[..., index].flatten()[consts_rel_signal_y[..., index].flatten() != 0],\n",
    "        bins=100,\n",
    "        label=\"Y-Jet\",\n",
    "        histtype=\"step\",\n",
    "    )\n",
    "\n",
    "    ax.set_xlabel(f\"{label_map_rel[str(index)]}\")\n",
    "    if index == 0 or index == 1 or index == 2:\n",
    "        ax.set_yscale(\"log\")\n",
    "    ax.set_ylim(\n",
    "        1,\n",
    "    )\n",
    "    if index == 1:\n",
    "        ax.legend(frameon=False)\n",
    "plt.show()"
   ]
  },
  {
   "cell_type": "markdown",
   "metadata": {},
   "source": [
    "## Plots Jet\n",
    "One can also calculate the jet features based on the relative constituents."
   ]
  },
  {
   "cell_type": "code",
   "execution_count": null,
   "metadata": {},
   "outputs": [],
   "source": [
    "jet_data_rel = get_jet_data(consts_rel)\n",
    "print(jet_data_rel.shape)"
   ]
  },
  {
   "cell_type": "code",
   "execution_count": null,
   "metadata": {},
   "outputs": [],
   "source": [
    "jets_rel_background_x = jet_data_rel[:len_bckg, 0]\n",
    "jets_rel_background_y = jet_data_rel[:len_bckg, 1]\n",
    "jets_rel_signal_x = jet_data_rel[:len_bckg, 0]\n",
    "jets_rel_signal_y = jet_data_rel[:len_bckg, 1]"
   ]
  },
  {
   "cell_type": "markdown",
   "metadata": {},
   "source": [
    "### Background"
   ]
  },
  {
   "cell_type": "code",
   "execution_count": null,
   "metadata": {},
   "outputs": [],
   "source": [
    "fig, axs = plt.subplots(1, 3, figsize=(15, 5))\n",
    "\n",
    "for index, ax in enumerate(axs):\n",
    "    # skip colours in the cycle\n",
    "    next(ax._get_lines.prop_cycler)\n",
    "    next(ax._get_lines.prop_cycler)\n",
    "\n",
    "    ax.hist(\n",
    "        jets_rel_background_x[..., index].flatten()[\n",
    "            jets_rel_background_x[..., index].flatten() != 0\n",
    "        ],\n",
    "        bins=100,\n",
    "        label=\"X-Jet\",\n",
    "        histtype=\"step\",\n",
    "    )\n",
    "    ax.hist(\n",
    "        jets_rel_background_y[..., index].flatten()[\n",
    "            jets_rel_background_y[..., index].flatten() != 0\n",
    "        ],\n",
    "        bins=100,\n",
    "        label=\"Y-Jet\",\n",
    "        histtype=\"step\",\n",
    "    )\n",
    "\n",
    "    ax.set_xlabel(f\"{label_map_rel[str(index)]}\")\n",
    "    if index == 0 or index == 1 or index == 2:\n",
    "        ax.set_yscale(\"log\")\n",
    "    ax.set_ylim(\n",
    "        1,\n",
    "    )\n",
    "    if index == 1:\n",
    "        ax.legend(frameon=False)\n",
    "plt.show()"
   ]
  },
  {
   "cell_type": "markdown",
   "metadata": {},
   "source": [
    "### Signal"
   ]
  },
  {
   "cell_type": "code",
   "execution_count": null,
   "metadata": {},
   "outputs": [],
   "source": [
    "fig, axs = plt.subplots(1, 3, figsize=(15, 5))\n",
    "\n",
    "for index, ax in enumerate(axs):\n",
    "    # skip colours in the cycle\n",
    "    next(ax._get_lines.prop_cycler)\n",
    "    next(ax._get_lines.prop_cycler)\n",
    "\n",
    "    ax.hist(\n",
    "        jets_rel_signal_x[..., index].flatten()[jets_rel_signal_x[..., index].flatten() != 0],\n",
    "        bins=100,\n",
    "        label=\"X-Jet\",\n",
    "        histtype=\"step\",\n",
    "    )\n",
    "    ax.hist(\n",
    "        jets_rel_signal_y[..., index].flatten()[jets_rel_signal_y[..., index].flatten() != 0],\n",
    "        bins=100,\n",
    "        label=\"Y-Jet\",\n",
    "        histtype=\"step\",\n",
    "    )\n",
    "\n",
    "    ax.set_xlabel(f\"{label_map_rel[str(index)]}\")\n",
    "    if index == 0 or index == 1 or index == 2:\n",
    "        ax.set_yscale(\"log\")\n",
    "    ax.set_ylim(\n",
    "        1,\n",
    "    )\n",
    "    if index == 1:\n",
    "        ax.legend(frameon=False)\n",
    "plt.show()"
   ]
  }
 ],
 "metadata": {
  "kernelspec": {
   "display_name": "pllhome",
   "language": "python",
   "name": "python3"
  },
  "language_info": {
   "codemirror_mode": {
    "name": "ipython",
    "version": 3
   },
   "file_extension": ".py",
   "mimetype": "text/x-python",
   "name": "python",
   "nbconvert_exporter": "python",
   "pygments_lexer": "ipython3",
   "version": "3.10.6"
  }
 },
 "nbformat": 4,
 "nbformat_minor": 2
}
