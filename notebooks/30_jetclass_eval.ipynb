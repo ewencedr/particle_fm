{
 "cells": [
  {
   "cell_type": "code",
   "execution_count": null,
   "metadata": {},
   "outputs": [],
   "source": [
    "import os\n",
    "import sys\n",
    "\n",
    "sys.path.append(\"../\")\n",
    "\n",
    "%matplotlib inline\n",
    "%load_ext autoreload\n",
    "%autoreload 2\n",
    "\n",
    "import hydra\n",
    "import numpy as np\n",
    "import pytorch_lightning as pl\n",
    "import torch\n",
    "\n",
    "# set env variable DATA_DIR again because of hydra\n",
    "from dotenv import load_dotenv\n",
    "from omegaconf import OmegaConf\n",
    "\n",
    "load_dotenv()\n",
    "os.environ[\"DATA_DIR\"] = os.environ.get(\"DATA_DIR\")\n",
    "\n",
    "# plots and metrics\n",
    "import matplotlib.pyplot as plt\n",
    "\n",
    "from src.data.components import calculate_all_wasserstein_metrics\n",
    "from src.utils.data_generation import generate_data\n",
    "from src.utils.plotting import apply_mpl_styles, create_and_plot_data, plot_single_jets\n",
    "\n",
    "apply_mpl_styles()"
   ]
  },
  {
   "cell_type": "code",
   "execution_count": null,
   "metadata": {},
   "outputs": [],
   "source": [
    "experiment = \"jetclass_cond.yaml\"\n",
    "model_name_for_saving = \"nb_fm_tops_jetclass\"\n",
    "\n",
    "# load everything from experiment config\n",
    "with hydra.initialize(version_base=None, config_path=\"../configs/\"):\n",
    "    cfg = hydra.compose(config_name=\"train.yaml\", overrides=[f\"experiment={experiment}\"])\n",
    "    print(OmegaConf.to_yaml(cfg))\n",
    "\n",
    "datamodule = hydra.utils.instantiate(cfg.data)\n",
    "# datamodule.hparams.number_of_used_jets = 1000\n",
    "model = hydra.utils.instantiate(cfg.model)\n",
    "datamodule.setup()"
   ]
  },
  {
   "cell_type": "code",
   "execution_count": null,
   "metadata": {},
   "outputs": [],
   "source": [
    "test_data = np.array(datamodule.tensor_test)\n",
    "test_mask = np.array(datamodule.mask_test)\n",
    "test_cond = np.array(datamodule.tensor_conditioning_test)\n",
    "val_data = np.array(datamodule.tensor_val)\n",
    "val_mask = np.array(datamodule.mask_val)\n",
    "val_cond = np.array(datamodule.tensor_conditioning_val)\n",
    "train_data = np.array(datamodule.tensor_train)\n",
    "train_mask = np.array(datamodule.mask_train)\n",
    "train_cond = np.array(datamodule.tensor_conditioning_train)\n",
    "means = np.array(datamodule.means)\n",
    "stds = np.array(datamodule.stds)\n",
    "\n",
    "print(test_data.shape)\n",
    "print(test_mask.shape)\n",
    "print(test_cond.shape)\n",
    "print(val_data.shape)\n",
    "print(val_mask.shape)\n",
    "print(val_cond.shape)\n",
    "print(train_data.shape)\n",
    "print(train_mask.shape)\n",
    "print(train_cond.shape)\n",
    "print(means)\n",
    "print(stds)"
   ]
  },
  {
   "cell_type": "code",
   "execution_count": null,
   "metadata": {},
   "outputs": [],
   "source": [
    "ckpt = \"/beegfs/desy/user/birkjosc/epic-fm/logs/jetclass_flow_matching/runs/2023-07-27_23-46-46/checkpoints/last-EMA.ckpt\"\n",
    "model = model.load_from_checkpoint(ckpt)"
   ]
  },
  {
   "cell_type": "code",
   "execution_count": null,
   "metadata": {},
   "outputs": [],
   "source": [
    "factor = 1\n",
    "# chosse between test and val\n",
    "mask_real = test_mask\n",
    "data_real = test_data\n",
    "cond_real = test_cond\n",
    "\n",
    "# increase size for better statistics\n",
    "big_mask_real = np.repeat(mask_real, factor, axis=0)\n",
    "big_data_real = np.repeat(data_real, factor, axis=0)\n",
    "big_cond_real = np.repeat(cond_real, factor, axis=0)"
   ]
  },
  {
   "cell_type": "code",
   "execution_count": null,
   "metadata": {},
   "outputs": [],
   "source": [
    "data_generated, generation_time = generate_data(\n",
    "    model,\n",
    "    num_jet_samples=factor * len(mask_real),\n",
    "    batch_size=1000,\n",
    "    cond=torch.tensor(big_cond_real),\n",
    "    variable_set_sizes=True,\n",
    "    mask=torch.tensor(big_mask_real),\n",
    "    normalized_data=False,\n",
    "    means=means,\n",
    "    stds=stds,\n",
    "    ode_solver=\"midpoint\",\n",
    "    ode_steps=200,\n",
    ")"
   ]
  },
  {
   "cell_type": "code",
   "execution_count": null,
   "metadata": {},
   "outputs": [],
   "source": [
    "fig, ax = plt.subplots(1, 3, figsize=(12, 4))\n",
    "ax = ax.flatten()\n",
    "hist_kwargs = dict(bins=100, alpha=0.5, density=True)\n",
    "for i in range(3):\n",
    "    ax[i].hist(data_real[:, :, i][mask_real[:, :, 0] != 0].flatten(), **hist_kwargs, label=\"real\")\n",
    "    ax[i].hist(\n",
    "        data_generated[:, :, i][mask_real[:, :, 0] != 0].flatten(),\n",
    "        **hist_kwargs,\n",
    "        label=\"generated\",\n",
    "        histtype=\"step\",\n",
    "    )\n",
    "    ax[i].set_yscale(\"log\")\n",
    "ax[2].legend(frameon=False)\n",
    "fig.tight_layout()"
   ]
  },
  {
   "cell_type": "code",
   "execution_count": null,
   "metadata": {},
   "outputs": [],
   "source": [
    "w_dists_big = calculate_all_wasserstein_metrics(\n",
    "    data_real[..., :3],\n",
    "    data_generated[..., :3],\n",
    "    None,\n",
    "    None,\n",
    "    num_eval_samples=len(data_real),\n",
    "    num_batches=factor,\n",
    "    calculate_efps=True,\n",
    "    use_masks=False,\n",
    ")\n",
    "\n",
    "print(f\"W-Dist m: {w_dists_big['w1m_mean']:4.3E} +- {w_dists_big['w1m_std']:4.3E}\")\n",
    "print(f\"W-Dist p: {w_dists_big['w1p_mean']:4.3E} +- {w_dists_big['w1p_std']:4.3E}\")\n",
    "print(f\"W-Dist efp: {w_dists_big['w1efp_mean']:4.3E} +- {w_dists_big['w1efp_std']:4.3E}\")"
   ]
  },
  {
   "cell_type": "code",
   "execution_count": null,
   "metadata": {},
   "outputs": [],
   "source": [
    "w_dists_big_non_averaged = calculate_all_wasserstein_metrics(\n",
    "    data_real[..., :3],\n",
    "    data_generated[..., :3],\n",
    "    None,\n",
    "    None,\n",
    "    num_eval_samples=len(data_real),\n",
    "    num_batches=factor,\n",
    "    calculate_efps=True,\n",
    "    use_masks=False,\n",
    ")\n",
    "w_dists_big_non_averaged"
   ]
  },
  {
   "cell_type": "code",
   "execution_count": null,
   "metadata": {},
   "outputs": [],
   "source": []
  }
 ],
 "metadata": {
  "kernelspec": {
   "display_name": "base",
   "language": "python",
   "name": "python3"
  },
  "language_info": {
   "codemirror_mode": {
    "name": "ipython",
    "version": 3
   },
   "file_extension": ".py",
   "mimetype": "text/x-python",
   "name": "python",
   "nbconvert_exporter": "python",
   "pygments_lexer": "ipython3",
   "version": "3.10.8"
  }
 },
 "nbformat": 4,
 "nbformat_minor": 2
}
