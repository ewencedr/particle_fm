{
 "cells": [
  {
   "cell_type": "markdown",
   "metadata": {},
   "source": [
    "# LHCO Cathode Generation Pipeline\n",
    "After the particle level models and the jet feature models have been trained, the final step is to run the whole generation pipeline. This is the purpose of this notebook."
   ]
  },
  {
   "cell_type": "markdown",
   "metadata": {},
   "source": [
    "## Imports"
   ]
  },
  {
   "cell_type": "code",
   "execution_count": null,
   "metadata": {},
   "outputs": [],
   "source": [
    "import os\n",
    "import sys\n",
    "\n",
    "sys.path.append(\"../\")\n",
    "\n",
    "%matplotlib inline\n",
    "%load_ext autoreload\n",
    "%autoreload 2"
   ]
  },
  {
   "cell_type": "code",
   "execution_count": null,
   "metadata": {},
   "outputs": [],
   "source": [
    "from os.path import join\n",
    "\n",
    "import energyflow as ef\n",
    "import h5py\n",
    "import hydra\n",
    "import numpy as np\n",
    "import pytorch_lightning as pl\n",
    "import torch\n",
    "from omegaconf import OmegaConf\n",
    "from sklearn.neighbors import KernelDensity"
   ]
  },
  {
   "cell_type": "code",
   "execution_count": null,
   "metadata": {},
   "outputs": [],
   "source": [
    "# plots and metrics\n",
    "import matplotlib.pyplot as plt\n",
    "\n",
    "from src.data.components import (\n",
    "    calculate_all_wasserstein_metrics,\n",
    "    inverse_normalize_tensor,\n",
    "    normalize_tensor,\n",
    ")\n",
    "from src.utils.data_generation import generate_data\n",
    "from src.utils.plotting import apply_mpl_styles, plot_data, prepare_data_for_plotting\n",
    "\n",
    "apply_mpl_styles()"
   ]
  },
  {
   "cell_type": "code",
   "execution_count": null,
   "metadata": {},
   "outputs": [],
   "source": [
    "# set env variable DATA_DIR again because of hydra\n",
    "from dotenv import load_dotenv\n",
    "\n",
    "load_dotenv()\n",
    "os.environ[\"DATA_DIR\"] = os.environ.get(\"DATA_DIR\")"
   ]
  },
  {
   "cell_type": "code",
   "execution_count": null,
   "metadata": {},
   "outputs": [],
   "source": [
    "data_folder = os.environ.get(\"DATA_DIR\")"
   ]
  },
  {
   "cell_type": "markdown",
   "metadata": {},
   "source": [
    "# Generate mjj samples\n",
    "We fit a KDE to the mjj distribution of the signal and background samples. We then sample from the KDE to generate new mjj samples in the signal region."
   ]
  },
  {
   "cell_type": "code",
   "execution_count": null,
   "metadata": {},
   "outputs": [],
   "source": [
    "n_samples = 200_000"
   ]
  },
  {
   "cell_type": "code",
   "execution_count": null,
   "metadata": {},
   "outputs": [],
   "source": [
    "path = f\"{data_folder}/lhco/final_data/processed_data_background_rel.h5\"\n",
    "with h5py.File(path, \"r\") as f:\n",
    "    jets = f[\"jet_data\"][:]"
   ]
  },
  {
   "cell_type": "code",
   "execution_count": null,
   "metadata": {},
   "outputs": [],
   "source": [
    "p4_jets = ef.p4s_from_ptyphims(jets)"
   ]
  },
  {
   "cell_type": "code",
   "execution_count": null,
   "metadata": {},
   "outputs": [],
   "source": [
    "sum_p4 = p4_jets[:, 0] + p4_jets[:, 1]\n",
    "mjj = ef.ms_from_p4s(sum_p4)"
   ]
  },
  {
   "cell_type": "code",
   "execution_count": null,
   "metadata": {},
   "outputs": [],
   "source": [
    "args_to_keep = ((mjj < 3300) & (mjj > 2300)) | ((mjj > 3700) & (mjj < 5000))\n",
    "args_to_keep_sr = (mjj > 3300) & (mjj < 3700)"
   ]
  },
  {
   "cell_type": "code",
   "execution_count": null,
   "metadata": {},
   "outputs": [],
   "source": [
    "mjj_sb = mjj[args_to_keep]\n",
    "mjj_sr = mjj[args_to_keep_sr]\n",
    "args_to_keep_sb_sr = args_to_keep | args_to_keep_sr\n",
    "mjj_sb_sr = mjj[args_to_keep_sb_sr]"
   ]
  },
  {
   "cell_type": "markdown",
   "metadata": {},
   "source": [
    "# Particle Feature Model"
   ]
  },
  {
   "cell_type": "markdown",
   "metadata": {},
   "source": [
    "### Load Models"
   ]
  },
  {
   "cell_type": "code",
   "execution_count": null,
   "metadata": {},
   "outputs": [],
   "source": [
    "experiment_x = \"/lhco/lhco_x_jet.yaml\"\n",
    "experiment_y = \"/lhco/lhco_y_jet.yaml\""
   ]
  },
  {
   "cell_type": "code",
   "execution_count": null,
   "metadata": {},
   "outputs": [],
   "source": [
    "# load everything from experiment config\n",
    "with hydra.initialize(version_base=None, config_path=\"../configs/\"):\n",
    "    cfg_x = hydra.compose(config_name=\"train.yaml\", overrides=[f\"experiment={experiment_x}\"])\n",
    "    # print(OmegaConf.to_yaml(cfg_x))"
   ]
  },
  {
   "cell_type": "code",
   "execution_count": null,
   "metadata": {},
   "outputs": [],
   "source": [
    "# load everything from experiment config\n",
    "with hydra.initialize(version_base=None, config_path=\"../configs/\"):\n",
    "    cfg_y = hydra.compose(config_name=\"train.yaml\", overrides=[f\"experiment={experiment_y}\"])\n",
    "    # print(OmegaConf.to_yaml(cfg_y))"
   ]
  },
  {
   "cell_type": "code",
   "execution_count": null,
   "metadata": {},
   "outputs": [],
   "source": [
    "datamodule_x = hydra.utils.instantiate(cfg_x.data)\n",
    "model_x = hydra.utils.instantiate(cfg_x.model)"
   ]
  },
  {
   "cell_type": "code",
   "execution_count": null,
   "metadata": {},
   "outputs": [],
   "source": [
    "datamodule_y = hydra.utils.instantiate(cfg_y.data)\n",
    "model_y = hydra.utils.instantiate(cfg_y.model)"
   ]
  },
  {
   "cell_type": "code",
   "execution_count": null,
   "metadata": {},
   "outputs": [],
   "source": [
    "datamodule_x.setup()"
   ]
  },
  {
   "cell_type": "code",
   "execution_count": null,
   "metadata": {},
   "outputs": [],
   "source": [
    "datamodule_y.setup()"
   ]
  },
  {
   "cell_type": "markdown",
   "metadata": {},
   "source": [
    "### Load checkpoint"
   ]
  },
  {
   "cell_type": "code",
   "execution_count": null,
   "metadata": {},
   "outputs": [],
   "source": [
    "ckpt_x = (\n",
    "    \"/beegfs/desy/user/ewencedr/deep-learning/logs/lhco x jet mass new cut\"\n",
    "    \" interpolate/runs/2023-08-16_02-00-37/checkpoints/last-EMA.ckpt\"\n",
    ")\n",
    "model_x = model_x.load_from_checkpoint(ckpt_x)"
   ]
  },
  {
   "cell_type": "code",
   "execution_count": null,
   "metadata": {},
   "outputs": [],
   "source": [
    "ckpt_y = (\n",
    "    \"/beegfs/desy/user/ewencedr/deep-learning/logs/lhco y jet mass new cut\"\n",
    "    \" interpolate/runs/2023-08-16_03-49-00/checkpoints/epoch_2717_loss_16.28091-EMA.ckpt\"\n",
    ")\n",
    "model_y = model_y.load_from_checkpoint(ckpt_y)"
   ]
  },
  {
   "cell_type": "markdown",
   "metadata": {},
   "source": [
    "### Generate Data"
   ]
  },
  {
   "cell_type": "code",
   "execution_count": null,
   "metadata": {},
   "outputs": [],
   "source": [
    "n_samples_x = n_samples\n",
    "n_samples_y = n_samples"
   ]
  },
  {
   "cell_type": "code",
   "execution_count": null,
   "metadata": {},
   "outputs": [],
   "source": [
    "print(len(datamodule_x.mask_train_sr))\n",
    "print(len(datamodule_x.mask_test_sr))"
   ]
  },
  {
   "cell_type": "code",
   "execution_count": null,
   "metadata": {},
   "outputs": [],
   "source": [
    "cond_x = torch.concat(\n",
    "    (\n",
    "        datamodule_x.tensor_conditioning_train_sr,\n",
    "        datamodule_x.tensor_conditioning_val_sr,\n",
    "        datamodule_x.tensor_conditioning_test_sr,\n",
    "    )\n",
    ")\n",
    "mask_x = torch.cat(\n",
    "    (datamodule_x.mask_train_sr, datamodule_x.mask_val_sr, datamodule_x.mask_test_sr)\n",
    ")"
   ]
  },
  {
   "cell_type": "code",
   "execution_count": null,
   "metadata": {},
   "outputs": [],
   "source": [
    "print(cond_x.shape)\n",
    "print(mask_x.shape)"
   ]
  },
  {
   "cell_type": "code",
   "execution_count": null,
   "metadata": {},
   "outputs": [],
   "source": [
    "torch.manual_seed(9999)\n",
    "data_x, generation_time_x = generate_data(\n",
    "    model_x,\n",
    "    num_jet_samples=len(mask_x),\n",
    "    batch_size=2048,\n",
    "    cond=cond_x,\n",
    "    variable_set_sizes=datamodule_x.hparams.variable_jet_sizes,\n",
    "    mask=mask_x,\n",
    "    normalized_data=datamodule_x.hparams.normalize,\n",
    "    means=datamodule_x.means,\n",
    "    stds=datamodule_x.stds,\n",
    "    ode_solver=\"midpoint\",\n",
    "    ode_steps=100,\n",
    ")"
   ]
  },
  {
   "cell_type": "code",
   "execution_count": null,
   "metadata": {},
   "outputs": [],
   "source": [
    "path_x = f\"{data_folder}/lhco/generated/x_data_datacond.h5\""
   ]
  },
  {
   "cell_type": "code",
   "execution_count": null,
   "metadata": {},
   "outputs": [],
   "source": [
    "print(mjj_sr.shape)"
   ]
  },
  {
   "cell_type": "code",
   "execution_count": null,
   "metadata": {},
   "outputs": [],
   "source": [
    "# with h5py.File(path_x, \"w\") as f:\n",
    "#    f.create_dataset(\"data\", data=data_x)\n",
    "#    f.create_dataset(\"generation_time\", data=generation_time_x)\n",
    "#    f.create_dataset(\"mask\", data=mask_x)\n",
    "#    f.create_dataset(\"cond\", data=cond_x)\n",
    "#    f.create_dataset(\"mjj\", data=mjj_sr)"
   ]
  },
  {
   "cell_type": "code",
   "execution_count": null,
   "metadata": {},
   "outputs": [],
   "source": [
    "with h5py.File(path_x, \"r\") as f:\n",
    "    data_x = f[\"data\"][:]"
   ]
  },
  {
   "cell_type": "code",
   "execution_count": null,
   "metadata": {},
   "outputs": [],
   "source": [
    "print(data_x.shape)"
   ]
  },
  {
   "cell_type": "code",
   "execution_count": null,
   "metadata": {},
   "outputs": [],
   "source": [
    "cond_y = torch.concat(\n",
    "    (\n",
    "        datamodule_y.tensor_conditioning_train_sr,\n",
    "        datamodule_y.tensor_conditioning_val_sr,\n",
    "        datamodule_y.tensor_conditioning_test_sr,\n",
    "    )\n",
    ")\n",
    "mask_y = torch.cat(\n",
    "    (datamodule_y.mask_train_sr, datamodule_y.mask_val_sr, datamodule_y.mask_test_sr)\n",
    ")"
   ]
  },
  {
   "cell_type": "code",
   "execution_count": null,
   "metadata": {},
   "outputs": [],
   "source": [
    "print(cond_y.shape)\n",
    "print(mask_y.shape)"
   ]
  },
  {
   "cell_type": "code",
   "execution_count": null,
   "metadata": {},
   "outputs": [],
   "source": [
    "torch.manual_seed(9999)\n",
    "data_y, generation_time_y = generate_data(\n",
    "    model_y,\n",
    "    num_jet_samples=len(mask_y),\n",
    "    batch_size=2048,\n",
    "    cond=cond_y,\n",
    "    variable_set_sizes=datamodule_y.hparams.variable_jet_sizes,\n",
    "    mask=mask_y,\n",
    "    normalized_data=datamodule_y.hparams.normalize,\n",
    "    means=datamodule_y.means,\n",
    "    stds=datamodule_y.stds,\n",
    "    ode_solver=\"midpoint\",\n",
    "    ode_steps=100,\n",
    ")"
   ]
  },
  {
   "cell_type": "code",
   "execution_count": null,
   "metadata": {},
   "outputs": [],
   "source": [
    "path_y = f\"{data_folder}/lhco/generated/y_data_datacond.h5\""
   ]
  },
  {
   "cell_type": "code",
   "execution_count": null,
   "metadata": {},
   "outputs": [],
   "source": [
    "# with h5py.File(path_y, \"w\") as f:\n",
    "#    f.create_dataset(\"data\", data=data_y)\n",
    "#    f.create_dataset(\"generation_time\", data=generation_time_y)\n",
    "#    f.create_dataset(\"mask\", data=mask_y)\n",
    "#    f.create_dataset(\"cond\", data=cond_y)\n",
    "#    f.create_dataset(\"mjj\", data=mjj_sr)"
   ]
  },
  {
   "cell_type": "code",
   "execution_count": null,
   "metadata": {},
   "outputs": [],
   "source": [
    "with h5py.File(path_y, \"r\") as f:\n",
    "    data_y = f[\"data\"][:]"
   ]
  },
  {
   "cell_type": "code",
   "execution_count": null,
   "metadata": {},
   "outputs": [],
   "source": [
    "print(data_y.shape)"
   ]
  },
  {
   "cell_type": "code",
   "execution_count": null,
   "metadata": {},
   "outputs": [],
   "source": [
    "print(np.sum(data_x[:, :, 2] > 1))"
   ]
  },
  {
   "cell_type": "code",
   "execution_count": null,
   "metadata": {},
   "outputs": [],
   "source": [
    "np.min(data_y[:, :, 2][data_y[:, :, 2] > 0.0])"
   ]
  },
  {
   "cell_type": "markdown",
   "metadata": {},
   "source": [
    "remove unphysical values"
   ]
  },
  {
   "cell_type": "code",
   "execution_count": null,
   "metadata": {},
   "outputs": [],
   "source": [
    "data_x[data_x[:, :, 2] < 0] = np.min(\n",
    "    datamodule_x.tensor_train.numpy()[:, :, 2][datamodule_x.tensor_train.numpy()[:, :, 2] > 0.0]\n",
    ")\n",
    "data_x[data_x[:, :, 2] > 1] = np.max(\n",
    "    datamodule_x.tensor_train.numpy()[:, :, 2][datamodule_x.tensor_train.numpy()[:, :, 2] < 1.0]\n",
    ")"
   ]
  },
  {
   "cell_type": "code",
   "execution_count": null,
   "metadata": {},
   "outputs": [],
   "source": [
    "data_y[data_y[:, :, 2] < 0] = np.min(\n",
    "    datamodule_y.tensor_train.numpy()[:, :, 2][datamodule_y.tensor_train.numpy()[:, :, 2] > 0.0]\n",
    ")\n",
    "data_y[data_y[:, :, 2] > 1] = np.max(\n",
    "    datamodule_y.tensor_train.numpy()[:, :, 2][datamodule_y.tensor_train.numpy()[:, :, 2] < 1.0]\n",
    ")"
   ]
  },
  {
   "cell_type": "code",
   "execution_count": null,
   "metadata": {},
   "outputs": [],
   "source": [
    "print(data_x.shape)\n",
    "print(np.sum(data_x[:, :, 2] < 0))\n",
    "print(np.sum(data_x[:, :, 2] > 1))"
   ]
  },
  {
   "cell_type": "markdown",
   "metadata": {},
   "source": [
    "### Save generated data"
   ]
  },
  {
   "cell_type": "code",
   "execution_count": null,
   "metadata": {},
   "outputs": [],
   "source": [
    "path_final_rel = f\"{data_folder}/lhco/generated/final_rel_data_datacond.h5\""
   ]
  },
  {
   "cell_type": "code",
   "execution_count": null,
   "metadata": {},
   "outputs": [],
   "source": [
    "print(data_x.shape)\n",
    "print(data_y.shape)\n",
    "# print(data_jet_feature[:, :5].shape)\n",
    "# print(data_jet_feature[:, 5:].shape)\n",
    "# print(mjj_samples_sr.shape)"
   ]
  },
  {
   "cell_type": "code",
   "execution_count": null,
   "metadata": {},
   "outputs": [],
   "source": [
    "# with h5py.File(path_final_rel, \"w\") as f:\n",
    "#    f.create_dataset(\"particle_data_rel_x\", data=data_x)\n",
    "#    f.create_dataset(\"particle_data_rel_y\", data=data_y)\n",
    "#    f.create_dataset(\"jet_features_x\", data=data_jet_feature[:, :5])\n",
    "#    f.create_dataset(\"jet_features_y\", data=data_jet_feature[:, 5:])\n",
    "#    f.create_dataset(\"mjj\", data=mjj_samples_sr)"
   ]
  },
  {
   "cell_type": "code",
   "execution_count": null,
   "metadata": {},
   "outputs": [],
   "source": [
    "with h5py.File(path_final_rel, \"r\") as f:\n",
    "    data_x = f[\"particle_data_rel_x\"][:]\n",
    "    data_y = f[\"particle_data_rel_y\"][:]"
   ]
  },
  {
   "cell_type": "markdown",
   "metadata": {},
   "source": [
    "### Plots"
   ]
  },
  {
   "cell_type": "code",
   "execution_count": null,
   "metadata": {},
   "outputs": [],
   "source": [
    "background_data_x = np.array(datamodule_x.tensor_test_sr[: len(data_x)])"
   ]
  },
  {
   "cell_type": "code",
   "execution_count": null,
   "metadata": {},
   "outputs": [],
   "source": [
    "background_data_y = np.array(datamodule_y.tensor_test_sr[: len(data_y)])"
   ]
  },
  {
   "cell_type": "code",
   "execution_count": null,
   "metadata": {},
   "outputs": [],
   "source": [
    "print(data_x.shape)\n",
    "print(background_data_x.shape)"
   ]
  },
  {
   "cell_type": "code",
   "execution_count": null,
   "metadata": {},
   "outputs": [],
   "source": [
    "plot_config_x = {\n",
    "    \"num_samples\": min(len(data_x), len(background_data_x)),\n",
    "    \"plot_jet_features\": False,\n",
    "    \"plot_w_dists\": False,\n",
    "    \"plot_efps\": True,\n",
    "    \"plot_selected_multiplicities\": False,\n",
    "    \"selected_multiplicities\": [10, 20, 30, 40, 50, 100],\n",
    "    \"selected_particles\": [1, 5, 20],\n",
    "    \"plottype\": \"\",\n",
    "    \"save_fig\": False,\n",
    "    \"variable_jet_sizes_plotting\": True,\n",
    "    \"bins\": 100,\n",
    "    \"close_fig\": False,\n",
    "}\n",
    "plot_prep_config_x = {\n",
    "    \"calculate_efps\" if key == \"plot_efps\" else key: value\n",
    "    for key, value in plot_config_x.items()\n",
    "    if key in [\"plot_efps\", \"selected_particles\", \"selected_multiplicities\"]\n",
    "}"
   ]
  },
  {
   "cell_type": "code",
   "execution_count": null,
   "metadata": {},
   "outputs": [],
   "source": [
    "plot_config_y = {\n",
    "    \"num_samples\": min(len(data_y), len(background_data_y)),\n",
    "    \"plot_jet_features\": False,\n",
    "    \"plot_w_dists\": False,\n",
    "    \"plot_efps\": True,\n",
    "    \"plot_selected_multiplicities\": False,\n",
    "    \"selected_multiplicities\": [10, 20, 30, 40, 50, 100],\n",
    "    \"selected_particles\": [1, 5, 20],\n",
    "    \"plottype\": \"\",\n",
    "    \"save_fig\": False,\n",
    "    \"variable_jet_sizes_plotting\": True,\n",
    "    \"bins\": 100,\n",
    "    \"close_fig\": False,\n",
    "}\n",
    "plot_prep_config_y = {\n",
    "    \"calculate_efps\" if key == \"plot_efps\" else key: value\n",
    "    for key, value in plot_config_y.items()\n",
    "    if key in [\"plot_efps\", \"selected_particles\", \"selected_multiplicities\"]\n",
    "}"
   ]
  },
  {
   "cell_type": "code",
   "execution_count": null,
   "metadata": {},
   "outputs": [],
   "source": [
    "(\n",
    "    jet_data_x,\n",
    "    efps_values_x,\n",
    "    pt_selected_particles_x,\n",
    "    pt_selected_multiplicities_x,\n",
    ") = prepare_data_for_plotting(\n",
    "    np.array([data_x[: len(background_data_x)]]),\n",
    "    **plot_prep_config_x,\n",
    ")"
   ]
  },
  {
   "cell_type": "code",
   "execution_count": null,
   "metadata": {},
   "outputs": [],
   "source": [
    "(\n",
    "    jet_data_y,\n",
    "    efps_values_y,\n",
    "    pt_selected_particles_y,\n",
    "    pt_selected_multiplicities_y,\n",
    ") = prepare_data_for_plotting(\n",
    "    np.array([data_y[: len(background_data_y)]]),\n",
    "    **plot_prep_config_y,\n",
    ")"
   ]
  },
  {
   "cell_type": "code",
   "execution_count": null,
   "metadata": {},
   "outputs": [],
   "source": [
    "(\n",
    "    jet_data_sim_x,\n",
    "    efps_sim_x,\n",
    "    pt_selected_particles_sim_x,\n",
    "    pt_selected_multiplicities_sim_x,\n",
    ") = prepare_data_for_plotting(\n",
    "    [background_data_x],\n",
    "    **plot_prep_config_x,\n",
    ")\n",
    "jet_data_sim_x, efps_sim_x, pt_selected_particles_sim_x = (\n",
    "    jet_data_sim_x[0],\n",
    "    efps_sim_x[0],\n",
    "    pt_selected_particles_sim_x[0],\n",
    ")"
   ]
  },
  {
   "cell_type": "code",
   "execution_count": null,
   "metadata": {},
   "outputs": [],
   "source": [
    "(\n",
    "    jet_data_sim_y,\n",
    "    efps_sim_y,\n",
    "    pt_selected_particles_sim_y,\n",
    "    pt_selected_multiplicities_sim_y,\n",
    ") = prepare_data_for_plotting(\n",
    "    [background_data_y],\n",
    "    **plot_prep_config_y,\n",
    ")\n",
    "jet_data_sim_y, efps_sim_y, pt_selected_particles_sim_y = (\n",
    "    jet_data_sim_y[0],\n",
    "    efps_sim_y[0],\n",
    "    pt_selected_particles_sim_y[0],\n",
    ")"
   ]
  },
  {
   "cell_type": "code",
   "execution_count": null,
   "metadata": {},
   "outputs": [],
   "source": [
    "print(efps_sim_x.shape)\n",
    "print(np.concatenate(efps_sim_x).shape)"
   ]
  },
  {
   "cell_type": "code",
   "execution_count": null,
   "metadata": {},
   "outputs": [],
   "source": [
    "fig_x = plot_data(\n",
    "    particle_data=np.array([data_x[: len(background_data_x)]]),\n",
    "    sim_data=background_data_x,\n",
    "    jet_data_sim=jet_data_sim_x,\n",
    "    jet_data=jet_data_x,\n",
    "    efps_sim=efps_sim_x,\n",
    "    efps_values=efps_values_x,\n",
    "    pt_selected_particles=pt_selected_particles_x,\n",
    "    pt_selected_multiplicities=pt_selected_multiplicities_x,\n",
    "    pt_selected_particles_sim=pt_selected_particles_sim_x,\n",
    "    pt_selected_multiplicities_sim=pt_selected_multiplicities_sim_x,\n",
    "    **plot_config_x,\n",
    ")"
   ]
  },
  {
   "cell_type": "code",
   "execution_count": null,
   "metadata": {},
   "outputs": [],
   "source": [
    "fig_y = plot_data(\n",
    "    particle_data=np.array([data_y[: len(background_data_y)]]),\n",
    "    sim_data=background_data_y,\n",
    "    jet_data_sim=jet_data_sim_y,\n",
    "    jet_data=jet_data_y,\n",
    "    efps_sim=efps_sim_y,\n",
    "    efps_values=efps_values_y,\n",
    "    pt_selected_particles=pt_selected_particles_y,\n",
    "    pt_selected_multiplicities=pt_selected_multiplicities_y,\n",
    "    pt_selected_particles_sim=pt_selected_particles_sim_y,\n",
    "    pt_selected_multiplicities_sim=pt_selected_multiplicities_sim_y,\n",
    "    **plot_config_y,\n",
    ")"
   ]
  },
  {
   "cell_type": "markdown",
   "metadata": {},
   "source": [
    "### Back to non-rel. Coordinates"
   ]
  },
  {
   "cell_type": "markdown",
   "metadata": {},
   "source": [
    "conditioning from feature model to recalculate the nonrel coordinates of the generated particles"
   ]
  },
  {
   "cell_type": "code",
   "execution_count": null,
   "metadata": {},
   "outputs": [],
   "source": [
    "print(datamodule_x.cond_means)"
   ]
  },
  {
   "cell_type": "code",
   "execution_count": null,
   "metadata": {},
   "outputs": [],
   "source": [
    "cond_x = inverse_normalize_tensor(\n",
    "    cond_x.clone(),\n",
    "    datamodule_x.cond_means,\n",
    "    datamodule_x.cond_stds,\n",
    "    datamodule_x.hparams.normalize_sigma,\n",
    ").numpy()\n",
    "cond_y = inverse_normalize_tensor(\n",
    "    cond_y.clone(),\n",
    "    datamodule_y.cond_means,\n",
    "    datamodule_y.cond_stds,\n",
    "    datamodule_y.hparams.normalize_sigma,\n",
    ").numpy()"
   ]
  },
  {
   "cell_type": "code",
   "execution_count": null,
   "metadata": {},
   "outputs": [],
   "source": [
    "cond_x = np.array(cond_x)\n",
    "cond_y = np.array(cond_y)"
   ]
  },
  {
   "cell_type": "code",
   "execution_count": null,
   "metadata": {},
   "outputs": [],
   "source": [
    "print(cond_x.shape)"
   ]
  },
  {
   "cell_type": "code",
   "execution_count": null,
   "metadata": {},
   "outputs": [],
   "source": [
    "pt_x = cond_x[:, 0].reshape(-1, 1)\n",
    "eta_x = cond_x[:, 1].reshape(-1, 1)\n",
    "phi_x = cond_x[:, 2].reshape(-1, 1)\n",
    "m_x = cond_x[:, 3].reshape(-1, 1)"
   ]
  },
  {
   "cell_type": "code",
   "execution_count": null,
   "metadata": {},
   "outputs": [],
   "source": [
    "pt_y = cond_y[:, 0].reshape(-1, 1)\n",
    "eta_y = cond_y[:, 1].reshape(-1, 1)\n",
    "phi_y = cond_y[:, 2].reshape(-1, 1)\n",
    "m_y = cond_y[:, 3].reshape(-1, 1)"
   ]
  },
  {
   "cell_type": "code",
   "execution_count": null,
   "metadata": {},
   "outputs": [],
   "source": [
    "print(eta_x.shape)"
   ]
  },
  {
   "cell_type": "code",
   "execution_count": null,
   "metadata": {},
   "outputs": [],
   "source": [
    "mask_x_nonrel = np.expand_dims((data_x[..., 2] > 0).astype(int), axis=-1)\n",
    "non_rel_eta_x = np.expand_dims(data_x.copy()[:, :, 0] + eta_x, axis=-1)\n",
    "non_rel_phi_x = np.expand_dims(data_x.copy()[:, :, 1] + phi_x, axis=-1)\n",
    "# wrap phi between -pi and pi\n",
    "non_rel_phi_x = np.where(\n",
    "    non_rel_phi_x > np.pi,\n",
    "    non_rel_phi_x - 2 * np.pi,\n",
    "    non_rel_phi_x,\n",
    ")\n",
    "non_rel_phi_x = np.where(\n",
    "    non_rel_phi_x < -np.pi,\n",
    "    non_rel_phi_x + 2 * np.pi,\n",
    "    non_rel_phi_x,\n",
    ")\n",
    "non_rel_pt_x = np.expand_dims(data_x.copy()[:, :, 2] * pt_x, axis=-1)\n",
    "# fix the masking\n",
    "non_rel_eta_x = non_rel_eta_x * mask_x_nonrel\n",
    "non_rel_phi_x = non_rel_phi_x * mask_x_nonrel\n",
    "data_x_nonrel = np.concatenate([non_rel_eta_x, non_rel_phi_x, non_rel_pt_x], axis=-1)"
   ]
  },
  {
   "cell_type": "code",
   "execution_count": null,
   "metadata": {},
   "outputs": [],
   "source": [
    "mask_y_nonrel = np.expand_dims((data_y[..., 2] > 0).astype(int), axis=-1)\n",
    "non_rel_eta_y = np.expand_dims(data_y.copy()[:, :, 0] + eta_y, axis=-1)\n",
    "non_rel_phi_y = np.expand_dims(data_y.copy()[:, :, 1] + phi_y, axis=-1)\n",
    "# wrap phi between -pi and pi\n",
    "non_rel_phi_y = np.where(\n",
    "    non_rel_phi_y > np.pi,\n",
    "    non_rel_phi_y - 2 * np.pi,\n",
    "    non_rel_phi_y,\n",
    ")\n",
    "non_rel_phi_y = np.where(\n",
    "    non_rel_phi_y < -np.pi,\n",
    "    non_rel_phi_y + 2 * np.pi,\n",
    "    non_rel_phi_y,\n",
    ")\n",
    "non_rel_pt_y = np.expand_dims(data_y.copy()[:, :, 2] * pt_y, axis=-1)\n",
    "# fix the masking\n",
    "non_rel_eta_y = non_rel_eta_y * mask_y_nonrel\n",
    "non_rel_phi_y = non_rel_phi_y * mask_y_nonrel\n",
    "data_y_nonrel = np.concatenate([non_rel_eta_y, non_rel_phi_y, non_rel_pt_y], axis=-1)"
   ]
  },
  {
   "cell_type": "markdown",
   "metadata": {},
   "source": [
    "load non rel. data and select the same events that were generated"
   ]
  },
  {
   "cell_type": "code",
   "execution_count": null,
   "metadata": {},
   "outputs": [],
   "source": [
    "path_nonrel = f\"{data_folder}/lhco/final_data/processed_data_background.h5\"\n",
    "with h5py.File(path_nonrel, \"r\") as f:\n",
    "    particle_data_nonrel = f[\"constituents\"][:]"
   ]
  },
  {
   "cell_type": "code",
   "execution_count": null,
   "metadata": {},
   "outputs": [],
   "source": [
    "particle_data_nonrel_sr = particle_data_nonrel[args_to_keep_sr]"
   ]
  },
  {
   "cell_type": "code",
   "execution_count": null,
   "metadata": {},
   "outputs": [],
   "source": [
    "n_samples_val_sr_x = int(datamodule_x.hparams.val_fraction * len(particle_data_nonrel_sr))\n",
    "n_samples_test_sr_x = int(datamodule_x.hparams.test_fraction * len(particle_data_nonrel_sr))"
   ]
  },
  {
   "cell_type": "code",
   "execution_count": null,
   "metadata": {},
   "outputs": [],
   "source": [
    "particle_data_nonrel_sr_train, particle_data_nonrel_sr_val, particle_data_nonrel_sr_test = (\n",
    "    np.split(\n",
    "        particle_data_nonrel_sr,\n",
    "        [\n",
    "            len(particle_data_nonrel_sr) - (n_samples_val_sr_x + n_samples_test_sr_x),\n",
    "            len(particle_data_nonrel_sr) - n_samples_test_sr_x,\n",
    "        ],\n",
    "    )\n",
    ")"
   ]
  },
  {
   "cell_type": "code",
   "execution_count": null,
   "metadata": {},
   "outputs": [],
   "source": [
    "background_data_x_nonrel = particle_data_nonrel_sr[\n",
    "    :, 0\n",
    "]  # particle_data_nonrel_sr_test[: len(data_x_nonrel), 0]\n",
    "background_data_x_nonrel = background_data_x_nonrel[:, :, [1, 2, 0]]"
   ]
  },
  {
   "cell_type": "code",
   "execution_count": null,
   "metadata": {},
   "outputs": [],
   "source": [
    "background_data_y_nonrel = particle_data_nonrel_sr[\n",
    "    :, 1\n",
    "]  # particle_data_nonrel_sr_test[: len(data_y_nonrel), 1]\n",
    "background_data_y_nonrel = background_data_y_nonrel[:, :, [1, 2, 0]]"
   ]
  },
  {
   "cell_type": "code",
   "execution_count": null,
   "metadata": {},
   "outputs": [],
   "source": [
    "plot_config_x_nonrel = {\n",
    "    \"num_samples\": -1,\n",
    "    \"plot_jet_features\": True,\n",
    "    \"plot_w_dists\": False,\n",
    "    \"plot_efps\": True,\n",
    "    \"plot_selected_multiplicities\": False,\n",
    "    \"selected_multiplicities\": [10, 20, 30, 40, 50, 100],\n",
    "    \"selected_particles\": [1, 3, 10],\n",
    "    \"plottype\": \"\",\n",
    "    \"save_fig\": False,\n",
    "    \"variable_jet_sizes_plotting\": True,\n",
    "    \"bins\": 100,\n",
    "    \"close_fig\": False,\n",
    "    \"mass_linear\": True,\n",
    "    \"plot_xlabels\": [\n",
    "        r\"Particle $p_\\mathrm{T}$\",\n",
    "        r\"Particle $\\eta$\",\n",
    "        r\"Particle $\\phi$\",\n",
    "        r\"Jet $p_\\mathrm{T}$\",\n",
    "    ],\n",
    "}\n",
    "plot_prep_config_x_nonrel = {\n",
    "    \"calculate_efps\" if key == \"plot_efps\" else key: value\n",
    "    for key, value in plot_config_x_nonrel.items()\n",
    "    if key in [\"plot_efps\", \"selected_particles\", \"selected_multiplicities\"]\n",
    "}"
   ]
  },
  {
   "cell_type": "code",
   "execution_count": null,
   "metadata": {},
   "outputs": [],
   "source": [
    "plot_config_y_nonrel = {\n",
    "    \"num_samples\": -1,\n",
    "    \"plot_jet_features\": True,\n",
    "    \"plot_w_dists\": False,\n",
    "    \"plot_efps\": True,\n",
    "    \"plot_selected_multiplicities\": False,\n",
    "    \"selected_multiplicities\": [10, 20, 30, 40, 50, 100],\n",
    "    \"selected_particles\": [1, 3, 10],\n",
    "    \"plottype\": \"\",\n",
    "    \"save_fig\": False,\n",
    "    \"variable_jet_sizes_plotting\": True,\n",
    "    \"bins\": 100,\n",
    "    \"close_fig\": False,\n",
    "    \"mass_linear\": True,\n",
    "    \"plot_xlabels\": [\n",
    "        r\"Particle $p_\\mathrm{T}$\",\n",
    "        r\"Particle $\\eta$\",\n",
    "        r\"Particle $\\phi$\",\n",
    "        r\"Jet $p_\\mathrm{T}$\",\n",
    "    ],\n",
    "}\n",
    "plot_prep_config_y_nonrel = {\n",
    "    \"calculate_efps\" if key == \"plot_efps\" else key: value\n",
    "    for key, value in plot_config_y_nonrel.items()\n",
    "    if key in [\"plot_efps\", \"selected_particles\", \"selected_multiplicities\"]\n",
    "}"
   ]
  },
  {
   "cell_type": "code",
   "execution_count": null,
   "metadata": {},
   "outputs": [],
   "source": [
    "(\n",
    "    jet_data_x_nonrel,\n",
    "    efps_values_x_nonrel,\n",
    "    pt_selected_particles_x_nonrel,\n",
    "    pt_selected_multiplicities_x_nonrel,\n",
    ") = prepare_data_for_plotting(\n",
    "    np.array([data_x_nonrel[: len(background_data_x_nonrel)]]),\n",
    "    **plot_prep_config_x_nonrel,\n",
    ")"
   ]
  },
  {
   "cell_type": "code",
   "execution_count": null,
   "metadata": {},
   "outputs": [],
   "source": [
    "(\n",
    "    jet_data_y_nonrel,\n",
    "    efps_values_y_nonrel,\n",
    "    pt_selected_particles_y_nonrel,\n",
    "    pt_selected_multiplicities_y_nonrel,\n",
    ") = prepare_data_for_plotting(\n",
    "    np.array([data_y_nonrel[: len(background_data_y_nonrel)]]),\n",
    "    **plot_prep_config_y_nonrel,\n",
    ")"
   ]
  },
  {
   "cell_type": "code",
   "execution_count": null,
   "metadata": {},
   "outputs": [],
   "source": [
    "(\n",
    "    jet_data_sim_x_nonrel,\n",
    "    efps_sim_x_nonrel,\n",
    "    pt_selected_particles_sim_x_nonrel,\n",
    "    pt_selected_multiplicities_sim_x_nonrel,\n",
    ") = prepare_data_for_plotting(\n",
    "    [background_data_x_nonrel],\n",
    "    **plot_prep_config_x_nonrel,\n",
    ")\n",
    "jet_data_sim_x_nonrel, efps_sim_x_nonrel, pt_selected_particles_sim_x_nonrel = (\n",
    "    jet_data_sim_x_nonrel[0],\n",
    "    efps_sim_x_nonrel[0],\n",
    "    pt_selected_particles_sim_x_nonrel[0],\n",
    ")"
   ]
  },
  {
   "cell_type": "code",
   "execution_count": null,
   "metadata": {},
   "outputs": [],
   "source": [
    "(\n",
    "    jet_data_sim_y_nonrel,\n",
    "    efps_sim_y_nonrel,\n",
    "    pt_selected_particles_sim_y_nonrel,\n",
    "    pt_selected_multiplicities_sim_y_nonrel,\n",
    ") = prepare_data_for_plotting(\n",
    "    [background_data_y_nonrel],\n",
    "    **plot_prep_config_y_nonrel,\n",
    ")\n",
    "jet_data_sim_y_nonrel, efps_sim_y_nonrel, pt_selected_particles_sim_y_nonrel = (\n",
    "    jet_data_sim_y_nonrel[0],\n",
    "    efps_sim_y_nonrel[0],\n",
    "    pt_selected_particles_sim_y_nonrel[0],\n",
    ")"
   ]
  },
  {
   "cell_type": "code",
   "execution_count": null,
   "metadata": {},
   "outputs": [],
   "source": [
    "fig_x_nonrel = plot_data(\n",
    "    particle_data=np.array([data_x_nonrel[: len(background_data_x_nonrel)]]),\n",
    "    sim_data=background_data_x_nonrel,\n",
    "    jet_data_sim=jet_data_sim_x_nonrel,\n",
    "    jet_data=jet_data_x_nonrel,\n",
    "    efps_sim=efps_sim_x_nonrel,\n",
    "    efps_values=efps_values_x_nonrel,\n",
    "    pt_selected_particles=pt_selected_particles_x_nonrel,\n",
    "    pt_selected_multiplicities=pt_selected_multiplicities_x_nonrel,\n",
    "    pt_selected_particles_sim=pt_selected_particles_sim_x_nonrel,\n",
    "    pt_selected_multiplicities_sim=pt_selected_multiplicities_sim_x_nonrel,\n",
    "    **plot_config_x_nonrel,\n",
    ")"
   ]
  },
  {
   "cell_type": "code",
   "execution_count": null,
   "metadata": {},
   "outputs": [],
   "source": [
    "fig_y_nonrel = plot_data(\n",
    "    particle_data=np.array([data_y_nonrel[: len(background_data_y_nonrel)]]),\n",
    "    sim_data=background_data_y_nonrel,\n",
    "    jet_data_sim=jet_data_sim_y_nonrel,\n",
    "    jet_data=jet_data_y_nonrel,\n",
    "    efps_sim=efps_sim_y_nonrel,\n",
    "    efps_values=efps_values_y_nonrel,\n",
    "    pt_selected_particles=pt_selected_particles_y_nonrel,\n",
    "    pt_selected_multiplicities=pt_selected_multiplicities_y_nonrel,\n",
    "    pt_selected_particles_sim=pt_selected_particles_sim_y_nonrel,\n",
    "    pt_selected_multiplicities_sim=pt_selected_multiplicities_sim_y_nonrel,\n",
    "    **plot_config_y_nonrel,\n",
    ")"
   ]
  },
  {
   "cell_type": "markdown",
   "metadata": {},
   "source": [
    "# Save generated data to file"
   ]
  },
  {
   "cell_type": "code",
   "execution_count": null,
   "metadata": {},
   "outputs": [],
   "source": [
    "path_final_all = f\"{data_folder}/lhco/generated/final_data_all_datacond.h5\""
   ]
  },
  {
   "cell_type": "code",
   "execution_count": null,
   "metadata": {},
   "outputs": [],
   "source": [
    "print(data_x.shape)\n",
    "print(data_y.shape)\n",
    "print(data_x_nonrel.shape)\n",
    "print(data_y_nonrel.shape)\n",
    "# print(data_jet_feature[:, :5].shape)\n",
    "# print(data_jet_feature[:, 5:].shape)\n",
    "print(cond_x.shape)\n",
    "print(cond_y.shape)\n",
    "print(mjj_sr.shape)"
   ]
  },
  {
   "cell_type": "code",
   "execution_count": null,
   "metadata": {},
   "outputs": [],
   "source": [
    "with h5py.File(path_final_all, \"w\") as f:\n",
    "    f.create_dataset(\"particle_data_rel_x\", data=data_x[:, :, [2, 0, 1]])\n",
    "    f.create_dataset(\"particle_data_rel_y\", data=data_y[:, :, [2, 0, 1]])\n",
    "    f.create_dataset(\"particle_data_nonrel_x\", data=data_x_nonrel[:, :, [2, 0, 1]])\n",
    "    f.create_dataset(\"particle_data_nonrel_y\", data=data_y_nonrel[:, :, [2, 0, 1]])\n",
    "    f.create_dataset(\"jet_features_x\", data=cond_x)\n",
    "    f.create_dataset(\"jet_features_y\", data=cond_y)\n",
    "    f.create_dataset(\"mjj\", data=mjj_sr)"
   ]
  },
  {
   "cell_type": "markdown",
   "metadata": {},
   "source": [
    "## combine both jets"
   ]
  },
  {
   "cell_type": "code",
   "execution_count": null,
   "metadata": {},
   "outputs": [],
   "source": [
    "data_x_nonrel_ptetaphi = data_x_nonrel[:, :, [2, 0, 1]]\n",
    "data_y_nonrel_ptetaphi = data_x_nonrel[:, :, [2, 0, 1]]"
   ]
  },
  {
   "cell_type": "code",
   "execution_count": null,
   "metadata": {},
   "outputs": [],
   "source": [
    "data_combined = np.concatenate((data_x_nonrel_ptetaphi, data_y_nonrel_ptetaphi), axis=1)\n",
    "print(data_combined.shape)"
   ]
  },
  {
   "cell_type": "code",
   "execution_count": null,
   "metadata": {},
   "outputs": [],
   "source": [
    "padded_data = np.pad(\n",
    "    data_combined,\n",
    "    ((0, 0), (0, 700 - data_combined.shape[1]), (0, 0)),\n",
    "    \"constant\",\n",
    "    constant_values=0,\n",
    ")\n",
    "print(padded_data.shape)"
   ]
  },
  {
   "cell_type": "code",
   "execution_count": null,
   "metadata": {},
   "outputs": [],
   "source": [
    "final_data = np.reshape(padded_data, (padded_data.shape[0], -1))\n",
    "print(final_data.shape)"
   ]
  },
  {
   "cell_type": "code",
   "execution_count": null,
   "metadata": {},
   "outputs": [],
   "source": [
    "import pandas as pd"
   ]
  },
  {
   "cell_type": "code",
   "execution_count": null,
   "metadata": {},
   "outputs": [],
   "source": [
    "final_path = f\"{data_folder}/lhco/generated/final_data.h5\"\n",
    "df_final = pd.DataFrame(data=final_data)\n",
    "df_final.to_hdf(final_path, key=\"df\", mode=\"w\")"
   ]
  },
  {
   "cell_type": "code",
   "execution_count": null,
   "metadata": {},
   "outputs": [],
   "source": [
    "filepath = f\"{data_folder}/lhco/events_anomalydetection_v2.h5\""
   ]
  },
  {
   "cell_type": "code",
   "execution_count": null,
   "metadata": {},
   "outputs": [],
   "source": [
    "# Load everything into memory\n",
    "df = pd.read_hdf(filepath)\n",
    "print(df.shape)\n",
    "print(\"Memory in GB:\", sum(df.memory_usage(deep=True)) / (1024**3))"
   ]
  },
  {
   "cell_type": "markdown",
   "metadata": {},
   "source": [
    "# Evaluation"
   ]
  },
  {
   "cell_type": "code",
   "execution_count": null,
   "metadata": {},
   "outputs": [],
   "source": [
    "with h5py.File(path_final_all, \"r\") as f:\n",
    "    eval_x_rel = f[\"particle_data_rel_x\"][:]\n",
    "    eval_y_rel = f[\"particle_data_rel_y\"][:]\n",
    "    eval_x_nonrel = f[\"particle_data_nonrel_x\"][:]\n",
    "    eval_y_nonrel = f[\"particle_data_nonrel_y\"][:]\n",
    "    eval_jet_features_x = f[\"jet_features_x\"][:]\n",
    "    eval_jet_features_y = f[\"jet_features_y\"][:]\n",
    "    eval_mjj = f[\"mjj\"][:]"
   ]
  },
  {
   "cell_type": "code",
   "execution_count": null,
   "metadata": {},
   "outputs": [],
   "source": [
    "def get_jet_data(consts: np.ndarray) -> np.ndarray:\n",
    "    \"\"\"Calculate jet data from constituent data. (pt, y, phi)->(pt, y, phi, m)\n",
    "\n",
    "    Args:\n",
    "        consts (np.ndarray): constituent data. (pt, y, phi)\n",
    "\n",
    "    Returns:\n",
    "        np.ndarray: jet data. (pt, y, phi, m)\n",
    "    \"\"\"\n",
    "    p4s = ef.p4s_from_ptyphims(consts[..., :3])\n",
    "    sum_p4 = np.sum(p4s, axis=-2)\n",
    "    jet_data = ef.ptyphims_from_p4s(sum_p4, phi_ref=0)\n",
    "    return jet_data"
   ]
  },
  {
   "cell_type": "code",
   "execution_count": null,
   "metadata": {},
   "outputs": [],
   "source": [
    "eval_x_rel = eval_x_rel[:, :, [2, 0, 1]]\n",
    "eval_y_rel = eval_y_rel[:, :, [2, 0, 1]]\n",
    "eval_x_nonrel = eval_x_nonrel[:, :, [2, 0, 1]]\n",
    "eval_y_nonrel = eval_y_nonrel[:, :, [2, 0, 1]]\n",
    "print(eval_x_rel.shape)"
   ]
  },
  {
   "cell_type": "code",
   "execution_count": null,
   "metadata": {},
   "outputs": [],
   "source": [
    "eval_jet_data_x = get_jet_data(eval_x_rel)\n",
    "eval_jet_data_y = get_jet_data(eval_y_rel)\n",
    "eval_jet_data_x_nonrel = get_jet_data(eval_x_nonrel)\n",
    "eval_jet_data_y_nonrel = get_jet_data(eval_y_nonrel)"
   ]
  },
  {
   "cell_type": "code",
   "execution_count": null,
   "metadata": {},
   "outputs": [],
   "source": [
    "print(eval_jet_data_x[:, -1].shape)\n",
    "print(eval_jet_features_x[:, -1].shape)"
   ]
  },
  {
   "cell_type": "code",
   "execution_count": null,
   "metadata": {},
   "outputs": [],
   "source": [
    "datamodule_x.cond_means.shape"
   ]
  },
  {
   "cell_type": "code",
   "execution_count": null,
   "metadata": {},
   "outputs": [],
   "source": [
    "# normalize conditioning variables\n",
    "eval_normalized_cond_x = normalize_tensor(\n",
    "    torch.tensor(eval_jet_features_x[:, :4], dtype=torch.float32).clone(),\n",
    "    datamodule_x.cond_means,\n",
    "    datamodule_x.cond_stds,\n",
    "    datamodule_x.hparams.normalize_sigma,\n",
    ").numpy()"
   ]
  },
  {
   "cell_type": "code",
   "execution_count": null,
   "metadata": {},
   "outputs": [],
   "source": [
    "eval_normalized_cond_x.shape"
   ]
  },
  {
   "cell_type": "code",
   "execution_count": null,
   "metadata": {},
   "outputs": [],
   "source": [
    "labels = [\"pt\", \"eta\", \"phi\", \"mass\"]\n",
    "fig, axs = plt.subplots(1, 4, figsize=(20, 5))\n",
    "for i, ax in enumerate(axs):\n",
    "    max_v = max(np.max(eval_normalized_cond_x[:, i]), np.max(eval_normalized_cond_x[:, i]))\n",
    "    min_v = min(np.min(eval_normalized_cond_x[:, i]), np.min(eval_normalized_cond_x[:, i]))\n",
    "\n",
    "    ax.hist2d(\n",
    "        eval_normalized_cond_x[:, i],\n",
    "        eval_jet_data_x[:, i],\n",
    "        bins=50,\n",
    "        range=[[min_v, max_v], [min_v, max_v]],\n",
    "        cmap=\"jet\",\n",
    "    )\n",
    "    ax.set_xlabel(f\"{labels[i]} conditioning\")\n",
    "    ax.set_ylabel(f\"{labels[i]} generated\")\n",
    "    ax.set_title(\"higher mass jet rel\")\n",
    "plt.tight_layout()\n",
    "plt.plot()"
   ]
  },
  {
   "cell_type": "code",
   "execution_count": null,
   "metadata": {},
   "outputs": [],
   "source": [
    "max_v = max(np.max(eval_jet_features_x[:, -2]), np.max(eval_jet_features_x[:, -2]))\n",
    "min_v = min(np.min(eval_jet_features_x[:, -2]), np.min(eval_jet_features_x[:, -2]))\n",
    "\n",
    "plt.hist2d(\n",
    "    eval_jet_features_x[:, -2],\n",
    "    eval_jet_features_x[:, -2],\n",
    "    bins=100,\n",
    "    range=[[min_v, max_v], [min_v, max_v]],\n",
    "    cmap=\"jet\",\n",
    ")\n",
    "plt.xlabel(\"Jet mass conditioning\")\n",
    "plt.ylabel(\"Jet mass generated\")\n",
    "plt.title(\"ref.\")\n",
    "plt.plot()"
   ]
  },
  {
   "cell_type": "code",
   "execution_count": null,
   "metadata": {},
   "outputs": [],
   "source": [
    "max_v = max(np.max(eval_jet_features_x[:, -2]), np.max(eval_jet_features_x[:, -2]))\n",
    "min_v = min(np.min(eval_jet_features_x[:, -2]), np.min(eval_jet_features_x[:, -2]))\n",
    "\n",
    "plt.hist2d(\n",
    "    eval_jet_features_x[:, -2],\n",
    "    eval_jet_data_x[:, -1],\n",
    "    bins=100,\n",
    "    range=[[min_v, max_v], [min_v, max_v]],\n",
    "    cmap=\"jet\",\n",
    ")\n",
    "plt.xlabel(\"Jet mass conditioning\")\n",
    "plt.ylabel(\"Jet mass generated\")\n",
    "plt.title(\"rel.\")\n",
    "plt.plot()"
   ]
  },
  {
   "cell_type": "code",
   "execution_count": null,
   "metadata": {},
   "outputs": [],
   "source": [
    "labels = [\"pt\", \"eta\", \"phi\", \"mass\"]\n",
    "fig, axs = plt.subplots(1, 4, figsize=(20, 5))\n",
    "for i, ax in enumerate(axs):\n",
    "    max_v = max(np.max(eval_jet_features_x[:, i]), np.max(eval_jet_features_x[:, i]))\n",
    "    min_v = min(np.min(eval_jet_features_x[:, i]), np.min(eval_jet_features_x[:, i]))\n",
    "\n",
    "    ax.hist2d(\n",
    "        eval_jet_features_x[:, i],\n",
    "        eval_jet_data_x_nonrel[:, i],\n",
    "        bins=50,\n",
    "        range=[[min_v, max_v], [min_v, max_v]],\n",
    "        cmap=\"jet\",\n",
    "    )\n",
    "    ax.set_xlabel(f\"{labels[i]} conditioning\")\n",
    "    ax.set_ylabel(f\"{labels[i]} generated\")\n",
    "    ax.set_title(\"higher mass jet\")\n",
    "plt.tight_layout()\n",
    "plt.plot()"
   ]
  },
  {
   "cell_type": "code",
   "execution_count": null,
   "metadata": {},
   "outputs": [],
   "source": [
    "max_v = max(np.max(eval_jet_features_y[:, -2]), np.max(eval_jet_features_y[:, -2]))\n",
    "min_v = min(np.min(eval_jet_features_y[:, -2]), np.min(eval_jet_features_y[:, -2]))\n",
    "\n",
    "plt.hist2d(\n",
    "    eval_jet_features_y[:, -2],\n",
    "    eval_jet_features_y[:, -2],\n",
    "    bins=100,\n",
    "    range=[[min_v, max_v], [min_v, max_v]],\n",
    "    cmap=\"jet\",\n",
    ")\n",
    "plt.xlabel(\"Jet mass conditioning\")\n",
    "plt.ylabel(\"Jet mass generated\")\n",
    "plt.title(\"ref. y\")\n",
    "plt.plot()"
   ]
  },
  {
   "cell_type": "code",
   "execution_count": null,
   "metadata": {},
   "outputs": [],
   "source": [
    "max_v = max(np.max(eval_jet_features_y[:, -2]), np.max(eval_jet_features_y[:, -2]))\n",
    "min_v = min(np.min(eval_jet_features_y[:, -2]), np.min(eval_jet_features_y[:, -2]))\n",
    "\n",
    "plt.hist2d(\n",
    "    eval_jet_features_y[:, -2],\n",
    "    eval_jet_data_y[:, -1],\n",
    "    bins=100,\n",
    "    range=[[min_v, max_v], [min_v, max_v]],\n",
    "    cmap=\"jet\",\n",
    ")\n",
    "plt.xlabel(\"Jet mass conditioning\")\n",
    "plt.ylabel(\"Jet mass generated\")\n",
    "plt.title(\"rel.\")\n",
    "plt.plot()"
   ]
  },
  {
   "cell_type": "code",
   "execution_count": null,
   "metadata": {},
   "outputs": [],
   "source": [
    "labels = [\"pt\", \"eta\", \"phi\", \"mass\"]\n",
    "fig, axs = plt.subplots(1, 4, figsize=(20, 5))\n",
    "for i, ax in enumerate(axs):\n",
    "    max_v = max(np.max(eval_jet_features_y[:, i]), np.max(eval_jet_features_y[:, i]))\n",
    "    min_v = min(np.min(eval_jet_features_y[:, i]), np.min(eval_jet_features_y[:, i]))\n",
    "\n",
    "    ax.hist2d(\n",
    "        eval_jet_features_y[:, i],\n",
    "        eval_jet_data_y_nonrel[:, i],\n",
    "        bins=50,\n",
    "        range=[[min_v, max_v], [min_v, max_v]],\n",
    "        cmap=\"jet\",\n",
    "    )\n",
    "    ax.set_xlabel(f\"{labels[i]} conditioning\")\n",
    "    ax.set_ylabel(f\"{labels[i]} generated\")\n",
    "    ax.set_title(\"lighter mass jet\")\n",
    "plt.tight_layout()\n",
    "plt.plot()"
   ]
  }
 ],
 "metadata": {
  "kernelspec": {
   "display_name": "pllhome",
   "language": "python",
   "name": "python3"
  },
  "language_info": {
   "codemirror_mode": {
    "name": "ipython",
    "version": 3
   },
   "file_extension": ".py",
   "mimetype": "text/x-python",
   "name": "python",
   "nbconvert_exporter": "python",
   "pygments_lexer": "ipython3",
   "version": "3.10.6"
  }
 },
 "nbformat": 4,
 "nbformat_minor": 2
}
