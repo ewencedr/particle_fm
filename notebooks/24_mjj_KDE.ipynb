{
 "cells": [
  {
   "cell_type": "code",
   "execution_count": null,
   "metadata": {},
   "outputs": [],
   "source": [
    "import energyflow as ef\n",
    "import h5py\n",
    "import matplotlib as mpl\n",
    "import matplotlib.pyplot as plt\n",
    "import numpy as np\n",
    "from cycler import cycler"
   ]
  },
  {
   "cell_type": "code",
   "execution_count": null,
   "metadata": {},
   "outputs": [],
   "source": [
    "# define plot style\n",
    "mpl.rcParams[\"axes.prop_cycle\"] = cycler(\n",
    "    color=[\n",
    "        \"#B6BFC3\",\n",
    "        \"#3B515B\",\n",
    "        \"#0271BB\",\n",
    "        \"#E2001A\",\n",
    "    ]\n",
    ")\n",
    "mpl.rcParams[\"font.size\"] = 15\n",
    "mpl.rcParams[\"patch.linewidth\"] = 1.25"
   ]
  },
  {
   "cell_type": "code",
   "execution_count": null,
   "metadata": {},
   "outputs": [],
   "source": [
    "path = \"/beegfs/desy/user/ewencedr/data/lhco/final_data/processed_data_background_rel.h5\"\n",
    "with h5py.File(path, \"r\") as f:\n",
    "    jets = f[\"jet_data\"][:]"
   ]
  },
  {
   "cell_type": "code",
   "execution_count": null,
   "metadata": {},
   "outputs": [],
   "source": [
    "p4_jets = ef.p4s_from_ptyphims(jets)"
   ]
  },
  {
   "cell_type": "code",
   "execution_count": null,
   "metadata": {},
   "outputs": [],
   "source": [
    "# get mjj from p4_jets\n",
    "pj_x = np.sqrt(np.sum(p4_jets[:, 0] ** 2, axis=1))\n",
    "pj_y = np.sqrt(np.sum(p4_jets[:, 1] ** 2, axis=1))\n",
    "mjj = (pj_x + pj_y) ** 2\n",
    "print(mjj.shape)"
   ]
  },
  {
   "cell_type": "code",
   "execution_count": null,
   "metadata": {},
   "outputs": [],
   "source": [
    "from sklearn.neighbors import KernelDensity\n",
    "\n",
    "kde_model = KernelDensity(kernel=\"gaussian\", bandwidth=0.01)\n",
    "kde_model.fit(mjj.reshape(-1, 1))\n",
    "\n",
    "samples = kde_model.sample(len(mjj))"
   ]
  },
  {
   "cell_type": "code",
   "execution_count": null,
   "metadata": {},
   "outputs": [],
   "source": [
    "hist = plt.hist(\n",
    "    mjj, bins=np.arange(0.005e8, 1.8e8, 0.005e8), histtype=\"stepfilled\", label=\"Truth\", alpha=0.5\n",
    ")\n",
    "plt.hist(samples, bins=hist[1], histtype=\"step\", label=\"KDE samples\")\n",
    "plt.xlabel(\"mjj\")\n",
    "plt.legend(frameon=False)\n",
    "plt.yscale(\"log\")\n",
    "plt.show()"
   ]
  }
 ],
 "metadata": {
  "kernelspec": {
   "display_name": "pllhome",
   "language": "python",
   "name": "python3"
  },
  "language_info": {
   "codemirror_mode": {
    "name": "ipython",
    "version": 3
   },
   "file_extension": ".py",
   "mimetype": "text/x-python",
   "name": "python",
   "nbconvert_exporter": "python",
   "pygments_lexer": "ipython3",
   "version": "3.10.6"
  }
 },
 "nbformat": 4,
 "nbformat_minor": 2
}
