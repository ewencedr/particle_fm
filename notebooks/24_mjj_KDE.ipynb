{
 "cells": [
  {
   "cell_type": "markdown",
   "metadata": {},
   "source": [
    "# Kernel Density Estimation (KDE) for the dijet mass distribution"
   ]
  },
  {
   "cell_type": "markdown",
   "metadata": {},
   "source": [
    "## Imports"
   ]
  },
  {
   "cell_type": "code",
   "execution_count": null,
   "metadata": {},
   "outputs": [],
   "source": [
    "import energyflow as ef\n",
    "import h5py\n",
    "import matplotlib as mpl\n",
    "import matplotlib.pyplot as plt\n",
    "import numpy as np\n",
    "from cycler import cycler\n",
    "from sklearn.neighbors import KernelDensity"
   ]
  },
  {
   "cell_type": "code",
   "execution_count": null,
   "metadata": {},
   "outputs": [],
   "source": [
    "# define plot style\n",
    "mpl.rcParams[\"axes.prop_cycle\"] = cycler(\n",
    "    color=[\n",
    "        \"#B6BFC3\",\n",
    "        \"#3B515B\",\n",
    "        \"#0271BB\",\n",
    "        \"#E2001A\",\n",
    "    ]\n",
    ")\n",
    "mpl.rcParams[\"font.size\"] = 15\n",
    "mpl.rcParams[\"patch.linewidth\"] = 1.25"
   ]
  },
  {
   "cell_type": "markdown",
   "metadata": {},
   "source": [
    "## Load data"
   ]
  },
  {
   "cell_type": "code",
   "execution_count": null,
   "metadata": {},
   "outputs": [],
   "source": [
    "path = \"/beegfs/desy/user/ewencedr/data/lhco/final_data/processed_data_background_rel.h5\"\n",
    "with h5py.File(path, \"r\") as f:\n",
    "    jets = f[\"jet_data\"][:]"
   ]
  },
  {
   "cell_type": "markdown",
   "metadata": {},
   "source": [
    "## Calculate mjj from jet data"
   ]
  },
  {
   "cell_type": "code",
   "execution_count": null,
   "metadata": {},
   "outputs": [],
   "source": [
    "p4_jets = ef.p4s_from_ptyphims(jets)"
   ]
  },
  {
   "cell_type": "code",
   "execution_count": null,
   "metadata": {},
   "outputs": [],
   "source": [
    "# get mjj from p4_jets\n",
    "pj_x = np.sqrt(np.sum(p4_jets[:, 0] ** 2, axis=1))\n",
    "pj_y = np.sqrt(np.sum(p4_jets[:, 1] ** 2, axis=1))\n",
    "mjj = (pj_x + pj_y) ** 2\n",
    "print(mjj.shape)"
   ]
  },
  {
   "cell_type": "code",
   "execution_count": null,
   "metadata": {},
   "outputs": [],
   "source": [
    "# cut window\n",
    "window_left = 0.33e8\n",
    "window_right = 0.37e8\n",
    "args_to_remove = (mjj >= window_left) & (mjj <= window_right)\n",
    "mjj_cut = mjj[~args_to_remove]"
   ]
  },
  {
   "cell_type": "code",
   "execution_count": null,
   "metadata": {},
   "outputs": [],
   "source": [
    "hist = plt.hist(\n",
    "    mjj, bins=np.arange(0.005e8, 1.8e8, 0.005e8), histtype=\"stepfilled\", label=\"mjj\", alpha=0.5\n",
    ")\n",
    "plt.hist(mjj_cut, bins=hist[1], histtype=\"step\", label=\"mjj with cut\")\n",
    "plt.legend()\n",
    "plt.show()"
   ]
  },
  {
   "cell_type": "markdown",
   "metadata": {},
   "source": [
    "## Estimate full mjj"
   ]
  },
  {
   "cell_type": "code",
   "execution_count": null,
   "metadata": {},
   "outputs": [],
   "source": [
    "kde_model_full = KernelDensity(kernel=\"gaussian\", bandwidth=0.01)\n",
    "kde_model_full.fit(mjj.reshape(-1, 1))\n",
    "\n",
    "samples_full = kde_model_full.sample(len(mjj))"
   ]
  },
  {
   "cell_type": "code",
   "execution_count": null,
   "metadata": {},
   "outputs": [],
   "source": [
    "hist = plt.hist(\n",
    "    mjj, bins=np.arange(0.005e8, 1.8e8, 0.005e8), histtype=\"stepfilled\", label=\"Truth\", alpha=0.5\n",
    ")\n",
    "plt.hist(samples_full, bins=hist[1], histtype=\"step\", label=\"KDE samples\")\n",
    "plt.xlabel(\"mjj\")\n",
    "plt.legend(frameon=False)\n",
    "plt.yscale(\"log\")\n",
    "plt.show()"
   ]
  },
  {
   "cell_type": "markdown",
   "metadata": {},
   "source": [
    "## Estimate mjj with cut"
   ]
  },
  {
   "cell_type": "code",
   "execution_count": null,
   "metadata": {},
   "outputs": [],
   "source": [
    "kde_model_cut = KernelDensity(kernel=\"gaussian\", bandwidth=0.01)\n",
    "kde_model_cut.fit(mjj_cut.reshape(-1, 1))\n",
    "\n",
    "samples_cut = kde_model_cut.sample(len(mjj_cut))"
   ]
  },
  {
   "cell_type": "code",
   "execution_count": null,
   "metadata": {},
   "outputs": [],
   "source": [
    "hist = plt.hist(\n",
    "    mjj_cut,\n",
    "    bins=np.arange(0.005e8, 1.8e8, 0.005e8),\n",
    "    histtype=\"stepfilled\",\n",
    "    label=\"Truth\",\n",
    "    alpha=0.5,\n",
    ")\n",
    "plt.hist(samples_cut, bins=hist[1], histtype=\"step\", label=\"KDE samples\")\n",
    "plt.xlabel(\"mjj\")\n",
    "plt.legend(frameon=False)\n",
    "plt.yscale(\"log\")\n",
    "plt.show()"
   ]
  },
  {
   "cell_type": "markdown",
   "metadata": {},
   "source": [
    "## Save data"
   ]
  },
  {
   "cell_type": "code",
   "execution_count": null,
   "metadata": {},
   "outputs": [],
   "source": [
    "path = \"/beegfs/desy/user/ewencedr/data/lhco/final_data/gen_mjj.h5\"\n",
    "with h5py.File(path, \"w\") as f:\n",
    "    f.create_dataset(\"mjj\", data=mjj)\n",
    "    f.create_dataset(\"mjj_cut\", data=mjj_cut)\n",
    "    f.create_dataset(\"gen_mjj\", data=samples_full)\n",
    "    f.create_dataset(\"gen_mjj_cut\", data=samples_cut)\n",
    "    f.create_dataset(\"args_to_remove\", data=args_to_remove)"
   ]
  }
 ],
 "metadata": {
  "kernelspec": {
   "display_name": "pllhome",
   "language": "python",
   "name": "python3"
  },
  "language_info": {
   "codemirror_mode": {
    "name": "ipython",
    "version": 3
   },
   "file_extension": ".py",
   "mimetype": "text/x-python",
   "name": "python",
   "nbconvert_exporter": "python",
   "pygments_lexer": "ipython3",
   "version": "3.10.6"
  }
 },
 "nbformat": 4,
 "nbformat_minor": 2
}
