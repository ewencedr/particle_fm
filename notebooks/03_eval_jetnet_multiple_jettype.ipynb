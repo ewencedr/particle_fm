{
 "cells": [
  {
   "attachments": {},
   "cell_type": "markdown",
   "metadata": {},
   "source": [
    "# Evaluation of Mulitple Jets"
   ]
  },
  {
   "attachments": {},
   "cell_type": "markdown",
   "metadata": {},
   "source": [
    "### Imports"
   ]
  },
  {
   "cell_type": "code",
   "execution_count": null,
   "metadata": {},
   "outputs": [],
   "source": [
    "import os\n",
    "import sys\n",
    "\n",
    "sys.path.append(\"../\")\n",
    "\n",
    "%matplotlib inline\n",
    "%load_ext autoreload\n",
    "%autoreload 2"
   ]
  },
  {
   "cell_type": "code",
   "execution_count": null,
   "metadata": {},
   "outputs": [],
   "source": [
    "import hydra\n",
    "import numpy as np\n",
    "import pytorch_lightning as pl\n",
    "import torch\n",
    "from omegaconf import OmegaConf"
   ]
  },
  {
   "cell_type": "code",
   "execution_count": null,
   "metadata": {},
   "outputs": [],
   "source": [
    "# set env variable DATA_DIR again because of hydra\n",
    "from dotenv import load_dotenv\n",
    "\n",
    "load_dotenv()\n",
    "os.environ[\"DATA_DIR\"] = os.environ.get(\"DATA_DIR\")"
   ]
  },
  {
   "cell_type": "code",
   "execution_count": null,
   "metadata": {},
   "outputs": [],
   "source": [
    "# plots and metrics\n",
    "import matplotlib.pyplot as plt\n",
    "\n",
    "from src.data.components import calculate_all_wasserstein_metrics\n",
    "from src.utils.data_generation import generate_data\n",
    "from src.utils.plotting import apply_mpl_styles, create_and_plot_data, plot_single_jets\n",
    "\n",
    "apply_mpl_styles()"
   ]
  },
  {
   "attachments": {},
   "cell_type": "markdown",
   "metadata": {},
   "source": [
    "### Load specified model and datamodule from selected experiment"
   ]
  },
  {
   "cell_type": "code",
   "execution_count": null,
   "metadata": {},
   "outputs": [],
   "source": [
    "experiment = \"fm_all_jets.yaml\""
   ]
  },
  {
   "cell_type": "code",
   "execution_count": null,
   "metadata": {},
   "outputs": [],
   "source": [
    "# load everything from experiment config\n",
    "with hydra.initialize(version_base=None, config_path=\"../configs/\"):\n",
    "    cfg = hydra.compose(config_name=\"train.yaml\", overrides=[f\"experiment={experiment}\"])\n",
    "    print(OmegaConf.to_yaml(cfg))"
   ]
  },
  {
   "cell_type": "code",
   "execution_count": null,
   "metadata": {},
   "outputs": [],
   "source": [
    "datamodule = hydra.utils.instantiate(cfg.data)\n",
    "model = hydra.utils.instantiate(cfg.model)"
   ]
  },
  {
   "cell_type": "code",
   "execution_count": null,
   "metadata": {},
   "outputs": [],
   "source": [
    "model_name_for_saving = \"nb_fm_tops30\""
   ]
  },
  {
   "cell_type": "code",
   "execution_count": null,
   "metadata": {},
   "outputs": [],
   "source": [
    "datamodule.setup()"
   ]
  },
  {
   "cell_type": "code",
   "execution_count": null,
   "metadata": {},
   "outputs": [],
   "source": [
    "test_data = np.array(datamodule.tensor_test)\n",
    "test_mask = np.array(datamodule.mask_test)\n",
    "test_cond = np.array(datamodule.tensor_conditioning_test)\n",
    "val_data = np.array(datamodule.tensor_val)\n",
    "val_mask = np.array(datamodule.mask_val)\n",
    "val_cond = np.array(datamodule.tensor_conditioning_val)\n",
    "train_data = np.array(datamodule.tensor_train)\n",
    "train_mask = np.array(datamodule.mask_train)\n",
    "train_cond = np.array(datamodule.tensor_conditioning_train)\n",
    "means = np.array(datamodule.means)\n",
    "stds = np.array(datamodule.stds)"
   ]
  },
  {
   "cell_type": "code",
   "execution_count": null,
   "metadata": {},
   "outputs": [],
   "source": [
    "print(test_data.shape)\n",
    "print(test_mask.shape)\n",
    "print(test_cond.shape)\n",
    "print(val_data.shape)\n",
    "print(val_mask.shape)\n",
    "print(val_cond.shape)\n",
    "print(train_data.shape)\n",
    "print(train_mask.shape)\n",
    "print(train_cond.shape)\n",
    "print(means)\n",
    "print(stds)"
   ]
  },
  {
   "attachments": {},
   "cell_type": "markdown",
   "metadata": {},
   "source": [
    "### Load Checkpoint"
   ]
  },
  {
   "cell_type": "code",
   "execution_count": null,
   "metadata": {},
   "outputs": [],
   "source": [
    "# tops\n",
    "# No Cond\n",
    "# 30\n",
    "# ckpt = \"/beegfs/desy/user/ewencedr/deep-learning/logs/30 layers8 onlymetrics/runs/2023-06-11_01-14-30/checkpoints/epoch_9757_w1m_0.00039622-EMA.ckpt\"\n",
    "# 150\n",
    "# ckpt = \"/beegfs/desy/user/ewencedr/deep-learning/logs/150 layers12 onlymetrics/runs/2023-06-11_01-16-05/checkpoints/epoch_6998_w1m_0.00054336-EMA.ckpt\"\n",
    "ckpt = \"/beegfs/desy/user/ewencedr/deep-learning/logs/150 t baseline nocond onlymetrics/runs/2023-06-15_11-24-26/checkpoints/epoch_9831_w1m_0.00086965-EMA.ckpt\"\n",
    "\n",
    "# cond\n",
    "# 30\n",
    "# ckpt = \"/beegfs/desy/user/ewencedr/deep-learning/logs/30 t ptmasscond onlymetrics/runs/2023-06-14_18-45-22/checkpoints/epoch_2976_w1m_0.00036156-EMA.ckpt\"\n",
    "# 150\n",
    "# ckpt = \"/beegfs/desy/user/ewencedr/deep-learning/logs/150 t ptmasscond onlymetrics/runs/2023-06-14_18-45-03/checkpoints/epoch_9812_w1m_0.00019521-EMA.ckpt\"\n",
    "# ckpt = \"/beegfs/desy/user/ewencedr/deep-learning/logs/150 t condall onlymetrics/runs/2023-06-15_11-22-57/checkpoints/epoch_9886_w1m_0.00020163-EMA.ckpt\"\n",
    "\n",
    "# alljets\n",
    "# nocond\n",
    "# 30\n",
    "# ckpt = \"/beegfs/desy/user/ewencedr/deep-learning/logs/30 alljets nocond onlymetrics/runs/2023-06-14_18-51-38/checkpoints/epoch_4983_w1m_0.00025734-EMA.ckpt\"\n",
    "# 150\n",
    "# ckpt = \"/beegfs/desy/user/ewencedr/deep-learning/logs/150 alljets nocond onlymetrics/runs/2023-06-14_18-51-51/checkpoints/epoch_6983_w1m_0.00038674-EMA.ckpt\"\n",
    "\n",
    "# cond\n",
    "# 30\n",
    "# 150\n",
    "# ckpt = \"/beegfs/desy/user/ewencedr/deep-learning/logs/150 alljets condmasspt onlymetrics/runs/2023-06-15_16-28-35/checkpoints/epoch_4986_w1m_0.00014095-EMA.ckpt\"\n",
    "# ckpt = \"/beegfs/desy/user/ewencedr/deep-learning/logs/150 alljets condall onlymetrics/runs/2023-06-15_16-30-36/checkpoints/epoch_2991_w1m_0.00017537-EMA.ckpt\"\n",
    "\n",
    "model = model.load_from_checkpoint(ckpt)"
   ]
  },
  {
   "cell_type": "code",
   "execution_count": null,
   "metadata": {},
   "outputs": [],
   "source": []
  },
  {
   "attachments": {},
   "cell_type": "markdown",
   "metadata": {},
   "source": [
    "## Generate Combined"
   ]
  },
  {
   "cell_type": "code",
   "execution_count": null,
   "metadata": {},
   "outputs": [],
   "source": [
    "factor = 1"
   ]
  },
  {
   "cell_type": "code",
   "execution_count": null,
   "metadata": {},
   "outputs": [],
   "source": [
    "# choose between test and val\n",
    "mask_gen = test_mask\n",
    "data_gen = test_data\n",
    "cond_gen = test_cond"
   ]
  },
  {
   "cell_type": "code",
   "execution_count": null,
   "metadata": {},
   "outputs": [],
   "source": [
    "# increase size for better statistics\n",
    "big_mask = np.repeat(mask_gen, factor, axis=0)\n",
    "big_data = np.repeat(data_gen, factor, axis=0)\n",
    "big_cond = np.repeat(cond_gen, factor, axis=0)"
   ]
  },
  {
   "cell_type": "code",
   "execution_count": null,
   "metadata": {},
   "outputs": [],
   "source": [
    "torch.manual_seed(9999)\n",
    "data, generation_time = generate_data(\n",
    "    model,\n",
    "    num_jet_samples=factor * len(mask_gen),\n",
    "    batch_size=1000,\n",
    "    cond=torch.tensor(big_cond),\n",
    "    variable_set_sizes=True,\n",
    "    mask=torch.tensor(big_mask),\n",
    "    normalized_data=True,\n",
    "    means=means,\n",
    "    stds=stds,\n",
    "    ode_solver=\"midpoint\",\n",
    "    ode_steps=200,\n",
    ")"
   ]
  },
  {
   "cell_type": "code",
   "execution_count": null,
   "metadata": {},
   "outputs": [],
   "source": []
  },
  {
   "cell_type": "code",
   "execution_count": null,
   "metadata": {},
   "outputs": [],
   "source": [
    "particle_data = data\n",
    "w_dists_big = calculate_all_wasserstein_metrics(\n",
    "    data_gen[..., :3],\n",
    "    particle_data,\n",
    "    None,\n",
    "    None,\n",
    "    num_eval_samples=len(data_gen),\n",
    "    num_batches=factor,\n",
    "    calculate_efps=True,\n",
    "    use_masks=False,\n",
    ")\n",
    "\n",
    "print(f\"W-Dist m: {w_dists_big['w1m_mean']:4.3E} +- {w_dists_big['w1m_std']:4.3E}\")\n",
    "print(f\"W-Dist p: {w_dists_big['w1p_mean']:4.3E} +- {w_dists_big['w1p_std']:4.3E}\")\n",
    "print(f\"W-Dist efp: {w_dists_big['w1efp_mean']:4.3E} +- {w_dists_big['w1efp_std']:4.3E}\")"
   ]
  },
  {
   "attachments": {},
   "cell_type": "markdown",
   "metadata": {},
   "source": [
    "## Generate one jet type"
   ]
  },
  {
   "cell_type": "code",
   "execution_count": null,
   "metadata": {},
   "outputs": [],
   "source": [
    "jet_type = \"t\"\n",
    "dataset = \"test\"\n",
    "if not datamodule.hparams.conditioning_type:\n",
    "    raise ValueError(\"Data module has no conditioning on jet type\")"
   ]
  },
  {
   "cell_type": "code",
   "execution_count": null,
   "metadata": {},
   "outputs": [],
   "source": [
    "if dataset == \"test\":\n",
    "    mask = test_mask\n",
    "    data = test_data\n",
    "    cond = test_cond\n",
    "elif dataset == \"val\":\n",
    "    mask = val_mask\n",
    "    data = val_data\n",
    "    cond = val_cond\n",
    "print(mask.shape)\n",
    "print(data.shape)\n",
    "print(cond.shape)"
   ]
  },
  {
   "cell_type": "code",
   "execution_count": null,
   "metadata": {},
   "outputs": [],
   "source": [
    "print(train_cond.shape)"
   ]
  },
  {
   "cell_type": "code",
   "execution_count": null,
   "metadata": {},
   "outputs": [],
   "source": [
    "# select only data, mask and cond for the specified jet type\n",
    "# also for training data because it is compared to test data later\n",
    "index_jettype = np.squeeze(np.argwhere(np.array(datamodule.jet_types) == jet_type))\n",
    "\n",
    "indice_jettype = np.squeeze(np.argwhere(cond[:, index_jettype] == 1))\n",
    "indice_jettype_train = np.squeeze(np.argwhere(train_cond[:, index_jettype] == 1))\n",
    "\n",
    "mask_jettype = mask[indice_jettype]\n",
    "data_jettype = data[indice_jettype]\n",
    "cond_jettype = cond[indice_jettype]\n",
    "train_mask_jettype = train_mask[indice_jettype_train]\n",
    "train_data_jettype = train_data[indice_jettype_train]\n",
    "train_cond_jettype = train_cond[indice_jettype_train]\n",
    "\n",
    "print(mask_jettype.shape)\n",
    "print(data_jettype.shape)\n",
    "print(cond_jettype.shape)\n",
    "print(train_mask_jettype.shape)\n",
    "print(train_data_jettype.shape)\n",
    "print(train_cond_jettype.shape)"
   ]
  },
  {
   "cell_type": "code",
   "execution_count": null,
   "metadata": {},
   "outputs": [],
   "source": [
    "factor = 1"
   ]
  },
  {
   "cell_type": "code",
   "execution_count": null,
   "metadata": {},
   "outputs": [],
   "source": [
    "# increase size for better statistics\n",
    "big_mask_jettype = np.repeat(mask_jettype, factor, axis=0)\n",
    "big_data_jettype = np.repeat(data_jettype, factor, axis=0)\n",
    "big_cond_jettype = np.repeat(cond_jettype, factor, axis=0)"
   ]
  },
  {
   "cell_type": "code",
   "execution_count": null,
   "metadata": {},
   "outputs": [],
   "source": [
    "torch.manual_seed(9999)\n",
    "data, generation_time = generate_data(\n",
    "    model,\n",
    "    num_jet_samples=len(big_mask_jettype),\n",
    "    batch_size=1000,\n",
    "    cond=torch.tensor(big_cond_jettype),\n",
    "    variable_set_sizes=True,\n",
    "    mask=torch.tensor(big_mask_jettype),\n",
    "    normalized_data=True,\n",
    "    means=means,\n",
    "    stds=stds,\n",
    "    ode_solver=\"midpoint\",\n",
    "    ode_steps=200,\n",
    ")"
   ]
  },
  {
   "cell_type": "code",
   "execution_count": null,
   "metadata": {},
   "outputs": [],
   "source": [
    "np.save(\n",
    "    \"/beegfs/desy/user/ewencedr/deep-learning/logs/150 alljets nocond onlymetrics/runs/2023-06-14_18-51-51/gen_data_t.npy\",\n",
    "    data,\n",
    ")"
   ]
  },
  {
   "cell_type": "code",
   "execution_count": null,
   "metadata": {},
   "outputs": [],
   "source": [
    "w_dists_big_jettype = calculate_all_wasserstein_metrics(\n",
    "    data_jettype[..., :3],\n",
    "    data,\n",
    "    None,\n",
    "    None,\n",
    "    num_eval_samples=len(data_jettype),\n",
    "    num_batches=factor,\n",
    "    calculate_efps=True,\n",
    "    use_masks=False,\n",
    ")\n",
    "\n",
    "print(f\"W-Dist m: {w_dists_big_jettype['w1m_mean']:4.3E} +- {w_dists_big_jettype['w1m_std']:4.3E}\")\n",
    "print(f\"W-Dist p: {w_dists_big_jettype['w1p_mean']:4.3E} +- {w_dists_big_jettype['w1p_std']:4.3E}\")\n",
    "print(\n",
    "    f\"W-Dist efp: {w_dists_big_jettype['w1efp_mean']:4.3E} +- {w_dists_big_jettype['w1efp_std']:4.3E}\"\n",
    ")"
   ]
  },
  {
   "attachments": {},
   "cell_type": "markdown",
   "metadata": {},
   "source": [
    "### Load EPiC Data"
   ]
  },
  {
   "cell_type": "code",
   "execution_count": null,
   "metadata": {},
   "outputs": [],
   "source": [
    "data = np.load(\n",
    "    \"/beegfs/desy/user/buhmae/7_EPiC-classification/dataset/fake/EPiC-GAN_200k_top_30.npy\"\n",
    ")\n",
    "data = data[: 26691 * 5, :, [1, 2, 0]]\n",
    "np.random.shuffle(data)\n",
    "ckpt = \"/beegfs/desy/user/ewencedr/deep-learning/jetnet_substructure/epic/\"\n",
    "model_name_for_saving = \"epic\"\n",
    "jet_type = \"t\""
   ]
  },
  {
   "attachments": {},
   "cell_type": "markdown",
   "metadata": {},
   "source": [
    "## Jet substructure"
   ]
  },
  {
   "attachments": {},
   "cell_type": "markdown",
   "metadata": {},
   "source": [
    "#### Generated data\n",
    "Using statistics of one val/test dataset"
   ]
  },
  {
   "cell_type": "code",
   "execution_count": null,
   "metadata": {},
   "outputs": [],
   "source": [
    "import h5py\n",
    "from scipy.stats import wasserstein_distance\n",
    "\n",
    "from src.data.components.metrics import wasserstein_distance_batched\n",
    "from src.utils.jet_substructure import dump_hlvs"
   ]
  },
  {
   "cell_type": "code",
   "execution_count": null,
   "metadata": {},
   "outputs": [],
   "source": [
    "path = \"/\".join(ckpt.split(\"/\")[:-2]) + \"/\"\n",
    "file_name = model_name_for_saving + \"_\" + jet_type + \"_substructure\"\n",
    "full_path = path + file_name\n",
    "print(full_path)"
   ]
  },
  {
   "cell_type": "code",
   "execution_count": null,
   "metadata": {},
   "outputs": [],
   "source": [
    "dump_hlvs(data, full_path, plot=True)\n",
    "# dump_hlvs(data[: len(data) // factor], full_path, plot=True)"
   ]
  },
  {
   "attachments": {},
   "cell_type": "markdown",
   "metadata": {},
   "source": [
    "#### JetNet Data"
   ]
  },
  {
   "cell_type": "code",
   "execution_count": null,
   "metadata": {},
   "outputs": [],
   "source": [
    "path_jetnet = f\"/beegfs/desy/user/ewencedr/deep-learning/jetnet_substructure/{jet_type}-{datamodule.hparams.num_particles}_substructure\""
   ]
  },
  {
   "cell_type": "code",
   "execution_count": null,
   "metadata": {},
   "outputs": [],
   "source": [
    "dump_hlvs(np.repeat(test_data, 5, axis=0), path_jetnet, plot=True)\n",
    "# dump_hlvs(data_jettype, path_jetnet, plot=True)"
   ]
  },
  {
   "attachments": {},
   "cell_type": "markdown",
   "metadata": {},
   "source": [
    "#### load and compare generated data with jetnet data (W-Dists)"
   ]
  },
  {
   "cell_type": "code",
   "execution_count": null,
   "metadata": {},
   "outputs": [],
   "source": [
    "keys = []\n",
    "data_substructure = []\n",
    "with h5py.File(full_path + \".h5\", \"r\") as f:\n",
    "    print(f.keys())\n",
    "    tau21 = np.array(f[\"tau21\"])\n",
    "    tau32 = np.array(f[\"tau32\"])\n",
    "    d2 = np.array(f[\"d2\"])\n",
    "    for key in f.keys():\n",
    "        keys.append(key)\n",
    "        data_substructure.append(np.array(f[key]))\n",
    "keys = np.array(keys)\n",
    "data_substructure = np.array(data_substructure)"
   ]
  },
  {
   "cell_type": "code",
   "execution_count": null,
   "metadata": {},
   "outputs": [],
   "source": [
    "data_substructure_jetnet = []\n",
    "with h5py.File(path_jetnet + \".h5\", \"r\") as f:\n",
    "    tau21_jetnet = np.array(f[\"tau21\"])\n",
    "    tau32_jetnet = np.array(f[\"tau32\"])\n",
    "    d2_jetnet = np.array(f[\"d2\"])\n",
    "    for key in f.keys():\n",
    "        data_substructure_jetnet.append(np.array(f[key]))\n",
    "data_substructure_jetnet = np.array(data_substructure_jetnet)"
   ]
  },
  {
   "cell_type": "code",
   "execution_count": null,
   "metadata": {},
   "outputs": [],
   "source": [
    "w_dist_tau21_mean, w_dist_tau21_std = wasserstein_distance_batched(\n",
    "    tau21_jetnet[: len(tau21_jetnet) // factor], tau21, num_batches=factor\n",
    ")\n",
    "w_dist_tau32_mean, w_dist_tau32_std = wasserstein_distance_batched(\n",
    "    tau32_jetnet[: len(tau32_jetnet) // factor], tau32, num_batches=factor\n",
    ")\n",
    "w_dist_d2_mean, w_dist_d2_std = wasserstein_distance_batched(\n",
    "    d2_jetnet[: len(d2_jetnet) // factor], d2, num_batches=factor\n",
    ")\n",
    "print(f\"W-Dist tau21: {w_dist_tau21_mean:4.3E} +- {w_dist_tau21_std:4.3E}\")\n",
    "print(f\"W-Dist tau32: {w_dist_tau32_mean:4.3E} +- {w_dist_tau32_std:4.3E}\")\n",
    "print(f\"W-Dist d2: {w_dist_d2_mean:4.3E} +- {w_dist_d2_std:4.3E}\")"
   ]
  },
  {
   "attachments": {},
   "cell_type": "markdown",
   "metadata": {},
   "source": [
    "#### truth data"
   ]
  },
  {
   "cell_type": "code",
   "execution_count": null,
   "metadata": {},
   "outputs": [],
   "source": [
    "path_jetnet_train = f\"/beegfs/desy/user/ewencedr/deep-learning/jetnet_substructure/{jet_type}-{datamodule.hparams.num_particles}-train_substructure-t150\""
   ]
  },
  {
   "cell_type": "code",
   "execution_count": null,
   "metadata": {},
   "outputs": [],
   "source": [
    "dump_hlvs(train_data, path_jetnet_train, plot=True)"
   ]
  },
  {
   "cell_type": "code",
   "execution_count": null,
   "metadata": {},
   "outputs": [],
   "source": [
    "with h5py.File(path_jetnet_train + \".h5\", \"r\") as f:\n",
    "    tau21_jetnet_train = np.array(f[\"tau21\"])\n",
    "    tau32_jetnet_train = np.array(f[\"tau32\"])\n",
    "    d2_jetnet_train = np.array(f[\"d2\"])"
   ]
  },
  {
   "cell_type": "code",
   "execution_count": null,
   "metadata": {},
   "outputs": [],
   "source": [
    "print((tau21_jetnet[: len(tau21_jetnet) // factor]).shape)\n",
    "print(tau21_jetnet_train.shape)"
   ]
  },
  {
   "cell_type": "code",
   "execution_count": null,
   "metadata": {},
   "outputs": [],
   "source": [
    "w_dist_tau21_mean_truth, w_dist_tau21_std_truth = wasserstein_distance_batched(\n",
    "    tau21_jetnet[: len(tau21_jetnet) // factor], tau21_jetnet_train, num_batches=factor - 1\n",
    ")\n",
    "w_dist_tau32_mean_truth, w_dist_tau32_std_truth = wasserstein_distance_batched(\n",
    "    tau32_jetnet[: len(tau32_jetnet) // factor], tau32_jetnet_train, num_batches=factor - 1\n",
    ")\n",
    "w_dist_d2_mean_truth, w_dist_d2_std_truth = wasserstein_distance_batched(\n",
    "    d2_jetnet[: len(d2_jetnet) // factor], d2_jetnet_train, num_batches=factor - 1\n",
    ")\n",
    "print(f\"W-Dist tau21: {w_dist_tau21_mean_truth:4.3E} +- {w_dist_tau21_std_truth:4.3E}\")\n",
    "print(f\"W-Dist tau32: {w_dist_tau32_mean_truth:4.3E} +- {w_dist_tau32_std_truth:4.3E}\")\n",
    "print(f\"W-Dist d2: {w_dist_d2_mean_truth:4.3E} +- {w_dist_d2_std_truth:4.3E}\")"
   ]
  },
  {
   "attachments": {},
   "cell_type": "markdown",
   "metadata": {},
   "source": [
    "#### Histogram Plots for Substructure Metrics"
   ]
  },
  {
   "cell_type": "code",
   "execution_count": null,
   "metadata": {},
   "outputs": [],
   "source": [
    "bins = 100\n",
    "fig, (ax1, ax2, ax3) = plt.subplots(1, 3, figsize=(15, 5))\n",
    "\n",
    "hist_tau21_jetnet = ax1.hist(\n",
    "    tau21_jetnet, bins=bins, label=\"JetNet\", histtype=\"stepfilled\", alpha=0.5\n",
    ")\n",
    "hist_tau21 = ax1.hist(tau21, bins=hist_tau21_jetnet[1], label=\"EPiC-FM\", histtype=\"step\")\n",
    "ax1.set_title(r\"$\\tau_{21}$\")\n",
    "ax1.legend(loc=\"best\")\n",
    "\n",
    "hist_tau32_jetnet = ax2.hist(\n",
    "    tau32_jetnet, bins=bins, label=\"JetNet\", histtype=\"stepfilled\", alpha=0.5\n",
    ")\n",
    "hist_tau32 = ax2.hist(tau32, bins=hist_tau32_jetnet[1], label=\"EPiC-FM\", histtype=\"step\")\n",
    "ax2.set_title(r\"$\\tau_{32}$\")\n",
    "ax2.legend(loc=\"best\")\n",
    "\n",
    "hist_d2_jetnet = ax3.hist(d2_jetnet, bins=bins, label=\"JetNet\", histtype=\"stepfilled\", alpha=0.5)\n",
    "hist_d2 = ax3.hist(d2, bins=hist_d2_jetnet[1], label=\"EPiC-FM\", histtype=\"step\")\n",
    "ax3.set_title(r\"$d_2$\")\n",
    "ax3.legend(loc=\"best\")\n",
    "\n",
    "plt.legend(loc=\"best\")\n",
    "plt.tight_layout()"
   ]
  },
  {
   "cell_type": "code",
   "execution_count": null,
   "metadata": {},
   "outputs": [],
   "source": [
    "bins = 100\n",
    "fig, axs = plt.subplots(4, 3, figsize=(15, 20))\n",
    "\n",
    "for i, ax in enumerate(axs.flatten()):\n",
    "    hist_jetnet = ax.hist(\n",
    "        data_substructure_jetnet[i], bins=bins, label=\"JetNet\", histtype=\"stepfilled\", alpha=0.5\n",
    "    )\n",
    "    hist = ax.hist(data_substructure[i], bins=hist_jetnet[1], label=\"EPiC-FM\", histtype=\"step\")\n",
    "    ax.set_title(keys[i])\n",
    "    ax.legend(loc=\"best\")\n",
    "\n",
    "plt.legend(loc=\"best\")\n",
    "plt.tight_layout()"
   ]
  },
  {
   "attachments": {},
   "cell_type": "markdown",
   "metadata": {},
   "source": [
    "### Histograms"
   ]
  },
  {
   "cell_type": "code",
   "execution_count": null,
   "metadata": {},
   "outputs": [],
   "source": [
    "fig, data, generation_times = create_and_plot_data(\n",
    "    np.array(test_data),\n",
    "    [model],\n",
    "    cond=torch.tensor(test_cond),\n",
    "    save_name=\"fm_tops_nb\",\n",
    "    labels=[\"FM\"],\n",
    "    mask=test_mask,\n",
    "    num_jet_samples=len(test_data),\n",
    "    batch_size=1000,\n",
    "    variable_set_sizes=True,\n",
    "    normalized_data=[True],\n",
    "    means=means,\n",
    "    stds=stds,\n",
    "    save_folder=\"./logs/nb_plots/\",\n",
    "    plottype=\"sim_data\",\n",
    "    plot_jet_features=True,\n",
    "    plot_w_dists=False,\n",
    "    plot_selected_multiplicities=False,\n",
    "    selected_multiplicities=[1, 3, 5, 10, 20, 30],\n",
    "    ode_solver=\"midpoint\",\n",
    "    ode_steps=200,\n",
    "    bins=100,\n",
    "    mass_linear=False,\n",
    ")"
   ]
  },
  {
   "attachments": {},
   "cell_type": "markdown",
   "metadata": {},
   "source": [
    "## Plot ODE solver comparison"
   ]
  },
  {
   "cell_type": "code",
   "execution_count": null,
   "metadata": {},
   "outputs": [],
   "source": [
    "import pandas as pd"
   ]
  },
  {
   "cell_type": "code",
   "execution_count": null,
   "metadata": {},
   "outputs": [],
   "source": [
    "df = pd.read_csv(\n",
    "    \"/beegfs/desy/user/ewencedr/deep-learning/ode_solver_comparison/ode_solver-v3.csv\"\n",
    ")\n",
    "df"
   ]
  },
  {
   "cell_type": "code",
   "execution_count": null,
   "metadata": {},
   "outputs": [],
   "source": [
    "df_reduced = df.loc[:, [\"Solver\", \"Steps\", \"Time per Jet\", \"w1m\", \"w1m_std\"]]"
   ]
  },
  {
   "cell_type": "code",
   "execution_count": null,
   "metadata": {},
   "outputs": [],
   "source": [
    "df_adaptive = pd.read_csv(\n",
    "    \"/beegfs/desy/user/ewencedr/deep-learning/ode_solver_comparison/ode_solver-adaptive.csv\"\n",
    ")\n",
    "df_adaptive"
   ]
  },
  {
   "cell_type": "code",
   "execution_count": null,
   "metadata": {},
   "outputs": [],
   "source": [
    "steps_time = df_reduced.pivot(index=\"Steps\", columns=\"Solver\", values=\"Time per Jet\")"
   ]
  },
  {
   "cell_type": "code",
   "execution_count": null,
   "metadata": {},
   "outputs": [],
   "source": [
    "F07F8C # pink\n",
    "80B8DD # hellblau\n",
    "            \"#B6BFC3\", #hellgrau\n",
    "            \"#3B515B\", #grau \n",
    "            \"#0271BB\", # blau\n",
    "            \"#E2001A\", #rot"
   ]
  },
  {
   "cell_type": "code",
   "execution_count": null,
   "metadata": {},
   "outputs": [],
   "source": [
    "plt.plot(steps_time.index, steps_time[\"euler\"], label=\"Euler (1nfe)\", color=\"#B6BFC3\")\n",
    "plt.plot(steps_time.index, steps_time[\"midpoint\"], label=\"Midpoint (2nfe)\", color=\"#0271BB\")\n",
    "plt.plot(steps_time.index, steps_time[\"rk4\"], label=\"RK4 (4nfe)\", color=\"#E2001A\")\n",
    "plt.plot(steps_time.index, steps_time[\"ieuler\"], label=\"iEuler\", color=\"#3B515B\")\n",
    "plt.axhline(\n",
    "    df_adaptive.loc[1, [\"Time per Jet\"]][0],\n",
    "    label=\"Dopri5 Zuko\",\n",
    "    linestyle=\"--\",\n",
    "    color=\"black\",\n",
    "    alpha=0.8,\n",
    ")\n",
    "plt.axhline(\n",
    "    df_adaptive.loc[0, [\"Time per Jet\"]][0],\n",
    "    label=\"Dopri5\",\n",
    "    linestyle=\"--\",\n",
    "    color=\"black\",\n",
    "    alpha=0.5,\n",
    ")\n",
    "plt.axhline(\n",
    "    df_adaptive.loc[2, [\"Time per Jet\"]][0],\n",
    "    label=\"Tsit5\",\n",
    "    linestyle=\"--\",\n",
    "    color=\"black\",\n",
    "    alpha=0.3,\n",
    ")\n",
    "plt.axhline(0.05, label=\"Pyhia\", linestyle=\"-.\", color=\"#E2001A\")\n",
    "plt.yscale(\"log\")\n",
    "plt.xlabel(\"Steps\")\n",
    "plt.ylabel(\"Time per Jet [s]\")\n",
    "plt.legend(loc=\"best\", prop={\"size\": 11}, frameon=False, ncol=2)\n",
    "plt.show()"
   ]
  },
  {
   "cell_type": "code",
   "execution_count": null,
   "metadata": {},
   "outputs": [],
   "source": [
    "df_nfe = pd.read_csv(\n",
    "    \"/beegfs/desy/user/ewencedr/deep-learning/ode_solver_comparison/ode_solver-nfe2.csv\"\n",
    ")\n",
    "nfe = [20, 40, 60, 80, 100, 200, 20, 40, 60, 80, 100, 200, 20, 40, 60, 80, 100, 200]\n",
    "df_nfe[\"nfe\"] = nfe\n",
    "df_nfe"
   ]
  },
  {
   "cell_type": "code",
   "execution_count": null,
   "metadata": {},
   "outputs": [],
   "source": [
    "nfe_w1m = df_nfe.pivot(index=\"nfe\", columns=\"Solver\", values=[\"w1m\", \"w1m_std\"])\n",
    "print(nfe_w1m)"
   ]
  },
  {
   "cell_type": "code",
   "execution_count": null,
   "metadata": {},
   "outputs": [],
   "source": [
    "steps_w1m = df_reduced.pivot(index=\"Steps\", columns=\"Solver\", values=[\"w1m\", \"w1m_std\"])"
   ]
  },
  {
   "cell_type": "code",
   "execution_count": null,
   "metadata": {},
   "outputs": [],
   "source": [
    "label = [\"Euler\", \"Midpoint\", \"RK4\", \"iEuler\"]\n",
    "colors = [\"#B6BFC3\", \"#0271BB\", \"#E2001A\", \"#3B515B\"]\n",
    "# label = [\"Midpoint (2nfe)\", \"RK4 (4nfe)\", \"iEuler\"]\n",
    "# colors = [\"#0271BB\", \"#E2001A\", \"#3B515B\"]\n",
    "for i, solver in enumerate([\"euler\", \"midpoint\", \"rk4\"]):\n",
    "    plt.plot(nfe_w1m.index, nfe_w1m[\"w1m\"][solver], label=label.pop(0), color=colors[i])\n",
    "    plt.fill_between(\n",
    "        nfe_w1m.index,\n",
    "        nfe_w1m[\"w1m\"][solver] - nfe_w1m[\"w1m_std\"][solver],\n",
    "        nfe_w1m[\"w1m\"][solver] + nfe_w1m[\"w1m_std\"][solver],\n",
    "        color=colors[i],\n",
    "        alpha=0.2,\n",
    "    )\n",
    "plt.axhline(\n",
    "    df_adaptive.loc[1, [\"w1m\"]][0], label=\"Dopri5 Zuko\", linestyle=\"--\", color=\"black\", alpha=0.8\n",
    ")\n",
    "plt.fill_between(\n",
    "    steps_w1m.index,\n",
    "    df_adaptive.loc[1, [\"w1m\"]][0] - df_adaptive.loc[1, [\"w1m_std\"]][0],\n",
    "    df_adaptive.loc[1, [\"w1m\"]][0] + df_adaptive.loc[1, [\"w1m_std\"]][0],\n",
    "    color=\"black\",\n",
    "    alpha=0.1,\n",
    ")\n",
    "# plt.axhline(\n",
    "#    df_adaptive.loc[0, [\"w1m\"]][0], label=\"Dopri5\", linestyle=\"--\", color=\"black\", alpha=0.5\n",
    "# )\n",
    "# plt.fill_between(\n",
    "#    steps_w1m.index,\n",
    "#    df_adaptive.loc[0, [\"w1m\"]][0] - df_adaptive.loc[0, [\"w1m_std\"]][0],\n",
    "#    df_adaptive.loc[0, [\"w1m\"]][0] + df_adaptive.loc[0, [\"w1m_std\"]][0],\n",
    "#    color=\"black\",\n",
    "#    alpha=0.25,\n",
    "# )\n",
    "# plt.axhline(\n",
    "#    df_adaptive.loc[2, [\"w1m\"]][0], label=\"Tsit5\", linestyle=\"--\", color=\"black\", alpha=0.3\n",
    "# )\n",
    "# plt.fill_between(\n",
    "#        steps_w1m.index,\n",
    "#        df_adaptive.loc[2,[\"w1m\"]][0] - df_adaptive.loc[2,[\"w1m_std\"]][0],\n",
    "#        df_adaptive.loc[2,[\"w1m\"]][0] + df_adaptive.loc[2,[\"w1m_std\"]][0],\n",
    "#        color=\"black\",\n",
    "#        alpha=0.15,\n",
    "#    )\n",
    "plt.yscale(\"log\")\n",
    "plt.xlabel(\"nfe\")\n",
    "plt.ylabel(\"$W_1^M$\")\n",
    "plt.legend(loc=\"best\", prop={\"size\": 11}, frameon=False, ncol=2)\n",
    "plt.show()"
   ]
  },
  {
   "cell_type": "code",
   "execution_count": null,
   "metadata": {},
   "outputs": [],
   "source": [
    "df_nfe = pd.read_csv(\n",
    "    \"/beegfs/desy/user/ewencedr/deep-learning/ode_solver_comparison/ode_solver-nfe2.csv\"\n",
    ")\n",
    "nfe = [20, 40, 60, 80, 100, 200, 20, 40, 60, 80, 100, 200, 20, 40, 60, 80, 100, 200]\n",
    "df_nfe[\"nfe\"] = nfe\n",
    "df_nfe"
   ]
  },
  {
   "cell_type": "code",
   "execution_count": null,
   "metadata": {},
   "outputs": [],
   "source": [
    "nfe_w1m = df_nfe.pivot(index=\"nfe\", columns=\"Solver\", values=[\"w1m\", \"w1m_std\"])\n",
    "print(nfe_w1m)"
   ]
  },
  {
   "cell_type": "code",
   "execution_count": null,
   "metadata": {},
   "outputs": [],
   "source": [
    "# midpoint: 2 nfe\n",
    "# rk4: 4 nfe\n",
    "# euler: 1 nfe"
   ]
  },
  {
   "cell_type": "code",
   "execution_count": null,
   "metadata": {},
   "outputs": [],
   "source": [
    "time_w1m = df_reduced.pivot(index=\"Time per Jet\", columns=\"Solver\", values=[\"w1m\", \"w1m_std\"])\n",
    "time_w1m"
   ]
  },
  {
   "cell_type": "code",
   "execution_count": null,
   "metadata": {},
   "outputs": [],
   "source": []
  }
 ],
 "metadata": {
  "kernelspec": {
   "display_name": "pllhome",
   "language": "python",
   "name": "python3"
  },
  "language_info": {
   "codemirror_mode": {
    "name": "ipython",
    "version": 3
   },
   "file_extension": ".py",
   "mimetype": "text/x-python",
   "name": "python",
   "nbconvert_exporter": "python",
   "pygments_lexer": "ipython3",
   "version": "3.10.6"
  }
 },
 "nbformat": 4,
 "nbformat_minor": 2
}
