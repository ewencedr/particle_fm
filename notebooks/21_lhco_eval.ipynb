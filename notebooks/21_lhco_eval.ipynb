{
 "cells": [
  {
   "cell_type": "code",
   "execution_count": null,
   "metadata": {},
   "outputs": [],
   "source": [
    "import os\n",
    "import sys\n",
    "\n",
    "sys.path.append(\"../\")\n",
    "\n",
    "%matplotlib inline\n",
    "%load_ext autoreload\n",
    "%autoreload 2"
   ]
  },
  {
   "cell_type": "code",
   "execution_count": null,
   "metadata": {},
   "outputs": [],
   "source": [
    "import hydra\n",
    "import numpy as np\n",
    "import pytorch_lightning as pl\n",
    "import torch\n",
    "from omegaconf import OmegaConf"
   ]
  },
  {
   "cell_type": "code",
   "execution_count": null,
   "metadata": {},
   "outputs": [],
   "source": [
    "import awkward as ak\n",
    "import energyflow as ef\n",
    "import fastjet as fj\n",
    "import h5py\n",
    "import vector"
   ]
  },
  {
   "cell_type": "code",
   "execution_count": null,
   "metadata": {},
   "outputs": [],
   "source": [
    "# set env variable DATA_DIR again because of hydra\n",
    "from dotenv import load_dotenv\n",
    "\n",
    "load_dotenv()\n",
    "os.environ[\"DATA_DIR\"] = os.environ.get(\"DATA_DIR\")"
   ]
  },
  {
   "cell_type": "code",
   "execution_count": null,
   "metadata": {},
   "outputs": [],
   "source": [
    "# plots and metrics\n",
    "import matplotlib.pyplot as plt\n",
    "\n",
    "# from src.data.components import calculate_all_wasserstein_metrics\n",
    "from src.utils.data_generation import generate_data\n",
    "from src.utils.plot.lhco_plotting import plot_unprocessed_data_lhco\n",
    "from src.utils.plotting import apply_mpl_styles, plot_data, prepare_data_for_plotting\n",
    "\n",
    "apply_mpl_styles()"
   ]
  },
  {
   "cell_type": "code",
   "execution_count": null,
   "metadata": {},
   "outputs": [],
   "source": [
    "experiment = \"lhco.yaml\""
   ]
  },
  {
   "cell_type": "code",
   "execution_count": null,
   "metadata": {},
   "outputs": [],
   "source": [
    "# load everything from experiment config\n",
    "with hydra.initialize(version_base=None, config_path=\"../configs/\"):\n",
    "    cfg = hydra.compose(config_name=\"train.yaml\", overrides=[f\"experiment={experiment}\"])\n",
    "    # print(OmegaConf.to_yaml(cfg))"
   ]
  },
  {
   "cell_type": "code",
   "execution_count": null,
   "metadata": {},
   "outputs": [],
   "source": [
    "datamodule = hydra.utils.instantiate(cfg.data)\n",
    "model = hydra.utils.instantiate(cfg.model)"
   ]
  },
  {
   "cell_type": "code",
   "execution_count": null,
   "metadata": {},
   "outputs": [],
   "source": [
    "datamodule.setup()"
   ]
  },
  {
   "cell_type": "code",
   "execution_count": null,
   "metadata": {},
   "outputs": [],
   "source": [
    "test_data = np.array(datamodule.tensor_test)\n",
    "test_mask = np.array(datamodule.mask_test)\n",
    "test_cond = np.array(datamodule.tensor_conditioning_test)\n",
    "val_data = np.array(datamodule.tensor_val)\n",
    "val_mask = np.array(datamodule.mask_val)\n",
    "val_cond = np.array(datamodule.tensor_conditioning_val)\n",
    "train_data = np.array(datamodule.tensor_train)\n",
    "train_mask = np.array(datamodule.mask_train)\n",
    "train_cond = np.array(datamodule.tensor_conditioning_train)\n",
    "means = np.array(datamodule.means)\n",
    "stds = np.array(datamodule.stds)"
   ]
  },
  {
   "cell_type": "code",
   "execution_count": null,
   "metadata": {},
   "outputs": [],
   "source": [
    "print(test_data.shape)\n",
    "print(test_mask.shape)\n",
    "print(test_cond.shape)\n",
    "print(val_data.shape)\n",
    "print(val_mask.shape)\n",
    "print(val_cond.shape)\n",
    "print(train_data.shape)\n",
    "print(train_mask.shape)\n",
    "print(train_cond.shape)\n",
    "print(means)\n",
    "print(stds)"
   ]
  },
  {
   "cell_type": "code",
   "execution_count": null,
   "metadata": {},
   "outputs": [],
   "source": [
    "ckpt = (\n",
    "    \"/beegfs/desy/user/ewencedr/deep-learning/logs/lhco unprocessed data\"\n",
    "    \" norm/runs/2023-08-01_15-23-47/checkpoints/last-EMA.ckpt\"\n",
    ")\n",
    "model = model.load_from_checkpoint(ckpt)"
   ]
  },
  {
   "cell_type": "code",
   "execution_count": null,
   "metadata": {},
   "outputs": [],
   "source": [
    "samples = 10000"
   ]
  },
  {
   "cell_type": "code",
   "execution_count": null,
   "metadata": {},
   "outputs": [],
   "source": [
    "torch.manual_seed(9999)\n",
    "data, generation_time = generate_data(\n",
    "    model,\n",
    "    num_jet_samples=samples,\n",
    "    batch_size=2048,\n",
    "    cond=None,\n",
    "    variable_set_sizes=True,\n",
    "    mask=torch.tensor(test_mask[:samples]),\n",
    "    normalized_data=True,\n",
    "    means=means,\n",
    "    stds=stds,\n",
    "    ode_solver=\"midpoint\",\n",
    "    ode_steps=50,\n",
    ")"
   ]
  },
  {
   "cell_type": "code",
   "execution_count": null,
   "metadata": {},
   "outputs": [],
   "source": [
    "data_full = data[..., [2, 0, 1]]\n",
    "background_data = test_data[..., [2, 0, 1]]"
   ]
  },
  {
   "cell_type": "code",
   "execution_count": null,
   "metadata": {},
   "outputs": [],
   "source": [
    "fig = plot_unprocessed_data_lhco(\n",
    "    particle_data=np.array([data_full]),\n",
    "    sim_data=background_data[:samples],\n",
    "    plottype=\"\",\n",
    "    save_fig=False,\n",
    ")"
   ]
  },
  {
   "cell_type": "code",
   "execution_count": null,
   "metadata": {},
   "outputs": [],
   "source": [
    "# to awkard array\n",
    "zrs = np.zeros((data_full.shape[0], data_full.shape[1], 1))\n",
    "data_with_mass = np.concatenate((data_full, zrs), axis=2)\n",
    "awkward_data = ak.from_numpy(data_with_mass)"
   ]
  },
  {
   "cell_type": "code",
   "execution_count": null,
   "metadata": {},
   "outputs": [],
   "source": [
    "# tell awkward that the data is in eta, phi, pt, mass format\n",
    "vector.register_awkward()\n",
    "unmasked_data = ak.zip(\n",
    "    {\n",
    "        \"pt\": awkward_data[:, :, 0],\n",
    "        \"eta\": awkward_data[:, :, 1],\n",
    "        \"phi\": awkward_data[:, :, 2],\n",
    "        \"mass\": awkward_data[:, :, 3],\n",
    "    },\n",
    "    with_name=\"Momentum4D\",\n",
    ")\n",
    "print(unmasked_data.type)"
   ]
  },
  {
   "cell_type": "code",
   "execution_count": null,
   "metadata": {},
   "outputs": [],
   "source": [
    "# remove the padded data points\n",
    "data = ak.drop_none(ak.mask(unmasked_data, unmasked_data.pt != 0))\n",
    "print(data.type)"
   ]
  },
  {
   "cell_type": "code",
   "execution_count": null,
   "metadata": {},
   "outputs": [],
   "source": [
    "jetdef = fj.JetDefinition(fj.antikt_algorithm, 1.0)"
   ]
  },
  {
   "cell_type": "code",
   "execution_count": null,
   "metadata": {},
   "outputs": [],
   "source": [
    "cluster = fj.ClusterSequence(data, jetdef)"
   ]
  },
  {
   "cell_type": "code",
   "execution_count": null,
   "metadata": {},
   "outputs": [],
   "source": [
    "# get jets and constituents\n",
    "jets_out = cluster.inclusive_jets()\n",
    "consts_out = cluster.constituents()"
   ]
  },
  {
   "cell_type": "code",
   "execution_count": null,
   "metadata": {},
   "outputs": [],
   "source": [
    "# define a function to sort ak.Array by pt\n",
    "def sort_by_pt(data: ak.Array, ascending: bool = False, return_indices: bool = False):\n",
    "    \"\"\"Sort ak.Array by pt\n",
    "\n",
    "    Args:\n",
    "        data (ak.Array): array that should be sorted by pt. It should have a pt attribute.\n",
    "        ascending (bool, optional): If True, the first value in each sorted group will be smallest; if False, the order is from largest to smallest. Defaults to False.\n",
    "        return_indices (bool, optional): If True, the indices of the sorted array are returned. Defaults to False.\n",
    "\n",
    "    Returns:\n",
    "        ak.Array: sorted array\n",
    "        ak.Array (optional): indices of the sorted array\n",
    "    \"\"\"\n",
    "    if isinstance(data, ak.Array):\n",
    "        try:\n",
    "            temppt = data.pt\n",
    "        except AttributeError:\n",
    "            raise AttributeError(\n",
    "                \"Needs either correct coordinates or embedded vector backend\"\n",
    "            ) from None\n",
    "    tmpsort = ak.argsort(temppt, axis=-1, ascending=ascending)\n",
    "    if return_indices:\n",
    "        return data[tmpsort], tmpsort\n",
    "    else:\n",
    "        return data[tmpsort]"
   ]
  },
  {
   "cell_type": "code",
   "execution_count": null,
   "metadata": {},
   "outputs": [],
   "source": [
    "# sort jets and constituents by pt\n",
    "jets_sorted, idxs = sort_by_pt(jets_out, return_indices=True)\n",
    "consts_sorted_jets = consts_out[idxs]\n",
    "consts_sorted = sort_by_pt(consts_sorted_jets)"
   ]
  },
  {
   "cell_type": "code",
   "execution_count": null,
   "metadata": {},
   "outputs": [],
   "source": [
    "# only take the first 2 highest pt jets\n",
    "jets_awk = jets_sorted[:, :2]\n",
    "consts_awk = consts_sorted[:, :2]"
   ]
  },
  {
   "cell_type": "code",
   "execution_count": null,
   "metadata": {},
   "outputs": [],
   "source": [
    "# get max. number of constituents in an event\n",
    "max_consts = int(ak.max(ak.num(consts_awk, axis=-1)))\n",
    "print(max_consts)\n",
    "max_consts = 279"
   ]
  },
  {
   "cell_type": "code",
   "execution_count": null,
   "metadata": {},
   "outputs": [],
   "source": [
    "# pad the data with zeros to make them all the same length\n",
    "zero_padding = ak.zip({\"pt\": 0.0, \"eta\": 0.0, \"phi\": 0.0, \"mass\": 0.0}, with_name=\"Momentum4D\")\n",
    "padded_consts = ak.fill_none(\n",
    "    ak.pad_none(consts_awk, max_consts, clip=True, axis=-1), zero_padding, axis=-1\n",
    ")\n",
    "print(padded_consts.type)"
   ]
  },
  {
   "cell_type": "code",
   "execution_count": null,
   "metadata": {},
   "outputs": [],
   "source": [
    "# go back to numpy arrays\n",
    "pt, eta, phi, mass = ak.unzip(padded_consts)\n",
    "pt_np = ak.to_numpy(pt)\n",
    "eta_np = ak.to_numpy(eta)\n",
    "phi_np = ak.to_numpy(phi)\n",
    "consts = np.stack((pt_np, eta_np, phi_np), axis=-1)\n",
    "print(consts.shape)"
   ]
  },
  {
   "cell_type": "code",
   "execution_count": null,
   "metadata": {},
   "outputs": [],
   "source": [
    "# calculate mask for jet constituents\n",
    "mask = np.expand_dims((consts[..., 0] > 0).astype(int), axis=-1)\n",
    "print(mask.shape)"
   ]
  },
  {
   "cell_type": "code",
   "execution_count": null,
   "metadata": {},
   "outputs": [],
   "source": [
    "# get numpy arrays for jet data\n",
    "jets_pt_np = ak.to_numpy(jets_awk.pt)\n",
    "jets_eta_np = ak.to_numpy(jets_awk.eta)\n",
    "jets_phi_np = ak.to_numpy(jets_awk.phi)\n",
    "jets_m_np = ak.to_numpy(jets_awk.m)\n",
    "jets = np.stack((jets_pt_np, jets_eta_np, jets_phi_np, jets_m_np), axis=-1)\n",
    "print(jets.shape)"
   ]
  },
  {
   "cell_type": "markdown",
   "metadata": {},
   "source": [
    "## calculate jet features"
   ]
  },
  {
   "cell_type": "code",
   "execution_count": null,
   "metadata": {},
   "outputs": [],
   "source": [
    "def get_jet_data(consts: np.ndarray) -> np.ndarray:\n",
    "    \"\"\"Calculate jet data from constituent data. (pt, y, phi)->(pt, y, phi, m)\n",
    "\n",
    "    Args:\n",
    "        consts (np.ndarray): constituent data. (pt, y, phi)\n",
    "\n",
    "    Returns:\n",
    "        np.ndarray: jet data. (pt, y, phi, m)\n",
    "    \"\"\"\n",
    "    p4s = ef.p4s_from_ptyphims(consts[..., :3])\n",
    "    sum_p4 = np.sum(p4s, axis=-2)\n",
    "    jet_data = ef.ptyphims_from_p4s(sum_p4, phi_ref=0)\n",
    "    return jet_data"
   ]
  },
  {
   "cell_type": "code",
   "execution_count": null,
   "metadata": {},
   "outputs": [],
   "source": [
    "x_consts = consts[:, 0]\n",
    "y_consts = consts[:, 1]\n",
    "x_jets = get_jet_data(x_consts)\n",
    "y_jets = get_jet_data(y_consts)\n",
    "print(x_jets.shape)\n",
    "print(x_consts.shape)"
   ]
  },
  {
   "cell_type": "markdown",
   "metadata": {},
   "source": [
    "# Compare to originally clustered data"
   ]
  },
  {
   "cell_type": "markdown",
   "metadata": {},
   "source": [
    "## load jet features"
   ]
  },
  {
   "cell_type": "code",
   "execution_count": null,
   "metadata": {},
   "outputs": [],
   "source": [
    "path = \"/beegfs/desy/user/ewencedr/data/lhco/final_data/processed_data_background.h5\""
   ]
  },
  {
   "cell_type": "code",
   "execution_count": null,
   "metadata": {},
   "outputs": [],
   "source": [
    "with h5py.File(path, \"r\") as f:\n",
    "    jet_data = f[\"jet_data\"][:]\n",
    "    particle_data = f[\"constituents\"][:]\n",
    "    mask_ref = f[\"mask\"][:]"
   ]
  },
  {
   "cell_type": "code",
   "execution_count": null,
   "metadata": {},
   "outputs": [],
   "source": [
    "print(jet_data.shape)\n",
    "print(particle_data.shape)"
   ]
  },
  {
   "cell_type": "code",
   "execution_count": null,
   "metadata": {},
   "outputs": [],
   "source": [
    "n_samp = 10000"
   ]
  },
  {
   "cell_type": "code",
   "execution_count": null,
   "metadata": {},
   "outputs": [],
   "source": [
    "x_jets_ref = jet_data[:n_samp, 0]\n",
    "y_jets_ref = jet_data[:n_samp, 1]\n",
    "x_consts_ref = particle_data[:n_samp, 0]\n",
    "y_consts_ref = particle_data[:n_samp, 1]"
   ]
  },
  {
   "cell_type": "code",
   "execution_count": null,
   "metadata": {},
   "outputs": [],
   "source": []
  },
  {
   "cell_type": "code",
   "execution_count": null,
   "metadata": {},
   "outputs": [],
   "source": []
  },
  {
   "cell_type": "code",
   "execution_count": null,
   "metadata": {},
   "outputs": [],
   "source": []
  },
  {
   "cell_type": "markdown",
   "metadata": {},
   "source": [
    "## X-Jets"
   ]
  },
  {
   "cell_type": "code",
   "execution_count": null,
   "metadata": {},
   "outputs": [],
   "source": [
    "data = y_consts[..., [1, 2, 0]]\n",
    "background_data = y_consts_ref[..., [1, 2, 0]]"
   ]
  },
  {
   "cell_type": "code",
   "execution_count": null,
   "metadata": {},
   "outputs": [],
   "source": [
    "plot_config = {\n",
    "    \"num_samples\": -1,\n",
    "    \"plot_jet_features\": True,\n",
    "    \"plot_w_dists\": False,\n",
    "    \"plot_efps\": False,\n",
    "    \"plot_selected_multiplicities\": False,\n",
    "    \"selected_multiplicities\": [10, 20, 30, 40, 50, 100],\n",
    "    \"selected_particles\": [1, 3, 10],\n",
    "    \"plottype\": \"\",\n",
    "    \"save_fig\": False,\n",
    "    \"variable_jet_sizes_plotting\": False,\n",
    "    \"bins\": 100,\n",
    "    \"close_fig\": False,\n",
    "    \"labels\": [\"test\"],\n",
    "}\n",
    "plot_prep_config = {\n",
    "    \"calculate_efps\" if key == \"plot_efps\" else key: value\n",
    "    for key, value in plot_config.items()\n",
    "    if key in [\"plot_efps\", \"selected_particles\", \"selected_multiplicities\"]\n",
    "}"
   ]
  },
  {
   "cell_type": "code",
   "execution_count": null,
   "metadata": {},
   "outputs": [],
   "source": [
    "(\n",
    "    jet_data,\n",
    "    efps_values,\n",
    "    pt_selected_particles,\n",
    "    pt_selected_multiplicities,\n",
    ") = prepare_data_for_plotting(\n",
    "    np.array([data]),\n",
    "    **plot_prep_config,\n",
    ")"
   ]
  },
  {
   "cell_type": "code",
   "execution_count": null,
   "metadata": {},
   "outputs": [],
   "source": [
    "(\n",
    "    jet_data_sim,\n",
    "    efps_sim,\n",
    "    pt_selected_particles_sim,\n",
    "    pt_selected_multiplicities_sim,\n",
    ") = prepare_data_for_plotting(\n",
    "    [background_data],\n",
    "    **plot_prep_config,\n",
    ")\n",
    "jet_data_sim, efps_sim, pt_selected_particles_sim = (\n",
    "    jet_data_sim[0],\n",
    "    efps_sim[0],\n",
    "    pt_selected_particles_sim[0],\n",
    ")"
   ]
  },
  {
   "cell_type": "code",
   "execution_count": null,
   "metadata": {},
   "outputs": [],
   "source": [
    "fig = plot_data(\n",
    "    particle_data=np.array([data]),\n",
    "    sim_data=background_data,\n",
    "    jet_data_sim=jet_data_sim,\n",
    "    jet_data=jet_data,\n",
    "    efps_sim=efps_sim,\n",
    "    efps_values=efps_values,\n",
    "    pt_selected_particles=pt_selected_particles,\n",
    "    pt_selected_multiplicities=pt_selected_multiplicities,\n",
    "    pt_selected_particles_sim=pt_selected_particles_sim,\n",
    "    pt_selected_multiplicities_sim=pt_selected_multiplicities_sim,\n",
    "    **plot_config,\n",
    ")"
   ]
  },
  {
   "cell_type": "markdown",
   "metadata": {},
   "source": [
    "## Y-Jets"
   ]
  },
  {
   "cell_type": "code",
   "execution_count": null,
   "metadata": {},
   "outputs": [],
   "source": []
  }
 ],
 "metadata": {
  "kernelspec": {
   "display_name": "pllhome",
   "language": "python",
   "name": "python3"
  },
  "language_info": {
   "codemirror_mode": {
    "name": "ipython",
    "version": 3
   },
   "file_extension": ".py",
   "mimetype": "text/x-python",
   "name": "python",
   "nbconvert_exporter": "python",
   "pygments_lexer": "ipython3",
   "version": "3.10.6"
  }
 },
 "nbformat": 4,
 "nbformat_minor": 2
}
