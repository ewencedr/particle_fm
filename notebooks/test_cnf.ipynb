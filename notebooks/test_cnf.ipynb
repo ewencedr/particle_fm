{
 "cells": [
  {
   "cell_type": "code",
   "execution_count": null,
   "metadata": {},
   "outputs": [],
   "source": [
    "import numpy as np\n",
    "\n",
    "# from torchdyn.utils import *\n",
    "import torch\n",
    "import torch.nn as nn\n",
    "from torchdyn.core import NeuralODE\n",
    "from torchdyn.datasets import ToyDataset\n",
    "from torchdyn.models import CNF, autograd_trace, hutch_trace\n",
    "from torchdyn.nn import Augmenter, DataControl, DepthCat"
   ]
  },
  {
   "cell_type": "code",
   "execution_count": null,
   "metadata": {},
   "outputs": [],
   "source": [
    "# quick run for automated notebook validation\n",
    "dry_run = False"
   ]
  },
  {
   "cell_type": "code",
   "execution_count": null,
   "metadata": {},
   "outputs": [],
   "source": [
    "from sklearn.datasets import make_moons\n",
    "\n",
    "X = []\n",
    "yn = []\n",
    "num_points = 30\n",
    "len_data = 20000\n",
    "for _ in range(len_data):\n",
    "    x, y = make_moons(n_samples=num_points, noise=0.05, shuffle=True)\n",
    "    X.append(x)\n",
    "    yn.append(y)\n",
    "X = torch.tensor(np.array(X), dtype=torch.float32)\n",
    "yn = torch.tensor(np.array(yn), dtype=torch.float32)\n",
    "\n",
    "X = X.squeeze()\n",
    "yn = yn.squeeze()\n",
    "print(X.shape)\n",
    "\n",
    "\n",
    "import matplotlib.pyplot as plt\n",
    "\n",
    "plt.figure(figsize=(5, 5))\n",
    "plt.scatter(X[..., 0], X[..., 1], c=\"black\", alpha=0.4, s=1.0)\n",
    "plt.xlim(-1.5, 2.5)\n",
    "plt.ylim(-1, 1.5)\n",
    "plt.show()"
   ]
  },
  {
   "cell_type": "code",
   "execution_count": null,
   "metadata": {},
   "outputs": [],
   "source": [
    "import torch\n",
    "import torch.utils.data as data\n",
    "\n",
    "device = torch.device(\"cuda:0\" if torch.cuda.is_available() else \"cpu\")\n",
    "# device = torch.device(\"cpu\")\n",
    "X_train = torch.Tensor(X).to(device)\n",
    "y_train = torch.Tensor(yn).to(device)\n",
    "train = data.TensorDataset(X_train, y_train)\n",
    "trainloader = data.DataLoader(train, batch_size=1024, shuffle=True)"
   ]
  },
  {
   "cell_type": "code",
   "execution_count": null,
   "metadata": {},
   "outputs": [],
   "source": [
    "device"
   ]
  },
  {
   "cell_type": "code",
   "execution_count": null,
   "metadata": {},
   "outputs": [],
   "source": [
    "f = nn.Sequential(\n",
    "    nn.Linear(2, 64),\n",
    "    nn.Softplus(),\n",
    "    nn.Linear(64, 64),\n",
    "    nn.Softplus(),\n",
    "    nn.Linear(64, 64),\n",
    "    nn.Softplus(),\n",
    "    nn.Linear(64, 2),\n",
    ")\n",
    "import os\n",
    "\n",
    "# cnf wraps the net as with other energy models\n",
    "# default trace_estimator, when not specified, is autograd_trac\n",
    "import sys\n",
    "\n",
    "sys.path.append(os.path.abspath(\"/home/ewencedr/deep-learning/src/models\"))\n",
    "from components import SelfAttention\n",
    "\n",
    "f = SelfAttention(2, [64, 64], 2)"
   ]
  },
  {
   "cell_type": "code",
   "execution_count": null,
   "metadata": {},
   "outputs": [],
   "source": [
    "from torch.distributions import (\n",
    "    Categorical,\n",
    "    MultivariateNormal,\n",
    "    SigmoidTransform,\n",
    "    TransformedDistribution,\n",
    "    Uniform,\n",
    ")"
   ]
  },
  {
   "cell_type": "code",
   "execution_count": null,
   "metadata": {},
   "outputs": [],
   "source": [
    "import pytorch_lightning as pl\n",
    "\n",
    "\n",
    "class Learner(pl.LightningModule):\n",
    "    def __init__(self, net: nn.Module):\n",
    "        super().__init__()\n",
    "        self.net = net\n",
    "        self.iters = 0\n",
    "        self.cnf = CNF(self.net, trace_estimator=autograd_trace)\n",
    "        self.nde = NeuralODE(\n",
    "            self.cnf, solver=\"dopri5\", sensitivity=\"adjoint\", atol=1e-4, rtol=1e-4\n",
    "        )\n",
    "        self.model = nn.Sequential(Augmenter(augment_idx=1, augment_dims=1), self.nde)\n",
    "        self.prior = MultivariateNormal(torch.zeros(2), torch.eye(2))\n",
    "\n",
    "    def forward(self, x):\n",
    "        return self.model(x)\n",
    "\n",
    "    def sample(self, num_samples):\n",
    "        sample = self.prior.sample(torch.Size([num_samples]))\n",
    "        # integrating from 1 to 0\n",
    "        self.model[1].t_span = torch.linspace(1, 0, 2)\n",
    "        new_x = self.model(sample)[1]\n",
    "        return new_x\n",
    "\n",
    "    def training_step(self, batch, batch_idx):\n",
    "        self.iters += 1\n",
    "        x, _ = batch\n",
    "        t, xtrJ = self.model(x)\n",
    "        print(f\"t: {t}\")\n",
    "        print(f\"xtrJ.shape: {xtrJ.shape}\")\n",
    "        logprob = (\n",
    "            self.prior.log_prob(xtrJ[1, ..., 1:]) - xtrJ[1, ..., 0]\n",
    "        )  # logp(z_S) = logp(z_0) - \\int_0^S trJ\n",
    "        loss = -torch.mean(logprob)\n",
    "        self.nde.nfe = 0\n",
    "        return {\"loss\": loss}\n",
    "\n",
    "    def configure_optimizers(self):\n",
    "        return torch.optim.AdamW(self.model.parameters(), lr=2e-3, weight_decay=1e-5)\n",
    "\n",
    "    def train_dataloader(self):\n",
    "        return trainloader"
   ]
  },
  {
   "cell_type": "code",
   "execution_count": null,
   "metadata": {},
   "outputs": [],
   "source": [
    "# t: tensor([0., 1.], grad_fn=<_ODEProblemFuncBackward>)\n",
    "# xtrJ.shape: torch.Size([2, 1024, 3])\n",
    "\n",
    "# t: tensor([0., 1.], grad_fn=<_ODEProblemFuncBackward>)\n",
    "# xtrJ.shape: torch.Size([2, 1024, 31, 2])"
   ]
  },
  {
   "cell_type": "code",
   "execution_count": null,
   "metadata": {},
   "outputs": [],
   "source": [
    "learn = Learner(f)\n",
    "trainer = pl.Trainer(max_epochs=10)\n",
    "trainer.fit(learn)"
   ]
  },
  {
   "cell_type": "code",
   "execution_count": null,
   "metadata": {},
   "outputs": [],
   "source": [
    "new_x = learn.sample(7000).cpu().detach()[1]\n",
    "# new_x = learn.sample(10)"
   ]
  },
  {
   "cell_type": "code",
   "execution_count": null,
   "metadata": {},
   "outputs": [],
   "source": [
    "plt.figure(figsize=(12, 4))\n",
    "plt.subplot(121)\n",
    "plt.scatter(\n",
    "    new_x[:, 1], new_x[:, 2], s=2.3, alpha=0.2, linewidths=0.3, c=\"blue\", edgecolors=\"black\"\n",
    ")\n",
    "# plt.xlim(-6, 6) ; plt.ylim(-6, 6)\n",
    "plt.title(\"Samples\")\n",
    "\n",
    "plt.subplot(122)\n",
    "plt.scatter(X[:, 0], X[:, 1], s=2.3, alpha=0.2, c=\"red\", linewidths=0.3, edgecolors=\"black\")\n",
    "# plt.xlim(-6, 6) ; plt.ylim(-6, 6)\n",
    "plt.title(\"Data\")"
   ]
  },
  {
   "cell_type": "code",
   "execution_count": null,
   "metadata": {},
   "outputs": [],
   "source": [
    "# traj = (\n",
    "#    model[1]\n",
    "#    .trajectory(Augmenter(1, 1)(sample.to(device)), t_span=torch.linspace(1, 0, 100))\n",
    "#    .detach()\n",
    "#    .cpu()\n",
    "# )\n",
    "# sample = sample.cpu()\n",
    "# traj = traj[:, :, 1:]  # scrapping first dimension := jacobian trace"
   ]
  },
  {
   "cell_type": "code",
   "execution_count": null,
   "metadata": {},
   "outputs": [],
   "source": [
    "# n = 2000\n",
    "# plt.figure(figsize=(6, 6))\n",
    "# plt.scatter(sample[:n, 0], sample[:n, 1], s=10, alpha=0.8, c=\"black\")\n",
    "# plt.scatter(traj[:, :n, 0], traj[:, :n, 1], s=0.2, alpha=0.2, c=\"olive\")\n",
    "# plt.scatter(traj[-1, :n, 0], traj[-1, :n, 1], s=4, alpha=1, c=\"blue\")\n",
    "# plt.legend([\"Prior sample z(S)\", \"Flow\", \"z(0)\"])"
   ]
  }
 ],
 "metadata": {
  "kernelspec": {
   "display_name": "pllhydra",
   "language": "python",
   "name": "pllhydra"
  },
  "language_info": {
   "codemirror_mode": {
    "name": "ipython",
    "version": 3
   },
   "file_extension": ".py",
   "mimetype": "text/x-python",
   "name": "python",
   "nbconvert_exporter": "python",
   "pygments_lexer": "ipython3",
   "version": "3.9.13"
  }
 },
 "nbformat": 4,
 "nbformat_minor": 2
}
