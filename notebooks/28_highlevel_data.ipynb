{
 "cells": [
  {
   "cell_type": "code",
   "execution_count": 1,
   "metadata": {},
   "outputs": [],
   "source": [
    "import os\n",
    "import sys\n",
    "\n",
    "sys.path.append(\"../\")\n",
    "\n",
    "%matplotlib inline\n",
    "%load_ext autoreload\n",
    "%autoreload 2"
   ]
  },
  {
   "cell_type": "code",
   "execution_count": 2,
   "metadata": {},
   "outputs": [
    {
     "name": "stderr",
     "output_type": "stream",
     "text": [
      "2023-09-08 22:03:17.198392: I tensorflow/core/platform/cpu_feature_guard.cc:182] This TensorFlow binary is optimized to use available CPU instructions in performance-critical operations.\n",
      "To enable the following instructions: AVX2 FMA, in other operations, rebuild TensorFlow with the appropriate compiler flags.\n",
      "2023-09-08 22:03:17.886098: W tensorflow/compiler/tf2tensorrt/utils/py_utils.cc:38] TF-TRT Warning: Could not find TensorRT\n"
     ]
    }
   ],
   "source": [
    "from os.path import join\n",
    "\n",
    "import energyflow as ef\n",
    "import h5py\n",
    "import hydra\n",
    "import numpy as np\n",
    "import pytorch_lightning as pl\n",
    "import torch\n",
    "from omegaconf import OmegaConf\n",
    "from sklearn.neighbors import KernelDensity"
   ]
  },
  {
   "cell_type": "code",
   "execution_count": 3,
   "metadata": {},
   "outputs": [],
   "source": [
    "# plots and metrics\n",
    "import matplotlib.pyplot as plt\n",
    "\n",
    "from src.data.components import (\n",
    "    calculate_all_wasserstein_metrics,\n",
    "    inverse_normalize_tensor,\n",
    "    normalize_tensor,\n",
    ")\n",
    "from src.utils.data_generation import generate_data\n",
    "from src.utils.plotting import apply_mpl_styles, plot_data, prepare_data_for_plotting\n",
    "\n",
    "apply_mpl_styles()"
   ]
  },
  {
   "cell_type": "code",
   "execution_count": 4,
   "metadata": {},
   "outputs": [],
   "source": [
    "from jetnet.evaluation import w1efp, w1m, w1p\n",
    "from src.utils.jet_substructure import dump_hlvs\n",
    "from src.data.components.metrics import wasserstein_distance_batched\n",
    "from src.utils.plotting import (\n",
    "    plot_substructure,\n",
    "    plot_full_substructure,\n",
    ")"
   ]
  },
  {
   "cell_type": "code",
   "execution_count": 5,
   "metadata": {},
   "outputs": [],
   "source": [
    "# set env variable DATA_DIR again because of hydra\n",
    "from dotenv import load_dotenv\n",
    "\n",
    "load_dotenv()\n",
    "os.environ[\"DATA_DIR\"] = os.environ.get(\"DATA_DIR\")"
   ]
  },
  {
   "cell_type": "code",
   "execution_count": 6,
   "metadata": {},
   "outputs": [],
   "source": [
    "data_folder = os.environ.get(\"DATA_DIR\")"
   ]
  },
  {
   "cell_type": "markdown",
   "metadata": {},
   "source": [
    "## load data"
   ]
  },
  {
   "cell_type": "code",
   "execution_count": 7,
   "metadata": {},
   "outputs": [
    {
     "name": "stdout",
     "output_type": "stream",
     "text": [
      "<KeysViewHDF5 ['jet_features', 'mjj', 'particle_features']>\n",
      "(200000, 2, 5)\n",
      "(200000, 2, 279, 3)\n",
      "(200000,)\n"
     ]
    }
   ],
   "source": [
    "# Load vinicius data\n",
    "path_v = f\"{data_folder}/lhco/generated/FPCD_LHCO_SR.h5\"\n",
    "with h5py.File(path_v, \"r\") as f:\n",
    "    print(f.keys())\n",
    "    jet_features_v = f[\"jet_features\"][:]\n",
    "    particle_data_v = f[\"particle_features\"][:]\n",
    "    mjj_v = f[\"mjj\"][:]\n",
    "print(jet_features_v.shape)\n",
    "print(particle_data_v.shape)\n",
    "print(mjj_v.shape)"
   ]
  },
  {
   "cell_type": "code",
   "execution_count": 8,
   "metadata": {},
   "outputs": [
    {
     "name": "stdout",
     "output_type": "stream",
     "text": [
      "<KeysViewHDF5 ['jet_features', 'mjj', 'particle_features']>\n",
      "(121351, 2, 5)\n",
      "(121351, 2, 279, 3)\n",
      "(121351,)\n"
     ]
    }
   ],
   "source": [
    "# Load idealized data\n",
    "path_id = f\"{data_folder}/lhco/generated/idealized_LHCO.h5\"\n",
    "with h5py.File(path_id, \"r\") as f:\n",
    "    print(f.keys())\n",
    "    jet_features_id = f[\"jet_features\"][:]\n",
    "    particle_data_id = f[\"particle_features\"][:]\n",
    "    mjj_id = f[\"mjj\"][:]\n",
    "print(jet_features_id.shape)\n",
    "print(particle_data_id.shape)\n",
    "print(mjj_id.shape)"
   ]
  },
  {
   "cell_type": "code",
   "execution_count": 9,
   "metadata": {},
   "outputs": [
    {
     "name": "stdout",
     "output_type": "stream",
     "text": [
      "<KeysViewHDF5 ['data_raw', 'jet_features', 'mjj', 'particle_features', 'particle_features_nonrel']>\n",
      "(121351, 2, 5)\n",
      "(121351, 2, 279, 3)\n"
     ]
    }
   ],
   "source": [
    "# Load ced data\n",
    "#path_ced = f\"{data_folder}/lhco/generated/FM_LHCO_SR.h5\"\n",
    "#path_ced = f\"{data_folder}/lhco/generated/lhco_both_jets-midpoint-250.h5\"\n",
    "#path_ced = f\"{data_folder}/lhco/generated/latent64-midpoint-200.h5\"\n",
    "#path_ced = f\"{data_folder}/lhco/generated/lhco-xy-midpoint-300.h5\"\n",
    "path_ced = f\"{data_folder}/lhco/generated/lhco-xy-256-logpt_sr-midpoint-500.h5\"\n",
    "#path_ced = f\"{data_folder}/lhco/generated/FPCD_LHCO_SR_2.h5\"\n",
    "\n",
    "\n",
    "with h5py.File(path_ced, \"r\") as f:\n",
    "    print(f.keys())\n",
    "    jet_features_ced = f[\"jet_features\"][:]\n",
    "    particle_data_ced = f[\"particle_features\"][:]\n",
    "    mjj_ced = f[\"mjj\"][:]\n",
    "    raw_ced = f[\"data_raw\"][:]\n",
    "print(jet_features_ced.shape)\n",
    "print(particle_data_ced.shape)\n",
    "#print(mjj_ced.shape)"
   ]
  },
  {
   "cell_type": "code",
   "execution_count": 10,
   "metadata": {},
   "outputs": [],
   "source": [
    "particle_data_v = particle_data_v[:len(particle_data_id)]\n",
    "jet_features_v = jet_features_v[:len(jet_features_id)]\n",
    "mjj_v = mjj_v[:len(mjj_id)]"
   ]
  },
  {
   "cell_type": "code",
   "execution_count": 11,
   "metadata": {},
   "outputs": [],
   "source": [
    "particle_data_ced = particle_data_ced[...,[1,2,0]]\n",
    "particle_data_id = particle_data_id[...,[1,2,0]]\n",
    "particle_data_v = particle_data_v[...,[1,2,0]]"
   ]
  },
  {
   "cell_type": "markdown",
   "metadata": {},
   "source": [
    "## calculate substructure"
   ]
  },
  {
   "cell_type": "code",
   "execution_count": 12,
   "metadata": {},
   "outputs": [
    {
     "name": "stdout",
     "output_type": "stream",
     "text": [
      "(121351, 2, 279, 3)\n",
      "(121351, 2, 279, 3)\n",
      "(121351, 2, 279, 3)\n"
     ]
    }
   ],
   "source": [
    "print(particle_data_ced.shape)\n",
    "print(particle_data_id.shape)\n",
    "print(particle_data_v.shape)"
   ]
  },
  {
   "cell_type": "code",
   "execution_count": 13,
   "metadata": {},
   "outputs": [
    {
     "name": "stdout",
     "output_type": "stream",
     "text": [
      "(242702, 279, 3)\n"
     ]
    }
   ],
   "source": [
    "print(particle_data_v.reshape(-1, particle_data_v.shape[-2], particle_data_v.shape[-1]).shape)"
   ]
  },
  {
   "cell_type": "code",
   "execution_count": 14,
   "metadata": {},
   "outputs": [
    {
     "name": "stderr",
     "output_type": "stream",
     "text": [
      "Computing substructure variables:   2%|▏         | 5615/242702 [01:11<49:59, 79.05it/s]  \n"
     ]
    },
    {
     "ename": "KeyboardInterrupt",
     "evalue": "",
     "output_type": "error",
     "traceback": [
      "\u001b[0;31m---------------------------------------------------------------------------\u001b[0m",
      "\u001b[0;31mKeyboardInterrupt\u001b[0m                         Traceback (most recent call last)",
      "\u001b[1;32m/home/ewencedr/deep-learning/notebooks/28_highlevel_data.ipynb Cell 16\u001b[0m line \u001b[0;36m1\n\u001b[0;32m----> <a href='vscode-notebook-cell://ssh-remote%2Ballocgpu/home/ewencedr/deep-learning/notebooks/28_highlevel_data.ipynb#X13sdnNjb2RlLXJlbW90ZQ%3D%3D?line=0'>1</a>\u001b[0m dump_hlvs(\n\u001b[1;32m      <a href='vscode-notebook-cell://ssh-remote%2Ballocgpu/home/ewencedr/deep-learning/notebooks/28_highlevel_data.ipynb#X13sdnNjb2RlLXJlbW90ZQ%3D%3D?line=1'>2</a>\u001b[0m     particle_data_v\u001b[39m.\u001b[39;49mreshape(\u001b[39m-\u001b[39;49m\u001b[39m1\u001b[39;49m, particle_data_v\u001b[39m.\u001b[39;49mshape[\u001b[39m-\u001b[39;49m\u001b[39m2\u001b[39;49m], particle_data_v\u001b[39m.\u001b[39;49mshape[\u001b[39m-\u001b[39;49m\u001b[39m1\u001b[39;49m]),\n\u001b[1;32m      <a href='vscode-notebook-cell://ssh-remote%2Ballocgpu/home/ewencedr/deep-learning/notebooks/28_highlevel_data.ipynb#X13sdnNjb2RlLXJlbW90ZQ%3D%3D?line=2'>3</a>\u001b[0m     \u001b[39m\"\u001b[39;49m\u001b[39m/beegfs/desy/user/ewencedr/data/lhco/substructure/full_v\u001b[39;49m\u001b[39m\"\u001b[39;49m,\n\u001b[1;32m      <a href='vscode-notebook-cell://ssh-remote%2Ballocgpu/home/ewencedr/deep-learning/notebooks/28_highlevel_data.ipynb#X13sdnNjb2RlLXJlbW90ZQ%3D%3D?line=3'>4</a>\u001b[0m     plot\u001b[39m=\u001b[39;49m\u001b[39mTrue\u001b[39;49;00m,\n\u001b[1;32m      <a href='vscode-notebook-cell://ssh-remote%2Ballocgpu/home/ewencedr/deep-learning/notebooks/28_highlevel_data.ipynb#X13sdnNjb2RlLXJlbW90ZQ%3D%3D?line=4'>5</a>\u001b[0m )\n",
      "File \u001b[0;32m~/deep-learning/notebooks/../src/utils/jet_substructure.py:492\u001b[0m, in \u001b[0;36mdump_hlvs\u001b[0;34m(jets, h5file, R, p, plot)\u001b[0m\n\u001b[1;32m    490\u001b[0m \u001b[39m# Energy Correlation Functions (first is simply the sum_pt of the jet)\u001b[39;00m\n\u001b[1;32m    491\u001b[0m ecf2 \u001b[39m=\u001b[39m subs\u001b[39m.\u001b[39mecf2()\n\u001b[0;32m--> 492\u001b[0m ecf3 \u001b[39m=\u001b[39m subs\u001b[39m.\u001b[39;49mecf3()\n\u001b[1;32m    493\u001b[0m ecf2s\u001b[39m.\u001b[39mappend(ecf2)\n\u001b[1;32m    494\u001b[0m ecf3s\u001b[39m.\u001b[39mappend(ecf3)\n",
      "File \u001b[0;32m~/deep-learning/notebooks/../src/utils/jet_substructure.py:355\u001b[0m, in \u001b[0;36mSubstructure.ecf3\u001b[0;34m(self)\u001b[0m\n\u001b[1;32m    344\u001b[0m \u001b[39mdef\u001b[39;00m \u001b[39mcalc_ecf3\u001b[39m(i, j, k):\n\u001b[1;32m    345\u001b[0m     \u001b[39mreturn\u001b[39;00m (\n\u001b[1;32m    346\u001b[0m         i[:, \u001b[39m0\u001b[39m]\n\u001b[1;32m    347\u001b[0m         \u001b[39m*\u001b[39m j[:, \u001b[39m0\u001b[39m]\n\u001b[0;32m   (...)\u001b[0m\n\u001b[1;32m    351\u001b[0m         \u001b[39m*\u001b[39m delta_r(k[:, \u001b[39m1\u001b[39m], i[:, \u001b[39m1\u001b[39m], k[:, \u001b[39m2\u001b[39m], i[:, \u001b[39m2\u001b[39m])\n\u001b[1;32m    352\u001b[0m     )\n\u001b[1;32m    354\u001b[0m \u001b[39mreturn\u001b[39;00m (\n\u001b[0;32m--> 355\u001b[0m     calc_ecf3(\n\u001b[1;32m    356\u001b[0m         \u001b[39mself\u001b[39;49m\u001b[39m.\u001b[39;49m_cnsts[idx_pairs][:, \u001b[39m0\u001b[39;49m],\n\u001b[1;32m    357\u001b[0m         \u001b[39mself\u001b[39;49m\u001b[39m.\u001b[39;49m_cnsts[idx_pairs][:, \u001b[39m1\u001b[39;49m],\n\u001b[1;32m    358\u001b[0m         \u001b[39mself\u001b[39;49m\u001b[39m.\u001b[39;49m_cnsts[idx_pairs][:, \u001b[39m2\u001b[39;49m],\n\u001b[1;32m    359\u001b[0m     )\u001b[39m.\u001b[39msum()\n\u001b[1;32m    360\u001b[0m     \u001b[39m/\u001b[39m \u001b[39mself\u001b[39m\u001b[39m.\u001b[39m_ptsum\n\u001b[1;32m    361\u001b[0m     \u001b[39m/\u001b[39m \u001b[39mself\u001b[39m\u001b[39m.\u001b[39m_ptsum\n\u001b[1;32m    362\u001b[0m     \u001b[39m/\u001b[39m \u001b[39mself\u001b[39m\u001b[39m.\u001b[39m_ptsum\n\u001b[1;32m    363\u001b[0m )\n",
      "File \u001b[0;32m~/deep-learning/notebooks/../src/utils/jet_substructure.py:344\u001b[0m, in \u001b[0;36mSubstructure.ecf3.<locals>.calc_ecf3\u001b[0;34m(i, j, k)\u001b[0m\n\u001b[1;32m    339\u001b[0m idx_pairs \u001b[39m=\u001b[39m np\u001b[39m.\u001b[39marray(np\u001b[39m.\u001b[39mmeshgrid(indices, indices, indices))\u001b[39m.\u001b[39mT\u001b[39m.\u001b[39mreshape(\u001b[39m-\u001b[39m\u001b[39m1\u001b[39m, \u001b[39m3\u001b[39m)\n\u001b[1;32m    340\u001b[0m idx_pairs \u001b[39m=\u001b[39m idx_pairs[\n\u001b[1;32m    341\u001b[0m     (idx_pairs[:, \u001b[39m0\u001b[39m] \u001b[39m<\u001b[39m idx_pairs[:, \u001b[39m1\u001b[39m]) \u001b[39m&\u001b[39m (idx_pairs[:, \u001b[39m1\u001b[39m] \u001b[39m<\u001b[39m idx_pairs[:, \u001b[39m2\u001b[39m])\n\u001b[1;32m    342\u001b[0m ]\n\u001b[0;32m--> 344\u001b[0m \u001b[39mdef\u001b[39;00m \u001b[39mcalc_ecf3\u001b[39m(i, j, k):\n\u001b[1;32m    345\u001b[0m     \u001b[39mreturn\u001b[39;00m (\n\u001b[1;32m    346\u001b[0m         i[:, \u001b[39m0\u001b[39m]\n\u001b[1;32m    347\u001b[0m         \u001b[39m*\u001b[39m j[:, \u001b[39m0\u001b[39m]\n\u001b[0;32m   (...)\u001b[0m\n\u001b[1;32m    351\u001b[0m         \u001b[39m*\u001b[39m delta_r(k[:, \u001b[39m1\u001b[39m], i[:, \u001b[39m1\u001b[39m], k[:, \u001b[39m2\u001b[39m], i[:, \u001b[39m2\u001b[39m])\n\u001b[1;32m    352\u001b[0m     )\n\u001b[1;32m    354\u001b[0m \u001b[39mreturn\u001b[39;00m (\n\u001b[1;32m    355\u001b[0m     calc_ecf3(\n\u001b[1;32m    356\u001b[0m         \u001b[39mself\u001b[39m\u001b[39m.\u001b[39m_cnsts[idx_pairs][:, \u001b[39m0\u001b[39m],\n\u001b[0;32m   (...)\u001b[0m\n\u001b[1;32m    362\u001b[0m     \u001b[39m/\u001b[39m \u001b[39mself\u001b[39m\u001b[39m.\u001b[39m_ptsum\n\u001b[1;32m    363\u001b[0m )\n",
      "\u001b[0;31mKeyboardInterrupt\u001b[0m: "
     ]
    }
   ],
   "source": [
    "dump_hlvs(\n",
    "    particle_data_v.reshape(-1, particle_data_v.shape[-2], particle_data_v.shape[-1]),\n",
    "    \"/beegfs/desy/user/ewencedr/data/lhco/substructure/full_v\",\n",
    "    plot=True,\n",
    ")"
   ]
  }
 ],
 "metadata": {
  "kernelspec": {
   "display_name": "pllhome",
   "language": "python",
   "name": "python3"
  },
  "language_info": {
   "codemirror_mode": {
    "name": "ipython",
    "version": 3
   },
   "file_extension": ".py",
   "mimetype": "text/x-python",
   "name": "python",
   "nbconvert_exporter": "python",
   "pygments_lexer": "ipython3",
   "version": "3.10.6"
  },
  "orig_nbformat": 4
 },
 "nbformat": 4,
 "nbformat_minor": 2
}
