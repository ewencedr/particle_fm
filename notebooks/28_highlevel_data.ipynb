{
 "cells": [
  {
   "cell_type": "code",
   "execution_count": null,
   "metadata": {},
   "outputs": [],
   "source": [
    "import os\n",
    "import sys\n",
    "\n",
    "sys.path.append(\"../\")\n",
    "\n",
    "%matplotlib inline\n",
    "%load_ext autoreload\n",
    "%autoreload 2"
   ]
  },
  {
   "cell_type": "code",
   "execution_count": null,
   "metadata": {},
   "outputs": [],
   "source": [
    "from os.path import join\n",
    "\n",
    "import energyflow as ef\n",
    "import h5py\n",
    "import hydra\n",
    "import numpy as np\n",
    "import pandas as pd\n",
    "import pytorch_lightning as pl\n",
    "import torch\n",
    "from omegaconf import OmegaConf\n",
    "from sklearn.neighbors import KernelDensity"
   ]
  },
  {
   "cell_type": "code",
   "execution_count": null,
   "metadata": {},
   "outputs": [],
   "source": [
    "# plots and metrics\n",
    "import matplotlib.pyplot as plt\n",
    "\n",
    "from src.data.components import (\n",
    "    calculate_all_wasserstein_metrics,\n",
    "    inverse_normalize_tensor,\n",
    "    normalize_tensor,\n",
    ")\n",
    "from src.utils.data_generation import generate_data\n",
    "from src.utils.plotting import apply_mpl_styles, plot_data, prepare_data_for_plotting\n",
    "\n",
    "apply_mpl_styles()"
   ]
  },
  {
   "cell_type": "code",
   "execution_count": null,
   "metadata": {},
   "outputs": [],
   "source": [
    "from jetnet.evaluation import w1efp, w1m, w1p\n",
    "\n",
    "from src.data.components.metrics import wasserstein_distance_batched\n",
    "from src.utils.jet_substructure import dump_hlvs\n",
    "from src.utils.plotting import plot_full_substructure, plot_substructure"
   ]
  },
  {
   "cell_type": "code",
   "execution_count": null,
   "metadata": {},
   "outputs": [],
   "source": [
    "# set env variable DATA_DIR again because of hydra\n",
    "from dotenv import load_dotenv\n",
    "\n",
    "load_dotenv()\n",
    "os.environ[\"DATA_DIR\"] = os.environ.get(\"DATA_DIR\")"
   ]
  },
  {
   "cell_type": "code",
   "execution_count": null,
   "metadata": {},
   "outputs": [],
   "source": [
    "data_folder = os.environ.get(\"DATA_DIR\")"
   ]
  },
  {
   "cell_type": "markdown",
   "metadata": {},
   "source": [
    "## load data"
   ]
  },
  {
   "cell_type": "code",
   "execution_count": null,
   "metadata": {},
   "outputs": [],
   "source": [
    "# Load vinicius data\n",
    "path_v = f\"{data_folder}/lhco/generated/FPCD_LHCO_SR.h5\"\n",
    "with h5py.File(path_v, \"r\") as f:\n",
    "    print(f.keys())\n",
    "    jet_features_v = f[\"jet_features\"][:]\n",
    "    particle_data_v = f[\"particle_features\"][:]\n",
    "    mjj_v = f[\"mjj\"][:]\n",
    "print(jet_features_v.shape)\n",
    "print(particle_data_v.shape)\n",
    "print(mjj_v.shape)"
   ]
  },
  {
   "cell_type": "code",
   "execution_count": null,
   "metadata": {},
   "outputs": [],
   "source": [
    "# Load idealized data\n",
    "path_id = f\"{data_folder}/lhco/generated/idealized_LHCO.h5\"\n",
    "with h5py.File(path_id, \"r\") as f:\n",
    "    print(f.keys())\n",
    "    jet_features_id = f[\"jet_features\"][:]\n",
    "    particle_data_id = f[\"particle_features\"][:]\n",
    "    mjj_id = f[\"mjj\"][:]\n",
    "print(jet_features_id.shape)\n",
    "print(particle_data_id.shape)\n",
    "print(mjj_id.shape)"
   ]
  },
  {
   "cell_type": "code",
   "execution_count": null,
   "metadata": {},
   "outputs": [],
   "source": [
    "# Load ced data\n",
    "# path_ced = f\"{data_folder}/lhco/generated/FM_LHCO_SR.h5\"\n",
    "# path_ced = f\"{data_folder}/lhco/generated/lhco_both_jets-midpoint-250.h5\"\n",
    "# path_ced = f\"{data_folder}/lhco/generated/latent64-midpoint-200.h5\"\n",
    "# path_ced = f\"{data_folder}/lhco/generated/lhco-xy-midpoint-300.h5\"\n",
    "path_ced = f\"{data_folder}/lhco/generated/lhco-xy-256-logpt_sr-midpoint-500.h5\"\n",
    "# path_ced = f\"{data_folder}/lhco/generated/FPCD_LHCO_SR_2.h5\"\n",
    "\n",
    "\n",
    "with h5py.File(path_ced, \"r\") as f:\n",
    "    print(f.keys())\n",
    "    jet_features_ced = f[\"jet_features\"][:]\n",
    "    particle_data_ced = f[\"particle_features\"][:]\n",
    "    mjj_ced = f[\"mjj\"][:]\n",
    "    raw_ced = f[\"data_raw\"][:]\n",
    "print(jet_features_ced.shape)\n",
    "print(particle_data_ced.shape)\n",
    "# print(mjj_ced.shape)"
   ]
  },
  {
   "cell_type": "code",
   "execution_count": null,
   "metadata": {},
   "outputs": [],
   "source": [
    "particle_data_v = particle_data_v[: len(particle_data_id)]\n",
    "jet_features_v = jet_features_v[: len(jet_features_id)]\n",
    "mjj_v = mjj_v[: len(mjj_id)]"
   ]
  },
  {
   "cell_type": "code",
   "execution_count": null,
   "metadata": {},
   "outputs": [],
   "source": [
    "particle_data_ced = particle_data_ced[..., [1, 2, 0]]\n",
    "particle_data_id = particle_data_id[..., [1, 2, 0]]\n",
    "particle_data_v = particle_data_v[..., [1, 2, 0]]"
   ]
  },
  {
   "cell_type": "markdown",
   "metadata": {},
   "source": [
    "## calculate substructure"
   ]
  },
  {
   "cell_type": "code",
   "execution_count": null,
   "metadata": {},
   "outputs": [],
   "source": [
    "print(particle_data_ced.shape)\n",
    "print(particle_data_id.shape)\n",
    "print(particle_data_v.shape)"
   ]
  },
  {
   "cell_type": "code",
   "execution_count": null,
   "metadata": {},
   "outputs": [],
   "source": [
    "print(particle_data_v.reshape(-1, particle_data_v.shape[-2], particle_data_v.shape[-1]).shape)"
   ]
  },
  {
   "cell_type": "code",
   "execution_count": null,
   "metadata": {},
   "outputs": [],
   "source": [
    "# dump_hlvs(\n",
    "#    particle_data_v.reshape(-1, particle_data_v.shape[-2], particle_data_v.shape[-1]),\n",
    "#    \"/beegfs/desy/user/ewencedr/data/lhco/substructure/full_v\",\n",
    "#    plot=True,\n",
    "# )"
   ]
  },
  {
   "cell_type": "markdown",
   "metadata": {},
   "source": [
    "## Evaluate substructure"
   ]
  },
  {
   "cell_type": "code",
   "execution_count": null,
   "metadata": {},
   "outputs": [],
   "source": [
    "# load substructure for id data\n",
    "data_substructure_id = []\n",
    "keys = []\n",
    "with h5py.File(\n",
    "    \"/beegfs/desy/user/ewencedr/data/lhco/substructure/full_idealized\" + \".h5\", \"r\"\n",
    ") as f:\n",
    "    tau21_id = np.array(f[\"tau21\"])\n",
    "    tau32_id = np.array(f[\"tau32\"])\n",
    "    d2_id = np.array(f[\"d2\"])\n",
    "    for key in f.keys():\n",
    "        keys.append(key)\n",
    "        data_substructure_id.append(np.array(f[key]))\n",
    "keys = np.array(keys)\n",
    "data_substructure_id = np.array(data_substructure_id)"
   ]
  },
  {
   "cell_type": "code",
   "execution_count": null,
   "metadata": {},
   "outputs": [],
   "source": [
    "# load substructure for v data\n",
    "data_substructure_v = []\n",
    "with h5py.File(\n",
    "    \"/beegfs/desy/user/ewencedr/data/lhco/substructure/full_vinicius\" + \".h5\", \"r\"\n",
    ") as f:\n",
    "    tau21_v = np.array(f[\"tau21\"])\n",
    "    tau32_v = np.array(f[\"tau32\"])\n",
    "    d2_v = np.array(f[\"d2\"])\n",
    "    for key in f.keys():\n",
    "        data_substructure_v.append(np.array(f[key]))\n",
    "data_substructure_v = np.array(data_substructure_v)"
   ]
  },
  {
   "cell_type": "code",
   "execution_count": null,
   "metadata": {},
   "outputs": [],
   "source": [
    "# load substructure for c data\n",
    "data_substructure_c = []\n",
    "with h5py.File(\"/beegfs/desy/user/ewencedr/data/lhco/substructure/full_ced\" + \".h5\", \"r\") as f:\n",
    "    tau21_c = np.array(f[\"tau21\"])\n",
    "    tau32_c = np.array(f[\"tau32\"])\n",
    "    d2_c = np.array(f[\"d2\"])\n",
    "    for key in f.keys():\n",
    "        data_substructure_c.append(np.array(f[key]))\n",
    "data_substructure_c = np.array(data_substructure_c)"
   ]
  },
  {
   "cell_type": "code",
   "execution_count": null,
   "metadata": {},
   "outputs": [],
   "source": [
    "print(data_substructure_id.shape)"
   ]
  },
  {
   "cell_type": "code",
   "execution_count": null,
   "metadata": {},
   "outputs": [],
   "source": [
    "print(np.count_nonzero(np.isnan(tau21_id)))\n",
    "print(np.count_nonzero(np.isnan(tau21_v)))\n",
    "print(np.count_nonzero(np.isnan(tau21_c)))"
   ]
  },
  {
   "cell_type": "code",
   "execution_count": null,
   "metadata": {},
   "outputs": [],
   "source": [
    "np.nan_to_num(tau21_id, copy=False)\n",
    "np.nan_to_num(tau21_c, copy=False)\n",
    "np.nan_to_num(tau21_v, copy=False)"
   ]
  },
  {
   "cell_type": "code",
   "execution_count": null,
   "metadata": {},
   "outputs": [],
   "source": [
    "print(np.count_nonzero(np.isnan(tau21_id)))\n",
    "print(np.count_nonzero(np.isnan(tau21_v)))\n",
    "print(np.count_nonzero(np.isnan(tau21_c)))"
   ]
  },
  {
   "cell_type": "code",
   "execution_count": null,
   "metadata": {},
   "outputs": [],
   "source": [
    "plot_full_substructure(\n",
    "    data_substructure=data_substructure_v,\n",
    "    data_substructure_jetnet=data_substructure_id,\n",
    "    keys=keys,\n",
    "    save_fig=False,\n",
    "    save_folder=None,\n",
    "    save_name=None,\n",
    "    close_fig=True,\n",
    ")"
   ]
  },
  {
   "cell_type": "code",
   "execution_count": null,
   "metadata": {},
   "outputs": [],
   "source": [
    "plot_full_substructure(\n",
    "    data_substructure=data_substructure_c,\n",
    "    data_substructure_jetnet=data_substructure_id,\n",
    "    keys=keys,\n",
    "    save_fig=False,\n",
    "    save_folder=None,\n",
    "    save_name=None,\n",
    "    close_fig=True,\n",
    ")"
   ]
  },
  {
   "cell_type": "markdown",
   "metadata": {},
   "source": [
    "## bring data in cathode form"
   ]
  },
  {
   "cell_type": "code",
   "execution_count": null,
   "metadata": {},
   "outputs": [],
   "source": [
    "print(tau21_v.shape)\n",
    "tau_21_v = tau21_v.reshape(-1, 2)\n",
    "tau_21_id = tau21_id.reshape(-1, 2)\n",
    "tau_21_c = tau21_c.reshape(-1, 2)\n",
    "print(tau_21_v.shape)"
   ]
  },
  {
   "cell_type": "code",
   "execution_count": null,
   "metadata": {},
   "outputs": [],
   "source": [
    "def sort_jet_for_mass(particle_data, jet_features):\n",
    "\n",
    "    jet_mass = jet_features[..., 3]\n",
    "    args = np.argsort(jet_mass, axis=-1)  # [...,::-1]\n",
    "    jet_features = np.take_along_axis(jet_features, args[..., None], axis=1)\n",
    "    particle_data = np.take_along_axis(particle_data, args[..., None, None], axis=1)\n",
    "\n",
    "    return particle_data, jet_features, args"
   ]
  },
  {
   "cell_type": "code",
   "execution_count": null,
   "metadata": {},
   "outputs": [],
   "source": [
    "def get_cathode_data(\n",
    "    particle_data: np.array, jet_features: np.array, tau_21: np.array\n",
    ") -> np.array:\n",
    "    # sort jets by pt\n",
    "    particle_data_sorted, jet_features_sorted, idcs = sort_jet_for_mass(\n",
    "        particle_data, jet_features\n",
    "    )\n",
    "    tau_21_sorted = np.take_along_axis(tau_21, idcs, axis=1)\n",
    "    # get features\n",
    "    mj1 = jet_features_sorted[:, 0, 3]\n",
    "    delta_mj = abs(jet_features_sorted[:, 1, 3] - jet_features_sorted[:, 0, 3])\n",
    "    tau21j1 = tau_21_sorted[:, 0]\n",
    "    tau21j2 = tau_21_sorted[:, 1]\n",
    "    cathode_data = np.stack([mj1, delta_mj, tau21j1, tau21j2], axis=-1)\n",
    "    return cathode_data"
   ]
  },
  {
   "cell_type": "code",
   "execution_count": null,
   "metadata": {},
   "outputs": [],
   "source": [
    "cathode_data_v = get_cathode_data(particle_data_v, jet_features_v, tau_21_v)\n",
    "cathode_data_id = get_cathode_data(particle_data_id, jet_features_id, tau_21_id)\n",
    "cathode_data_c = get_cathode_data(particle_data_ced, jet_features_ced, tau_21_c)"
   ]
  },
  {
   "cell_type": "markdown",
   "metadata": {},
   "source": [
    "## compare to real data"
   ]
  },
  {
   "cell_type": "code",
   "execution_count": null,
   "metadata": {},
   "outputs": [],
   "source": [
    "data_path_manuel = \"/beegfs/desy/user/sommerhm/clean_notebook_cathode/input_data/\"\n",
    "innerdata_train = np.load(join(data_path_manuel, \"innerdata_train.npy\"))\n",
    "innerdata_val = np.load(join(data_path_manuel, \"innerdata_val.npy\"))\n",
    "innerdata_test = np.load(join(data_path_manuel, \"innerdata_test.npy\"))"
   ]
  },
  {
   "cell_type": "code",
   "execution_count": null,
   "metadata": {},
   "outputs": [],
   "source": [
    "data_manuel_all = np.concatenate([innerdata_train, innerdata_val, innerdata_test], axis=0)"
   ]
  },
  {
   "cell_type": "code",
   "execution_count": null,
   "metadata": {},
   "outputs": [],
   "source": [
    "print(data_manuel_all.shape)"
   ]
  },
  {
   "cell_type": "code",
   "execution_count": null,
   "metadata": {},
   "outputs": [],
   "source": [
    "data_manuel = data_manuel_all[:, 1:5]\n",
    "data_manuel[:, 0] = data_manuel[:, 0] * 1000\n",
    "data_manuel[:, 1] = data_manuel[:, 1] * 1000\n",
    "print(data_manuel.shape)"
   ]
  },
  {
   "cell_type": "code",
   "execution_count": null,
   "metadata": {},
   "outputs": [],
   "source": [
    "print(data_manuel.shape)\n",
    "print(cathode_data_v.shape)\n",
    "cathode_data_v_plot = cathode_data_v[: len(data_manuel)]\n",
    "cathode_data_c_plot = cathode_data_c[: len(data_manuel)]\n",
    "cathode_data_id_plot = cathode_data_id[: len(data_manuel)]\n",
    "data_manuel = data_manuel[: len(cathode_data_id)]\n",
    "print(data_manuel.shape)\n",
    "print(cathode_data_id.shape)"
   ]
  },
  {
   "cell_type": "code",
   "execution_count": null,
   "metadata": {},
   "outputs": [],
   "source": [
    "print(data_manuel.shape)"
   ]
  },
  {
   "cell_type": "code",
   "execution_count": null,
   "metadata": {},
   "outputs": [],
   "source": [
    "fig, axs = plt.subplots(1, 4, figsize=(20, 5))\n",
    "for i, ax in enumerate(axs.flatten()):\n",
    "    hist = ax.hist(data_manuel[:, i], bins=100, alpha=0.5, label=\"manuel\")\n",
    "    ax.hist(cathode_data_id_plot[:, i], bins=hist[1], label=\"idealized\", histtype=\"step\")\n",
    "    ax.hist(cathode_data_v_plot[:, i], bins=hist[1], label=\"vinicius\", histtype=\"step\")\n",
    "    ax.hist(cathode_data_c_plot[:, i], bins=hist[1], label=\"cedric\", histtype=\"step\")\n",
    "    ax.legend()\n",
    "plt.show()"
   ]
  },
  {
   "cell_type": "markdown",
   "metadata": {},
   "source": [
    "## save data"
   ]
  },
  {
   "cell_type": "code",
   "execution_count": null,
   "metadata": {},
   "outputs": [],
   "source": [
    "path_cathode_id = \"/beegfs/desy/user/ewencedr/data/lhco/high_level/cathode_id.h5\"\n",
    "with h5py.File(path_cathode_id, \"w\") as f:\n",
    "    f.create_dataset(\"data\", data=cathode_data_id)"
   ]
  },
  {
   "cell_type": "code",
   "execution_count": null,
   "metadata": {},
   "outputs": [],
   "source": [
    "path_cathode_v = \"/beegfs/desy/user/ewencedr/data/lhco/high_level/cathode_v.h5\"\n",
    "with h5py.File(path_cathode_v, \"w\") as f:\n",
    "    f.create_dataset(\"data\", data=cathode_data_v)"
   ]
  },
  {
   "cell_type": "code",
   "execution_count": null,
   "metadata": {},
   "outputs": [],
   "source": [
    "path_cathode_c = \"/beegfs/desy/user/ewencedr/data/lhco/high_level/cathode_c.h5\"\n",
    "with h5py.File(path_cathode_c, \"w\") as f:\n",
    "    f.create_dataset(\"data\", data=cathode_data_c)"
   ]
  },
  {
   "cell_type": "code",
   "execution_count": null,
   "metadata": {},
   "outputs": [],
   "source": [
    "path_cathode_m = \"/beegfs/desy/user/ewencedr/data/lhco/high_level/cathode_m.h5\"\n",
    "with h5py.File(path_cathode_m, \"w\") as f:\n",
    "    f.create_dataset(\"data\", data=data_manuel)"
   ]
  }
 ],
 "metadata": {
  "kernelspec": {
   "display_name": "pllhome",
   "language": "python",
   "name": "python3"
  },
  "language_info": {
   "codemirror_mode": {
    "name": "ipython",
    "version": 3
   },
   "file_extension": ".py",
   "mimetype": "text/x-python",
   "name": "python",
   "nbconvert_exporter": "python",
   "pygments_lexer": "ipython3",
   "version": "3.10.6"
  }
 },
 "nbformat": 4,
 "nbformat_minor": 2
}
