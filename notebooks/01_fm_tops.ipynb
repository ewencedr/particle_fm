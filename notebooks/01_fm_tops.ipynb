{
 "cells": [
  {
   "cell_type": "code",
   "execution_count": null,
   "metadata": {},
   "outputs": [],
   "source": [
    "import os\n",
    "import sys\n",
    "\n",
    "sys.path.append(\"../\")\n",
    "\n",
    "%matplotlib inline\n",
    "%load_ext autoreload\n",
    "%autoreload 2"
   ]
  },
  {
   "cell_type": "code",
   "execution_count": null,
   "metadata": {},
   "outputs": [],
   "source": [
    "from typing import List, Optional, Tuple\n",
    "\n",
    "import hydra\n",
    "import pyrootutils\n",
    "import pytorch_lightning as pl\n",
    "import torch\n",
    "from omegaconf import DictConfig, OmegaConf, open_dict\n",
    "from pytorch_lightning import Callback, LightningDataModule, LightningModule, Trainer\n",
    "from pytorch_lightning.loggers import Logger\n",
    "\n",
    "from src import utils"
   ]
  },
  {
   "cell_type": "code",
   "execution_count": null,
   "metadata": {},
   "outputs": [],
   "source": [
    "# set env variable DATA_DIR again because of hydra\n",
    "from dotenv import load_dotenv\n",
    "\n",
    "load_dotenv()\n",
    "os.environ[\"DATA_DIR\"] = os.environ.get(\"DATA_DIR\")"
   ]
  },
  {
   "cell_type": "code",
   "execution_count": null,
   "metadata": {},
   "outputs": [],
   "source": [
    "experiment = \"fm_tops.yaml\""
   ]
  },
  {
   "cell_type": "code",
   "execution_count": null,
   "metadata": {},
   "outputs": [],
   "source": [
    "# load everything from experiment config\n",
    "with hydra.initialize(version_base=None, config_path=\"../configs/\"):\n",
    "    cfg = hydra.compose(config_name=\"train.yaml\", overrides=[f\"experiment={experiment}\"])\n",
    "    print(OmegaConf.to_yaml(cfg))"
   ]
  },
  {
   "cell_type": "code",
   "execution_count": null,
   "metadata": {},
   "outputs": [],
   "source": [
    "datamodule = hydra.utils.instantiate(cfg.data)\n",
    "model = hydra.utils.instantiate(cfg.model)"
   ]
  },
  {
   "cell_type": "code",
   "execution_count": null,
   "metadata": {},
   "outputs": [],
   "source": [
    "test = OmegaConf.to_yaml(cfg.callbacks)\n",
    "print(test)"
   ]
  },
  {
   "cell_type": "code",
   "execution_count": null,
   "metadata": {},
   "outputs": [],
   "source": [
    "from pytorch_lightning.callbacks import (\n",
    "    EarlyStopping,\n",
    "    LearningRateMonitor,\n",
    "    ModelCheckpoint,\n",
    "    ModelSummary,\n",
    "    RichProgressBar,\n",
    ")\n",
    "\n",
    "checkpoint_callback = ModelCheckpoint(\n",
    "    monitor=\"val/loss\", mode=\"min\", save_top_k=1, save_last=True, save_weights_only=True\n",
    ")\n",
    "early_stopping = EarlyStopping(\n",
    "    monitor=\"val/loss\", mode=\"min\", patience=10, verbose=True, min_delta=0.0001\n",
    ")\n",
    "lr_monitor = LearningRateMonitor(logging_interval=\"step\")\n",
    "model_summary = ModelSummary()\n",
    "rich_progress_bar = RichProgressBar()"
   ]
  },
  {
   "cell_type": "code",
   "execution_count": null,
   "metadata": {},
   "outputs": [],
   "source": [
    "trainer = pl.Trainer(max_epochs=5, callbacks=[], accelerator=\"gpu\")\n",
    "torch.set_float32_matmul_precision(\"medium\")"
   ]
  },
  {
   "cell_type": "code",
   "execution_count": null,
   "metadata": {},
   "outputs": [],
   "source": [
    "trainer.fit(\n",
    "    model=model,\n",
    "    datamodule=datamodule,\n",
    "    ckpt_path=cfg.get(\"ckpt_path\"),\n",
    ")"
   ]
  },
  {
   "cell_type": "code",
   "execution_count": null,
   "metadata": {},
   "outputs": [],
   "source": [
    "# model.eval()\n",
    "model.cuda().device"
   ]
  },
  {
   "cell_type": "code",
   "execution_count": null,
   "metadata": {},
   "outputs": [],
   "source": [
    "x_samples = model.sample(1000).detach().cpu().numpy()"
   ]
  },
  {
   "cell_type": "code",
   "execution_count": null,
   "metadata": {},
   "outputs": [],
   "source": [
    "import matplotlib.pyplot as plt\n",
    "import numpy as np\n",
    "import tqdm\n",
    "from matplotlib.gridspec import GridSpec"
   ]
  },
  {
   "cell_type": "code",
   "execution_count": null,
   "metadata": {},
   "outputs": [],
   "source": [
    "fig = plt.figure(figsize=(16, 16))\n",
    "gs = GridSpec(4, 4)\n",
    "\n",
    "for i in range(16):\n",
    "    ax = fig.add_subplot(gs[i])\n",
    "\n",
    "    ax.scatter(*x_samples[i, :, :2].T, s=1000 * np.abs(x_samples[i, :, 2]), alpha=0.5)\n",
    "\n",
    "    ax.set_xlabel(r\"$\\eta$\")\n",
    "    ax.set_ylabel(r\"$\\phi$\")\n",
    "\n",
    "    ax.set_xlim(-0.3, 0.3)\n",
    "    ax.set_ylim(-0.3, 0.3)\n",
    "\n",
    "plt.suptitle(\"Gen. jets\", fontsize=20, y=1.01)\n",
    "plt.tight_layout()"
   ]
  },
  {
   "cell_type": "code",
   "execution_count": null,
   "metadata": {},
   "outputs": [],
   "source": [
    "import energyflow as ef\n",
    "\n",
    "\n",
    "def jet_masses(jets_ary):\n",
    "    jets_p4s = ef.p4s_from_ptyphims(jets_ary)\n",
    "    masses = ef.ms_from_p4s(jets_p4s.sum(axis=1))\n",
    "    return masses\n",
    "\n",
    "\n",
    "def jet_ys(jets_ary):\n",
    "    jets_p4s = ef.p4s_from_ptyphims(jets_ary)\n",
    "    ys = ef.ys_from_p4s(jets_p4s.sum(axis=1))\n",
    "    return ys\n",
    "\n",
    "\n",
    "def jet_etas(jets_ary):\n",
    "    jets_p4s = ef.p4s_from_ptyphims(jets_ary)\n",
    "    etas = ef.etas_from_p4s(jets_p4s.sum(axis=1))\n",
    "    return etas\n",
    "\n",
    "\n",
    "def jet_phis(jets_ary):\n",
    "    jets_p4s = ef.p4s_from_ptyphims(jets_ary)\n",
    "    phis = ef.phis_from_p4s(jets_p4s.sum(axis=1), phi_ref=0)\n",
    "    return phis"
   ]
  },
  {
   "cell_type": "code",
   "execution_count": null,
   "metadata": {},
   "outputs": [],
   "source": [
    "x = datamodule.tensor_test\n",
    "print(x.shape)"
   ]
  },
  {
   "cell_type": "code",
   "execution_count": null,
   "metadata": {},
   "outputs": [],
   "source": [
    "fig = plt.figure(figsize=(20, 4))\n",
    "gs = GridSpec(1, 4)\n",
    "\n",
    "#####\n",
    "\n",
    "ax = fig.add_subplot(gs[0])\n",
    "\n",
    "i_feat = 0\n",
    "\n",
    "bins = np.linspace(-0.5, 0.5, 50)\n",
    "ax.hist(\n",
    "    (np.concatenate(x_samples))[:, i_feat],\n",
    "    histtype=\"step\",\n",
    "    bins=bins,\n",
    "    density=True,\n",
    "    lw=2,\n",
    "    ls=\"--\",\n",
    "    alpha=0.7,\n",
    "    label=\"Gen\",\n",
    ")\n",
    "\n",
    "eta = np.concatenate((np.array(x)))[:, i_feat]\n",
    "eta = eta[eta != 0.0]\n",
    "ax.hist(eta, histtype=\"step\", density=True, bins=bins, lw=2, alpha=0.7, label=\"Sim\")\n",
    "\n",
    "ax.set_xlabel(r\"$\\eta^\\mathrm{rel}$\")\n",
    "ax.get_yaxis().set_ticklabels([])\n",
    "ax.set_yscale(\"log\")\n",
    "ax.legend()\n",
    "\n",
    "#####\n",
    "\n",
    "ax = fig.add_subplot(gs[1])\n",
    "\n",
    "i_feat = 1\n",
    "\n",
    "bins = np.linspace(-0.5, 0.5, 50)\n",
    "ax.hist(\n",
    "    (np.concatenate(x_samples))[:, i_feat],\n",
    "    histtype=\"step\",\n",
    "    bins=bins,\n",
    "    density=True,\n",
    "    lw=2,\n",
    "    ls=\"--\",\n",
    "    alpha=0.7,\n",
    "    label=\"Gen\",\n",
    ")\n",
    "\n",
    "eta = (np.concatenate(np.array(x)))[:, i_feat]\n",
    "eta = eta[eta != 0.0]\n",
    "ax.hist(eta, histtype=\"step\", density=True, bins=bins, lw=2, alpha=0.7, label=\"Sim\")\n",
    "\n",
    "ax.set_xlabel(r\"$\\phi^\\mathrm{rel}$\")\n",
    "ax.get_yaxis().set_ticklabels([])\n",
    "ax.set_yscale(\"log\")\n",
    "ax.legend()\n",
    "\n",
    "#####\n",
    "\n",
    "ax = fig.add_subplot(gs[2])\n",
    "\n",
    "i_feat = 2\n",
    "\n",
    "bins = np.linspace(-0.1, 0.5, 100)\n",
    "ax.hist(\n",
    "    (np.concatenate(x_samples))[:, i_feat],\n",
    "    histtype=\"step\",\n",
    "    bins=bins,\n",
    "    density=True,\n",
    "    lw=2,\n",
    "    ls=\"--\",\n",
    "    alpha=0.7,\n",
    "    label=\"Gen\",\n",
    ")\n",
    "\n",
    "eta = np.concatenate((np.array(x)))[:, i_feat]\n",
    "eta = eta[eta != 0.0]\n",
    "ax.hist(eta, histtype=\"step\", density=True, bins=bins, lw=2, alpha=0.7, label=\"Sim\")\n",
    "\n",
    "ax.set_xlabel(r\"$p_\\mathrm{T}^\\mathrm{rel}$\")\n",
    "ax.get_yaxis().set_ticklabels([])\n",
    "ax.set_yscale(\"log\")\n",
    "ax.legend()\n",
    "\n",
    "#####\n",
    "\n",
    "ax = fig.add_subplot(gs[3])\n",
    "\n",
    "bins = np.linspace(0.0, 0.3, 100)\n",
    "# bins=100\n",
    "jet_mass = jet_masses(\n",
    "    np.array([x_samples[:, :, 2], x_samples[:, :, 0], x_samples[:, :, 1]]).transpose(1, 2, 0)\n",
    ")\n",
    "ax.hist(jet_mass, histtype=\"step\", bins=bins, density=True, lw=2, ls=\"--\", alpha=0.7, label=\"Gen\")\n",
    "\n",
    "jet_mass = jet_masses(\n",
    "    np.array([x.numpy()[:, :, 2], x.numpy()[:, :, 0], x.numpy()[:, :, 1]]).transpose(1, 2, 0)\n",
    ")\n",
    "ax.hist(jet_mass, histtype=\"step\", bins=bins, density=True, lw=2, alpha=0.7, label=\"Sim\")\n",
    "\n",
    "ax.set_xlabel(r\"Jet mass\")\n",
    "ax.set_yscale(\"log\")\n",
    "ax.legend()\n",
    "\n",
    "\n",
    "plt.tight_layout()"
   ]
  }
 ],
 "metadata": {
  "kernelspec": {
   "display_name": "pllhydra",
   "language": "python",
   "name": "pllhydra"
  },
  "language_info": {
   "codemirror_mode": {
    "name": "ipython",
    "version": 3
   },
   "file_extension": ".py",
   "mimetype": "text/x-python",
   "name": "python",
   "nbconvert_exporter": "python",
   "pygments_lexer": "ipython3",
   "version": "3.9.13"
  }
 },
 "nbformat": 4,
 "nbformat_minor": 2
}
