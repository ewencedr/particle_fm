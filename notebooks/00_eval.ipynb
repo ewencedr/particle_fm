{
 "cells": [
  {
   "attachments": {},
   "cell_type": "markdown",
   "metadata": {},
   "source": [
    "# Evaluation of Mulitple Jets"
   ]
  },
  {
   "attachments": {},
   "cell_type": "markdown",
   "metadata": {},
   "source": [
    "### Imports"
   ]
  },
  {
   "cell_type": "code",
   "execution_count": null,
   "metadata": {},
   "outputs": [],
   "source": [
    "import os\n",
    "import sys\n",
    "\n",
    "sys.path.append(\"../\")\n",
    "\n",
    "%matplotlib inline\n",
    "%load_ext autoreload\n",
    "%autoreload 2"
   ]
  },
  {
   "cell_type": "code",
   "execution_count": null,
   "metadata": {},
   "outputs": [],
   "source": [
    "import hydra\n",
    "import numpy as np\n",
    "import pytorch_lightning as pl\n",
    "import torch\n",
    "from omegaconf import OmegaConf"
   ]
  },
  {
   "cell_type": "code",
   "execution_count": null,
   "metadata": {},
   "outputs": [],
   "source": [
    "# set env variable DATA_DIR again because of hydra\n",
    "from dotenv import load_dotenv\n",
    "\n",
    "load_dotenv()\n",
    "os.environ[\"DATA_DIR\"] = os.environ.get(\"DATA_DIR\")"
   ]
  },
  {
   "cell_type": "code",
   "execution_count": null,
   "metadata": {},
   "outputs": [],
   "source": [
    "# plots and metrics\n",
    "import matplotlib.pyplot as plt\n",
    "\n",
    "from src.data.components import calculate_all_wasserstein_metrics\n",
    "from src.utils.data_generation import generate_data\n",
    "from src.utils.plotting import apply_mpl_styles, create_and_plot_data, plot_single_jets\n",
    "\n",
    "apply_mpl_styles()"
   ]
  },
  {
   "attachments": {},
   "cell_type": "markdown",
   "metadata": {},
   "source": [
    "### Load specified model and datamodule from selected experiment"
   ]
  },
  {
   "cell_type": "code",
   "execution_count": null,
   "metadata": {},
   "outputs": [],
   "source": [
    "experiment = \"fm_all_jets.yaml\""
   ]
  },
  {
   "cell_type": "code",
   "execution_count": null,
   "metadata": {},
   "outputs": [],
   "source": [
    "# load everything from experiment config\n",
    "with hydra.initialize(version_base=None, config_path=\"../configs/\"):\n",
    "    cfg = hydra.compose(config_name=\"train.yaml\", overrides=[f\"experiment={experiment}\"])\n",
    "    print(OmegaConf.to_yaml(cfg))"
   ]
  },
  {
   "cell_type": "code",
   "execution_count": null,
   "metadata": {},
   "outputs": [],
   "source": [
    "datamodule = hydra.utils.instantiate(cfg.data)\n",
    "model = hydra.utils.instantiate(cfg.model)"
   ]
  },
  {
   "cell_type": "code",
   "execution_count": null,
   "metadata": {},
   "outputs": [],
   "source": [
    "model_name_for_saving = \"nb_fm_tops30\""
   ]
  },
  {
   "cell_type": "code",
   "execution_count": null,
   "metadata": {},
   "outputs": [],
   "source": [
    "datamodule.setup()"
   ]
  },
  {
   "cell_type": "code",
   "execution_count": null,
   "metadata": {},
   "outputs": [],
   "source": [
    "test_data = np.array(datamodule.tensor_test)\n",
    "test_mask = np.array(datamodule.mask_test)\n",
    "test_cond = np.array(datamodule.tensor_conditioning_test)\n",
    "val_data = np.array(datamodule.tensor_val)\n",
    "val_mask = np.array(datamodule.mask_val)\n",
    "val_cond = np.array(datamodule.tensor_conditioning_val)\n",
    "train_data = np.array(datamodule.tensor_train)\n",
    "train_mask = np.array(datamodule.mask_train)\n",
    "train_cond = np.array(datamodule.tensor_conditioning_train)\n",
    "means = np.array(datamodule.means)\n",
    "stds = np.array(datamodule.stds)"
   ]
  },
  {
   "cell_type": "code",
   "execution_count": null,
   "metadata": {},
   "outputs": [],
   "source": [
    "print(test_data.shape)\n",
    "print(test_mask.shape)\n",
    "print(test_cond.shape)\n",
    "print(val_data.shape)\n",
    "print(val_mask.shape)\n",
    "print(val_cond.shape)\n",
    "print(train_data.shape)\n",
    "print(train_mask.shape)\n",
    "print(train_cond.shape)\n",
    "print(means)\n",
    "print(stds)"
   ]
  },
  {
   "attachments": {},
   "cell_type": "markdown",
   "metadata": {},
   "source": [
    "### Load Checkpoint"
   ]
  },
  {
   "cell_type": "code",
   "execution_count": null,
   "metadata": {},
   "outputs": [],
   "source": [
    "# cond\n",
    "ckpt = \"/beegfs/desy/user/ewencedr/deep-learning/logs/150 alljets nocond onlymetrics/runs/2023-06-14_18-51-51/checkpoints/epoch_1979_w1m_0.00055217-EMA.ckpt\"\n",
    "ckpt = \"/beegfs/desy/user/ewencedr/deep-learning/logs/30 alljets nocond onlymetrics/runs/2023-06-14_18-51-38/checkpoints/epoch_2983_w1m_0.00026751-EMA.ckpt\"\n",
    "model = model.load_from_checkpoint(ckpt)"
   ]
  },
  {
   "cell_type": "code",
   "execution_count": null,
   "metadata": {},
   "outputs": [],
   "source": []
  },
  {
   "attachments": {},
   "cell_type": "markdown",
   "metadata": {},
   "source": [
    "## Generate Combined"
   ]
  },
  {
   "cell_type": "code",
   "execution_count": null,
   "metadata": {},
   "outputs": [],
   "source": [
    "# chosse between test and val\n",
    "mask_gen = test_mask\n",
    "data_gen = test_data\n",
    "cond_gen = test_cond"
   ]
  },
  {
   "cell_type": "code",
   "execution_count": null,
   "metadata": {},
   "outputs": [],
   "source": [
    "# increase size for better statistics\n",
    "big_mask = np.repeat(mask_gen, 5, axis=0)\n",
    "big_data = np.repeat(data_gen, 5, axis=0)\n",
    "big_cond = np.repeat(cond_gen, 5, axis=0)"
   ]
  },
  {
   "cell_type": "code",
   "execution_count": null,
   "metadata": {},
   "outputs": [],
   "source": [
    "data, generation_time = generate_data(\n",
    "    model,\n",
    "    num_jet_samples=5 * len(mask_gen),\n",
    "    batch_size=1000,\n",
    "    cond=torch.tensor(big_cond),\n",
    "    variable_set_sizes=True,\n",
    "    mask=torch.tensor(big_mask),\n",
    "    normalized_data=True,\n",
    "    means=means,\n",
    "    stds=stds,\n",
    "    ode_solver=\"midpoint\",\n",
    "    ode_steps=100,\n",
    ")"
   ]
  },
  {
   "cell_type": "code",
   "execution_count": null,
   "metadata": {},
   "outputs": [],
   "source": [
    "particle_data = data\n",
    "w_dists_big = calculate_all_wasserstein_metrics(\n",
    "    data_gen[..., :3],\n",
    "    particle_data,\n",
    "    None,\n",
    "    None,\n",
    "    num_eval_samples=len(data_gen),\n",
    "    num_batches=5,\n",
    "    calculate_efps=True,\n",
    "    use_masks=False,\n",
    ")\n",
    "\n",
    "print(w_dists_big)"
   ]
  },
  {
   "attachments": {},
   "cell_type": "markdown",
   "metadata": {},
   "source": [
    "## Generate one jet type"
   ]
  },
  {
   "cell_type": "code",
   "execution_count": null,
   "metadata": {},
   "outputs": [],
   "source": [
    "jet_type = \"t\"\n",
    "dataset = \"test\"\n",
    "if not datamodule.hparams.conditioning_type:\n",
    "    raise ValueError(\"Data module has no conditioning on jet type\")"
   ]
  },
  {
   "cell_type": "code",
   "execution_count": null,
   "metadata": {},
   "outputs": [],
   "source": [
    "if dataset == \"test\":\n",
    "    mask = test_mask\n",
    "    data = test_data\n",
    "    cond = test_cond\n",
    "elif dataset == \"val\":\n",
    "    mask = val_mask\n",
    "    data = val_data\n",
    "    cond = val_cond\n",
    "print(mask.shape)\n",
    "print(data.shape)\n",
    "print(cond.shape)"
   ]
  },
  {
   "cell_type": "code",
   "execution_count": null,
   "metadata": {},
   "outputs": [],
   "source": [
    "print(train_cond.shape)"
   ]
  },
  {
   "cell_type": "code",
   "execution_count": null,
   "metadata": {},
   "outputs": [],
   "source": [
    "# select only data, mask and cond for the specified jet type\n",
    "# also for training data because it is compared to test data later\n",
    "index_jettype = np.squeeze(np.argwhere(np.array(datamodule.jet_types) == jet_type))\n",
    "\n",
    "indice_jettype = np.squeeze(np.argwhere(cond[:, index_jettype] == 1))\n",
    "indice_jettype_train = np.squeeze(np.argwhere(train_cond[:, index_jettype] == 1))\n",
    "\n",
    "mask_jettype = mask[indice_jettype]\n",
    "data_jettype = data[indice_jettype]\n",
    "cond_jettype = cond[indice_jettype]\n",
    "train_mask_jettype = train_mask[indice_jettype_train]\n",
    "train_data_jettype = train_data[indice_jettype_train]\n",
    "train_cond_jettype = train_cond[indice_jettype_train]\n",
    "\n",
    "print(mask_jettype.shape)\n",
    "print(data_jettype.shape)\n",
    "print(cond_jettype.shape)\n",
    "print(train_mask_jettype.shape)\n",
    "print(train_data_jettype.shape)\n",
    "print(train_cond_jettype.shape)"
   ]
  },
  {
   "cell_type": "code",
   "execution_count": null,
   "metadata": {},
   "outputs": [],
   "source": [
    "factor = 5"
   ]
  },
  {
   "cell_type": "code",
   "execution_count": null,
   "metadata": {},
   "outputs": [],
   "source": [
    "# increase size for better statistics\n",
    "big_mask_jettype = np.repeat(mask_jettype, factor, axis=0)\n",
    "big_data_jettype = np.repeat(data_jettype, factor, axis=0)\n",
    "big_cond_jettype = np.repeat(cond_jettype, factor, axis=0)"
   ]
  },
  {
   "cell_type": "code",
   "execution_count": null,
   "metadata": {},
   "outputs": [],
   "source": [
    "data, generation_time = generate_data(\n",
    "    model,\n",
    "    num_jet_samples=len(big_mask_jettype),\n",
    "    batch_size=1000,\n",
    "    cond=torch.tensor(big_cond_jettype),\n",
    "    variable_set_sizes=True,\n",
    "    mask=torch.tensor(big_mask_jettype),\n",
    "    normalized_data=True,\n",
    "    means=means,\n",
    "    stds=stds,\n",
    "    ode_solver=\"midpoint\",\n",
    "    ode_steps=100,\n",
    ")"
   ]
  },
  {
   "cell_type": "code",
   "execution_count": null,
   "metadata": {},
   "outputs": [],
   "source": [
    "w_dists_big_jettype = calculate_all_wasserstein_metrics(\n",
    "    data_jettype[..., :3],\n",
    "    data,\n",
    "    None,\n",
    "    None,\n",
    "    num_eval_samples=len(data_jettype),\n",
    "    num_batches=factor,\n",
    "    calculate_efps=True,\n",
    "    use_masks=False,\n",
    ")\n",
    "\n",
    "print(w_dists_big_jettype)"
   ]
  },
  {
   "attachments": {},
   "cell_type": "markdown",
   "metadata": {},
   "source": [
    "## Jet substructure"
   ]
  },
  {
   "attachments": {},
   "cell_type": "markdown",
   "metadata": {},
   "source": [
    "#### Generated data\n",
    "Using statistics of one val/test dataset"
   ]
  },
  {
   "cell_type": "code",
   "execution_count": null,
   "metadata": {},
   "outputs": [],
   "source": [
    "import h5py\n",
    "from scipy.stats import wasserstein_distance\n",
    "\n",
    "from src.data.components.metrics import wasserstein_distance_batched\n",
    "from src.utils.jet_substructure import dump_hlvs"
   ]
  },
  {
   "cell_type": "code",
   "execution_count": null,
   "metadata": {},
   "outputs": [],
   "source": [
    "path = \"/\".join(ckpt.split(\"/\")[:-2]) + \"/\"\n",
    "file_name = model_name_for_saving + \"_\" + jet_type + \"_substructure\"\n",
    "full_path = path + file_name\n",
    "print(full_path)"
   ]
  },
  {
   "cell_type": "code",
   "execution_count": null,
   "metadata": {},
   "outputs": [],
   "source": [
    "dump_hlvs(data, full_path, plot=True)\n",
    "# dump_hlvs(data[: len(data) // factor], full_path, plot=True)"
   ]
  },
  {
   "attachments": {},
   "cell_type": "markdown",
   "metadata": {},
   "source": [
    "#### JetNet Data"
   ]
  },
  {
   "cell_type": "code",
   "execution_count": null,
   "metadata": {},
   "outputs": [],
   "source": [
    "path_jetnet = f\"/beegfs/desy/user/ewencedr/deep-learning/jetnet_substructure/{jet_type}-{datamodule.hparams.num_particles}_substructure\""
   ]
  },
  {
   "cell_type": "code",
   "execution_count": null,
   "metadata": {},
   "outputs": [],
   "source": [
    "dump_hlvs(np.repeat(data_jettype, 5, axis=0), path_jetnet, plot=True)\n",
    "# dump_hlvs(data_jettype, path_jetnet, plot=True)"
   ]
  },
  {
   "attachments": {},
   "cell_type": "markdown",
   "metadata": {},
   "source": [
    "#### load and compare generated data with jetnet data (W-Dists)"
   ]
  },
  {
   "cell_type": "code",
   "execution_count": null,
   "metadata": {},
   "outputs": [],
   "source": [
    "keys = []\n",
    "data_substructure = []\n",
    "with h5py.File(full_path + \".h5\", \"r\") as f:\n",
    "    print(f.keys())\n",
    "    tau21 = np.array(f[\"tau21\"])\n",
    "    tau32 = np.array(f[\"tau32\"])\n",
    "    d2 = np.array(f[\"d2\"])\n",
    "    for key in f.keys():\n",
    "        keys.append(key)\n",
    "        data_substructure.append(np.array(f[key]))\n",
    "data_substructure = np.array(data_substructure)"
   ]
  },
  {
   "cell_type": "code",
   "execution_count": null,
   "metadata": {},
   "outputs": [],
   "source": [
    "data_substructure_jetnet = []\n",
    "with h5py.File(path_jetnet + \".h5\", \"r\") as f:\n",
    "    tau21_jetnet = np.array(f[\"tau21\"])\n",
    "    tau32_jetnet = np.array(f[\"tau32\"])\n",
    "    d2_jetnet = np.array(f[\"d2\"])\n",
    "    for key in f.keys():\n",
    "        data_substructure_jetnet.append(np.array(f[key]))\n",
    "data_substructure_jetnet = np.array(data_substructure_jetnet)"
   ]
  },
  {
   "cell_type": "code",
   "execution_count": null,
   "metadata": {},
   "outputs": [],
   "source": [
    "w_dist_tau21_mean, w_dist_tau21_std = wasserstein_distance_batched(\n",
    "    tau21_jetnet[: len(tau21_jetnet) // factor], tau21, num_batches=factor\n",
    ")\n",
    "w_dist_tau32_mean, w_dist_tau32_std = wasserstein_distance_batched(\n",
    "    tau32_jetnet[: len(tau32_jetnet) // factor], tau32, num_batches=factor\n",
    ")\n",
    "w_dist_d2_mean, w_dist_d2_std = wasserstein_distance_batched(\n",
    "    d2_jetnet[: len(d2_jetnet) // factor], d2, num_batches=factor\n",
    ")\n",
    "print(f\"W-Dist tau21: {w_dist_tau21_mean:4.3E} +- {w_dist_tau21_std:4.3E}\")\n",
    "print(f\"W-Dist tau32: {w_dist_tau32_mean:4.3E} +- {w_dist_tau32_std:4.3E}\")\n",
    "print(f\"W-Dist d2: {w_dist_d2_mean:4.3E} +- {w_dist_d2_std:4.3E}\")"
   ]
  },
  {
   "attachments": {},
   "cell_type": "markdown",
   "metadata": {},
   "source": [
    "#### truth data"
   ]
  },
  {
   "cell_type": "code",
   "execution_count": null,
   "metadata": {},
   "outputs": [],
   "source": [
    "path_jetnet_train = f\"/beegfs/desy/user/ewencedr/deep-learning/jetnet_substructure/{jet_type}-{datamodule.hparams.num_particles}-train_substructure\""
   ]
  },
  {
   "cell_type": "code",
   "execution_count": null,
   "metadata": {},
   "outputs": [],
   "source": [
    "dump_hlvs(train_data_jettype, path_jetnet_train, plot=True)"
   ]
  },
  {
   "cell_type": "code",
   "execution_count": null,
   "metadata": {},
   "outputs": [],
   "source": [
    "with h5py.File(path_jetnet_train + \".h5\", \"r\") as f:\n",
    "    tau21_jetnet_train = np.array(f[\"tau21\"])\n",
    "    tau32_jetnet_train = np.array(f[\"tau32\"])\n",
    "    d2_jetnet_train = np.array(f[\"d2\"])"
   ]
  },
  {
   "cell_type": "code",
   "execution_count": null,
   "metadata": {},
   "outputs": [],
   "source": [
    "print((tau21_jetnet[: len(tau21_jetnet) // factor]).shape)\n",
    "print(tau21_jetnet_train.shape)"
   ]
  },
  {
   "cell_type": "code",
   "execution_count": null,
   "metadata": {},
   "outputs": [],
   "source": [
    "w_dist_tau21_mean_truth, w_dist_tau21_std_truth = wasserstein_distance_batched(\n",
    "    tau21_jetnet[: len(tau21_jetnet) // factor], tau21_jetnet_train, num_batches=factor - 1\n",
    ")\n",
    "w_dist_tau32_mean_truth, w_dist_tau32_std_truth = wasserstein_distance_batched(\n",
    "    tau32_jetnet[: len(tau32_jetnet) // factor], tau32_jetnet_train, num_batches=factor - 1\n",
    ")\n",
    "w_dist_d2_mean_truth, w_dist_d2_std_truth = wasserstein_distance_batched(\n",
    "    d2_jetnet[: len(d2_jetnet) // factor], d2_jetnet_train, num_batches=factor - 1\n",
    ")\n",
    "print(f\"W-Dist tau21: {w_dist_tau21_mean_truth:4.3E} +- {w_dist_tau21_std_truth:4.3E}\")\n",
    "print(f\"W-Dist tau32: {w_dist_tau32_mean_truth:4.3E} +- {w_dist_tau32_std_truth:4.3E}\")\n",
    "print(f\"W-Dist d2: {w_dist_d2_mean_truth:4.3E} +- {w_dist_d2_std_truth:4.3E}\")"
   ]
  },
  {
   "attachments": {},
   "cell_type": "markdown",
   "metadata": {},
   "source": [
    "#### Histogram Plots for Substructure Metrics"
   ]
  },
  {
   "cell_type": "code",
   "execution_count": null,
   "metadata": {},
   "outputs": [],
   "source": [
    "bins = 100\n",
    "fig, (ax1, ax2, ax3) = plt.subplots(1, 3, figsize=(15, 5))\n",
    "\n",
    "hist_tau21_jetnet = ax1.hist(\n",
    "    tau21_jetnet, bins=bins, label=\"JetNet\", histtype=\"stepfilled\", alpha=0.5\n",
    ")\n",
    "hist_tau21 = ax1.hist(tau21, bins=hist_tau21_jetnet[1], label=\"EPiC-FM\", histtype=\"step\")\n",
    "ax1.set_title(r\"$\\tau_{21}$\")\n",
    "ax1.legend(loc=\"best\")\n",
    "\n",
    "hist_tau32_jetnet = ax2.hist(\n",
    "    tau32_jetnet, bins=bins, label=\"JetNet\", histtype=\"stepfilled\", alpha=0.5\n",
    ")\n",
    "hist_tau32 = ax2.hist(tau32, bins=hist_tau32_jetnet[1], label=\"EPiC-FM\", histtype=\"step\")\n",
    "ax2.set_title(r\"$\\tau_{32}$\")\n",
    "ax2.legend(loc=\"best\")\n",
    "\n",
    "hist_d2_jetnet = ax3.hist(d2_jetnet, bins=bins, label=\"JetNet\", histtype=\"stepfilled\", alpha=0.5)\n",
    "hist_d2 = ax3.hist(d2, bins=hist_d2_jetnet[1], label=\"EPiC-FM\", histtype=\"step\")\n",
    "ax3.set_title(r\"$d_2$\")\n",
    "ax3.legend(loc=\"best\")\n",
    "\n",
    "plt.legend(loc=\"best\")\n",
    "plt.tight_layout()"
   ]
  },
  {
   "cell_type": "code",
   "execution_count": null,
   "metadata": {},
   "outputs": [],
   "source": [
    "bins = 100\n",
    "fig, axs = plt.subplots(4, 3, figsize=(15, 20))\n",
    "\n",
    "for i, ax in enumerate(axs.flatten()):\n",
    "    hist_jetnet = ax.hist(\n",
    "        data_substructure_jetnet[i], bins=bins, label=\"JetNet\", histtype=\"stepfilled\", alpha=0.5\n",
    "    )\n",
    "    hist = ax.hist(data_substructure[i], bins=hist_jetnet[1], label=\"EPiC-FM\", histtype=\"step\")\n",
    "    ax.set_title(keys[i])\n",
    "    ax.legend(loc=\"best\")\n",
    "\n",
    "plt.legend(loc=\"best\")\n",
    "plt.tight_layout()"
   ]
  },
  {
   "attachments": {},
   "cell_type": "markdown",
   "metadata": {},
   "source": [
    "### Histograms"
   ]
  },
  {
   "cell_type": "code",
   "execution_count": null,
   "metadata": {},
   "outputs": [],
   "source": [
    "fig, data, generation_times = create_and_plot_data(\n",
    "    np.array(data_jettype),\n",
    "    [model],\n",
    "    cond=torch.tensor(cond_jettype),\n",
    "    save_name=\"fm_tops_nb\",\n",
    "    labels=[\"FM\"],\n",
    "    mask=mask_jettype,\n",
    "    num_jet_samples=len(data_jettype),\n",
    "    batch_size=1000,\n",
    "    variable_set_sizes=True,\n",
    "    normalized_data=[True],\n",
    "    means=means,\n",
    "    stds=stds,\n",
    "    save_folder=\"./logs/nb_plots/\",\n",
    "    plottype=\"sim_data\",\n",
    "    plot_jet_features=True,\n",
    "    plot_w_dists=False,\n",
    "    plot_selected_multiplicities=False,\n",
    "    selected_multiplicities=[1, 3, 5, 10, 20, 30],\n",
    "    ode_solver=\"midpoint\",\n",
    "    ode_steps=100,\n",
    "    bins=100,\n",
    "    mass_linear=False,\n",
    ")"
   ]
  }
 ],
 "metadata": {
  "kernelspec": {
   "display_name": "pllhome",
   "language": "python",
   "name": "python3"
  },
  "language_info": {
   "codemirror_mode": {
    "name": "ipython",
    "version": 3
   },
   "file_extension": ".py",
   "mimetype": "text/x-python",
   "name": "python",
   "nbconvert_exporter": "python",
   "pygments_lexer": "ipython3",
   "version": "3.10.6"
  }
 },
 "nbformat": 4,
 "nbformat_minor": 2
}
