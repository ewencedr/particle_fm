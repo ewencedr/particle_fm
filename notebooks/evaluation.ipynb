{
 "cells": [
  {
   "cell_type": "code",
   "execution_count": 1,
   "metadata": {},
   "outputs": [],
   "source": [
    "import os\n",
    "import sys\n",
    "\n",
    "sys.path.append(\"../\")\n",
    "\n",
    "%matplotlib inline\n",
    "%load_ext autoreload\n",
    "%autoreload 2\n",
    "\n",
    "import hydra\n",
    "import numpy as np\n",
    "import pytorch_lightning as pl\n",
    "import torch\n",
    "from omegaconf import OmegaConf\n",
    "\n",
    "# set env variable DATA_DIR again because of hydra\n",
    "from dotenv import load_dotenv\n",
    "\n",
    "load_dotenv()\n",
    "os.environ[\"DATA_DIR\"] = os.environ.get(\"DATA_DIR\")\n",
    "\n",
    "# plots and metrics\n",
    "import matplotlib.pyplot as plt\n",
    "\n",
    "from src.data.components import calculate_all_wasserstein_metrics\n",
    "from src.utils.data_generation import generate_data\n",
    "from src.utils.plotting import apply_mpl_styles, create_and_plot_data, plot_single_jets\n",
    "\n",
    "apply_mpl_styles()"
   ]
  },
  {
   "cell_type": "code",
   "execution_count": 7,
   "metadata": {},
   "outputs": [
    {
     "name": "stdout",
     "output_type": "stream",
     "text": [
      "task_name: jetclass_flow_matching\n",
      "tags:\n",
      "- flow_matching\n",
      "- JetClass\n",
      "- cond\n",
      "train: true\n",
      "test: true\n",
      "ckpt_path: null\n",
      "seed: 12345\n",
      "data:\n",
      "  _target_: src.data.jetclass_datamodule.JetClassDataModule\n",
      "  data_dir: /beegfs/desy/user/birkjosc/datasets/jetclass_npz\n",
      "  batch_size: 1024\n",
      "  num_workers: 32\n",
      "  pin_memory: false\n",
      "  val_fraction: 0.1\n",
      "  test_fraction: 0.3\n",
      "  conditioning_pt: true\n",
      "  conditioning_eta: false\n",
      "  conditioning_mass: true\n",
      "  conditioning_num_particles: false\n",
      "  use_custom_eta_centering: false\n",
      "model:\n",
      "  _target_: src.models.flow_matching_module.SetFlowMatchingLitModule\n",
      "  optimizer:\n",
      "    _target_: torch.optim.AdamW\n",
      "    _partial_: true\n",
      "    lr: 0.001\n",
      "    weight_decay: 5.0e-05\n",
      "  scheduler:\n",
      "    _target_: src.schedulers.lr_scheduler.CosineWarmupScheduler\n",
      "    _partial_: true\n",
      "    warmup: 1000\n",
      "    max_iters: 10000\n",
      "  features: 3\n",
      "  n_transforms: 1\n",
      "  layers: 6\n",
      "  hidden_dim: 128\n",
      "  latent: 10\n",
      "  activation: leaky_relu\n",
      "  wrapper_func: weight_norm\n",
      "  dropout: 0.0\n",
      "  sum_scale: 0.01\n",
      "  t_emb: cosine\n",
      "  frequencies: 16\n",
      "  t_global_cat: true\n",
      "  t_local_cat: true\n",
      "  add_time_to_input: false\n",
      "  loss_type: FM-OT\n",
      "  diff_config:\n",
      "    max_sr: 0.999\n",
      "    min_sr: 0.02\n",
      "  criterion: mse\n",
      "  sigma: 0.0001\n",
      "  use_normaliser: false\n",
      "  normaliser_config:\n",
      "    max_n: 2000\n",
      "  num_particles: 128\n",
      "  global_cond_dim: 2\n",
      "  local_cond_dim: 0\n",
      "callbacks:\n",
      "  model_checkpoint:\n",
      "    _target_: src.callbacks.ema.EMAModelCheckpoint\n",
      "    dirpath: ${paths.output_dir}/checkpoints\n",
      "    filename: epoch_{epoch:03d}_loss_{val/loss:.5f}\n",
      "    monitor: val/loss\n",
      "    verbose: false\n",
      "    save_last: true\n",
      "    save_top_k: 5\n",
      "    mode: min\n",
      "    auto_insert_metric_name: false\n",
      "    save_weights_only: false\n",
      "    every_n_train_steps: null\n",
      "    train_time_interval: null\n",
      "    every_n_epochs: null\n",
      "    save_on_train_epoch_end: null\n",
      "    metric_map:\n",
      "      val/loss: loss\n",
      "  model_summary:\n",
      "    _target_: pytorch_lightning.callbacks.RichModelSummary\n",
      "    max_depth: -1\n",
      "  lr_monitor:\n",
      "    _target_: pytorch_lightning.callbacks.LearningRateMonitor\n",
      "    logging_interval: epoch\n",
      "    log_momentum: false\n",
      "  rich_progress_bar:\n",
      "    _target_: pytorch_lightning.callbacks.RichProgressBar\n",
      "  ema:\n",
      "    _target_: src.callbacks.ema.EMA\n",
      "    decay: 0.999\n",
      "    apply_ema_every_n_steps: 1\n",
      "    start_step: 0\n",
      "    save_ema_weights_in_callback_state: true\n",
      "    evaluate_ema_weights_instead: true\n",
      "  jetnet_eval:\n",
      "    _target_: src.callbacks.jetnet_eval.JetNetEvaluationCallback\n",
      "    every_n_epochs: 100\n",
      "    num_jet_samples: -1\n",
      "    image_path: ${paths.log_dir}callback_logs/\n",
      "    model_name: model-test\n",
      "    use_ema: true\n",
      "    log_times: true\n",
      "    log_epoch_zero: false\n",
      "    data_type: test\n",
      "    w_dist_config:\n",
      "      num_eval_samples: 10000\n",
      "      num_batches: 40\n",
      "      calculate_efps: false\n",
      "    generation_config:\n",
      "      batch_size: 1000\n",
      "      ode_solver: midpoint\n",
      "      ode_steps: 200\n",
      "      verbose: false\n",
      "    plot_config:\n",
      "      plot_efps: false\n",
      "logger:\n",
      "  comet:\n",
      "    _target_: pytorch_lightning.loggers.comet.CometLogger\n",
      "    api_key: ${oc.env:COMET_API_TOKEN}\n",
      "    save_dir: ${paths.output_dir}\n",
      "    project_name: deep-learning\n",
      "    rest_api_key: null\n",
      "    experiment_key: null\n",
      "    offline: false\n",
      "    prefix: ''\n",
      "    experiment_name: ${task_name}\n",
      "  csv:\n",
      "    _target_: pytorch_lightning.loggers.csv_logs.CSVLogger\n",
      "    save_dir: ${paths.output_dir}\n",
      "    name: csv/\n",
      "    prefix: ''\n",
      "  wandb:\n",
      "    _target_: pytorch_lightning.loggers.wandb.WandbLogger\n",
      "    save_dir: ${paths.output_dir}\n",
      "    offline: false\n",
      "    id: null\n",
      "    anonymous: null\n",
      "    project: deep-learning\n",
      "    log_model: false\n",
      "    prefix: ''\n",
      "    group: jetclass_flow_matching\n",
      "    tags: ${tags}\n",
      "    job_type: ''\n",
      "    name: ${task_name}\n",
      "trainer:\n",
      "  _target_: pytorch_lightning.Trainer\n",
      "  default_root_dir: ${paths.output_dir}\n",
      "  min_epochs: 10\n",
      "  max_epochs: 10000\n",
      "  accelerator: gpu\n",
      "  devices: 1\n",
      "  check_val_every_n_epoch: 1\n",
      "  deterministic: false\n",
      "  gradient_clip_val: 0.5\n",
      "paths:\n",
      "  root_dir: ${oc.env:PROJECT_ROOT}\n",
      "  data_dir: ${oc.env:DATA_DIR}\n",
      "  log_dir: ${oc.env:LOG_DIR}\n",
      "  output_dir: ${hydra:runtime.output_dir}\n",
      "  work_dir: ${hydra:runtime.cwd}\n",
      "extras:\n",
      "  ignore_warnings: false\n",
      "  enforce_tags: true\n",
      "  print_config: true\n",
      "\n"
     ]
    }
   ],
   "source": [
    "experiment = \"jetclass_cond.yaml\"\n",
    "model_name_for_saving = \"nb_fm_tops_jetclass\"\n",
    "\n",
    "# load everything from experiment config\n",
    "with hydra.initialize(version_base=None, config_path=\"../configs/\"):\n",
    "    cfg = hydra.compose(config_name=\"train.yaml\", overrides=[f\"experiment={experiment}\"])\n",
    "    print(OmegaConf.to_yaml(cfg))\n",
    "\n",
    "datamodule = hydra.utils.instantiate(cfg.data)\n",
    "model = hydra.utils.instantiate(cfg.model)\n",
    "datamodule.setup()"
   ]
  },
  {
   "cell_type": "code",
   "execution_count": 8,
   "metadata": {},
   "outputs": [
    {
     "name": "stdout",
     "output_type": "stream",
     "text": [
      "(60000, 128, 3)\n",
      "(60000, 128, 1)\n",
      "(60000, 2)\n",
      "(20000, 128, 3)\n",
      "(20000, 128, 1)\n",
      "(20000, 2)\n",
      "(120000, 128, 3)\n",
      "(120000, 128, 1)\n",
      "(120000, 2)\n",
      "None\n",
      "None\n"
     ]
    }
   ],
   "source": [
    "test_data = np.array(datamodule.tensor_test)\n",
    "test_mask = np.array(datamodule.mask_test)\n",
    "test_cond = np.array(datamodule.tensor_conditioning_test)\n",
    "val_data = np.array(datamodule.tensor_val)\n",
    "val_mask = np.array(datamodule.mask_val)\n",
    "val_cond = np.array(datamodule.tensor_conditioning_val)\n",
    "train_data = np.array(datamodule.tensor_train)\n",
    "train_mask = np.array(datamodule.mask_train)\n",
    "train_cond = np.array(datamodule.tensor_conditioning_train)\n",
    "means = np.array(datamodule.means)\n",
    "stds = np.array(datamodule.stds)\n",
    "\n",
    "print(test_data.shape)\n",
    "print(test_mask.shape)\n",
    "print(test_cond.shape)\n",
    "print(val_data.shape)\n",
    "print(val_mask.shape)\n",
    "print(val_cond.shape)\n",
    "print(train_data.shape)\n",
    "print(train_mask.shape)\n",
    "print(train_cond.shape)\n",
    "print(means)\n",
    "print(stds)"
   ]
  },
  {
   "cell_type": "code",
   "execution_count": 9,
   "metadata": {},
   "outputs": [],
   "source": [
    "ckpt = \"/beegfs/desy/user/birkjosc/epic-fm/logs/jetclass_flow_matching/runs/2023-07-27_22-53-12/checkpoints/last-EMA.ckpt\"\n",
    "model = model.load_from_checkpoint(ckpt)"
   ]
  },
  {
   "cell_type": "code",
   "execution_count": 10,
   "metadata": {},
   "outputs": [],
   "source": [
    "factor = 1\n",
    "# chosse between test and val\n",
    "mask_gen = test_mask\n",
    "data_gen = test_data\n",
    "cond_gen = test_cond\n",
    "\n",
    "# increase size for better statistics\n",
    "big_mask = np.repeat(mask_gen, factor, axis=0)\n",
    "big_data = np.repeat(data_gen, factor, axis=0)\n",
    "big_cond = np.repeat(cond_gen, factor, axis=0)"
   ]
  },
  {
   "cell_type": "code",
   "execution_count": 12,
   "metadata": {},
   "outputs": [
    {
     "name": "stdout",
     "output_type": "stream",
     "text": [
      "Generating data. Device: cuda\n"
     ]
    },
    {
     "name": "stderr",
     "output_type": "stream",
     "text": [
      "  0%|          | 0/60 [00:00<?, ?it/s]"
     ]
    },
    {
     "name": "stderr",
     "output_type": "stream",
     "text": [
      "100%|██████████| 60/60 [12:46<00:00, 12.78s/it]\n"
     ]
    }
   ],
   "source": [
    "data, generation_time = generate_data(\n",
    "    model,\n",
    "    num_jet_samples=factor * len(mask_gen),\n",
    "    batch_size=1000,\n",
    "    cond=torch.tensor(big_cond),\n",
    "    variable_set_sizes=True,\n",
    "    mask=torch.tensor(big_mask),\n",
    "    normalized_data=False,\n",
    "    means=means,\n",
    "    stds=stds,\n",
    "    ode_solver=\"midpoint\",\n",
    "    ode_steps=200,\n",
    ")"
   ]
  },
  {
   "cell_type": "code",
   "execution_count": 13,
   "metadata": {},
   "outputs": [
    {
     "name": "stdout",
     "output_type": "stream",
     "text": [
      "W-Dist m: 4.571E-03 +- 0.000E+00\n",
      "W-Dist p: 5.068E-03 +- 0.000E+00\n",
      "W-Dist efp: 1.763E-03 +- 0.000E+00\n"
     ]
    }
   ],
   "source": [
    "particle_data = data\n",
    "w_dists_big = calculate_all_wasserstein_metrics(\n",
    "    data_gen[..., :3],\n",
    "    particle_data[..., :3],\n",
    "    None,\n",
    "    None,\n",
    "    num_eval_samples=len(data_gen),\n",
    "    num_batches=factor,\n",
    "    calculate_efps=True,\n",
    "    use_masks=False,\n",
    ")\n",
    "\n",
    "print(f\"W-Dist m: {w_dists_big['w1m_mean']:4.3E} +- {w_dists_big['w1m_std']:4.3E}\")\n",
    "print(f\"W-Dist p: {w_dists_big['w1p_mean']:4.3E} +- {w_dists_big['w1p_std']:4.3E}\")\n",
    "print(f\"W-Dist efp: {w_dists_big['w1efp_mean']:4.3E} +- {w_dists_big['w1efp_std']:4.3E}\")"
   ]
  },
  {
   "cell_type": "code",
   "execution_count": 14,
   "metadata": {},
   "outputs": [
    {
     "data": {
      "text/plain": [
       "{'w1m_mean': 0.004861510371168454,\n",
       " 'w1p_mean': 0.004791050465572274,\n",
       " 'w1efp_mean': 0.0016754158822309638,\n",
       " 'w1m_std': 0.0,\n",
       " 'w1p_std': 0.0,\n",
       " 'w1efp_std': 0.0}"
      ]
     },
     "execution_count": 14,
     "metadata": {},
     "output_type": "execute_result"
    }
   ],
   "source": [
    "w_dists_big_non_averaged = calculate_all_wasserstein_metrics(\n",
    "    data_gen[..., :3],\n",
    "    particle_data[..., :3],\n",
    "    None,\n",
    "    None,\n",
    "    num_eval_samples=len(data_gen),\n",
    "    num_batches=factor,\n",
    "    calculate_efps=True,\n",
    "    use_masks=False,\n",
    ")\n",
    "w_dists_big_non_averaged"
   ]
  },
  {
   "cell_type": "code",
   "execution_count": 19,
   "metadata": {},
   "outputs": [
    {
     "data": {
      "image/png": "[encoded data removed]",
      "text/plain": [
       "<Figure size 1200x400 with 3 Axes>"
      ]
     },
     "metadata": {},
     "output_type": "display_data"
    }
   ],
   "source": [
    "fig, ax = plt.subplots(1, 3, figsize=(12, 4))\n",
    "ax = ax.flatten()\n",
    "hist_kwargs = dict(bins=100, alpha=0.5, density=True)\n",
    "for i in range(3):\n",
    "    ax[i].hist(data_gen[:, :, i][mask_gen[:, :, 0] != 0].flatten(), **hist_kwargs, label=\"real\")\n",
    "    ax[i].hist(particle_data[:, :, i][mask_gen[:, :, 0] != 0].flatten(), **hist_kwargs, label=\"generated\", histtype=\"step\")\n",
    "    ax[i].legend()\n",
    "    ax[i].set_yscale(\"log\")\n",
    "fig.tight_layout()"
   ]
  }
 ],
 "metadata": {
  "kernelspec": {
   "display_name": "base",
   "language": "python",
   "name": "python3"
  },
  "language_info": {
   "codemirror_mode": {
    "name": "ipython",
    "version": 3
   },
   "file_extension": ".py",
   "mimetype": "text/x-python",
   "name": "python",
   "nbconvert_exporter": "python",
   "pygments_lexer": "ipython3",
   "version": "3.10.8"
  },
  "orig_nbformat": 4
 },
 "nbformat": 4,
 "nbformat_minor": 2
}
