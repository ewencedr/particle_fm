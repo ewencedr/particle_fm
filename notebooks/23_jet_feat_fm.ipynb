{
 "cells": [
  {
   "cell_type": "code",
   "execution_count": null,
   "metadata": {},
   "outputs": [],
   "source": [
    "import energyflow as ef\n",
    "import h5py\n",
    "import matplotlib as mpl\n",
    "import matplotlib.pyplot as plt\n",
    "import numpy as np\n",
    "import torch\n",
    "import torch.nn as nn\n",
    "from cycler import cycler\n",
    "from torch import Tensor\n",
    "from torch.distributions import Normal\n",
    "from torchdyn.core import NeuralODE\n",
    "from tqdm import tqdm\n",
    "from zuko.utils import odeint"
   ]
  },
  {
   "cell_type": "code",
   "execution_count": null,
   "metadata": {},
   "outputs": [],
   "source": [
    "# define plot style\n",
    "mpl.rcParams[\"axes.prop_cycle\"] = cycler(\n",
    "    color=[\n",
    "        \"#B6BFC3\",\n",
    "        \"#3B515B\",\n",
    "        \"#0271BB\",\n",
    "        \"#E2001A\",\n",
    "    ]\n",
    ")\n",
    "mpl.rcParams[\"font.size\"] = 15\n",
    "mpl.rcParams[\"patch.linewidth\"] = 1.25"
   ]
  },
  {
   "cell_type": "code",
   "execution_count": null,
   "metadata": {},
   "outputs": [],
   "source": [
    "path = \"/beegfs/desy/user/ewencedr/data/lhco/final_data/processed_data_background_rel.h5\"\n",
    "with h5py.File(path, \"r\") as f:\n",
    "    jets = f[\"jet_data\"][:]"
   ]
  },
  {
   "cell_type": "code",
   "execution_count": null,
   "metadata": {},
   "outputs": [],
   "source": [
    "print(jets.shape)"
   ]
  },
  {
   "cell_type": "code",
   "execution_count": null,
   "metadata": {},
   "outputs": [],
   "source": [
    "p4_jets = ef.p4s_from_ptyphims(jets)"
   ]
  },
  {
   "cell_type": "code",
   "execution_count": null,
   "metadata": {},
   "outputs": [],
   "source": [
    "# get mjj from p4_jets\n",
    "pj_x = np.sqrt(np.sum(p4_jets[:, 0] ** 2, axis=1))\n",
    "pj_y = np.sqrt(np.sum(p4_jets[:, 1] ** 2, axis=1))\n",
    "mjj = (pj_x + pj_y) ** 2\n",
    "print(mjj.shape)"
   ]
  },
  {
   "cell_type": "code",
   "execution_count": null,
   "metadata": {},
   "outputs": [],
   "source": [
    "# cut window\n",
    "window_left = 0.33e8\n",
    "window_right = 0.37e8\n",
    "args_to_remove = (mjj >= window_left) & (mjj <= window_right)\n",
    "mjj_cut = mjj[~args_to_remove]"
   ]
  },
  {
   "cell_type": "code",
   "execution_count": null,
   "metadata": {},
   "outputs": [],
   "source": [
    "hist = plt.hist(\n",
    "    mjj, bins=np.arange(0.005e8, 1.8e8, 0.005e8), histtype=\"stepfilled\", label=\"mjj\", alpha=0.5\n",
    ")\n",
    "plt.hist(mjj_cut, bins=hist[1], histtype=\"step\", label=\"mjj with cut\")\n",
    "plt.legend()\n",
    "# plt.xlim(window_left-0.01e8, window_right+0.01e8)\n",
    "# print(np.arange(0.01e8,1.80e8, 0.01e8))\n",
    "plt.show()"
   ]
  },
  {
   "cell_type": "code",
   "execution_count": null,
   "metadata": {},
   "outputs": [],
   "source": [
    "jets_cut = jets[~args_to_remove]\n",
    "print(jets_cut.shape)"
   ]
  },
  {
   "cell_type": "code",
   "execution_count": null,
   "metadata": {},
   "outputs": [],
   "source": [
    "train_data = np.reshape(jets_cut, (jets_cut.shape[0], -1))\n",
    "print(train_data.shape)"
   ]
  },
  {
   "cell_type": "code",
   "execution_count": null,
   "metadata": {},
   "outputs": [],
   "source": [
    "jets_plot = jets.reshape(-1, 8)\n",
    "label_map = {\n",
    "    \"0\": r\"${p_T}_1$\",\n",
    "    \"1\": r\"$\\eta_1$\",\n",
    "    \"2\": r\"$\\phi_1$\",\n",
    "    \"3\": r\"$m_1$\",\n",
    "    \"4\": r\"${p_T}_2$\",\n",
    "    \"5\": r\"$\\eta_2$\",\n",
    "    \"6\": r\"$\\phi_2$\",\n",
    "    \"7\": r\"$m_2$\",\n",
    "}\n",
    "fig, axs = plt.subplots(2, 4, figsize=(15, 10))\n",
    "for index, ax in enumerate(axs.reshape(-1)):\n",
    "    hist1 = ax.hist(jets_plot[:, index], bins=100, label=\"original\")\n",
    "\n",
    "    next(ax._get_lines.prop_cycler)\n",
    "    ax.hist(train_data[:, index], bins=hist1[1], label=\"with cut\", histtype=\"step\")\n",
    "    ax.set_xlabel(f\"{label_map[str(index)]}\")\n",
    "    ax.set_yscale(\"log\")\n",
    "    if index == 2 or index == 6:\n",
    "        ax.legend(frameon=False)\n",
    "        ax.set_ylim(1e-1, 1e6)\n",
    "plt.tight_layout()\n",
    "plt.show()"
   ]
  },
  {
   "cell_type": "code",
   "execution_count": null,
   "metadata": {},
   "outputs": [],
   "source": [
    "\n"
   ]
  },
  {
   "cell_type": "code",
   "execution_count": null,
   "metadata": {},
   "outputs": [],
   "source": [
    "class MLP(nn.Sequential):\n",
    "    def __init__(\n",
    "        self,\n",
    "        in_features: int,\n",
    "        out_features: int,\n",
    "        hidden_features: list[int] = [64, 64],\n",
    "    ):\n",
    "        layers = []\n",
    "\n",
    "        for a, b in zip(\n",
    "            [in_features] + hidden_features,\n",
    "            hidden_features + [out_features],\n",
    "        ):\n",
    "            layers.extend([nn.Linear(a, b), nn.ELU()])\n",
    "\n",
    "        super().__init__(*layers[:-1])"
   ]
  },
  {
   "cell_type": "code",
   "execution_count": null,
   "metadata": {},
   "outputs": [],
   "source": [
    "class CNF(nn.Module):\n",
    "    def __init__(\n",
    "        self,\n",
    "        features: int,\n",
    "        freqs: int = 3,\n",
    "        **kwargs,\n",
    "    ):\n",
    "        super().__init__()\n",
    "\n",
    "        self.net = MLP(2 * freqs + features, features, **kwargs)\n",
    "\n",
    "        self.register_buffer(\"freqs\", torch.arange(1, freqs + 1) * torch.pi)\n",
    "\n",
    "    def forward(self, t: Tensor, x: Tensor) -> Tensor:\n",
    "        t = self.freqs * t[..., None]\n",
    "        t = torch.cat((t.cos(), t.sin()), dim=-1)\n",
    "        t = t.expand(*x.shape[:-1], -1)\n",
    "\n",
    "        return self.net(torch.cat((t, x), dim=-1))\n",
    "\n",
    "    def encode(self, x: Tensor) -> Tensor:\n",
    "        # return odeint(self, x, 0.0, 1.0, phi=self.parameters())\n",
    "        pass\n",
    "\n",
    "    def decode(self, z: Tensor) -> Tensor:\n",
    "        # return odeint(self, z, 1.0, 0.0, phi=self.parameters())\n",
    "        node = NeuralODE(z, solver=\"midpoint\", sensitivity=\"adjoint\")\n",
    "        t_span = torch.linspace(1.0, 0.0, 50)\n",
    "        traj = node.trajectory(z, t_span)\n",
    "        return traj[-1]\n",
    "\n",
    "    def log_prob(self, x: Tensor) -> Tensor:\n",
    "        i = torch.eye(x.shape[-1]).to(x)\n",
    "        i = i.expand(x.shape + x.shape[-1:]).movedim(-1, 0)\n",
    "\n",
    "        def augmented(t: Tensor, x: Tensor, ladj: Tensor) -> Tensor:\n",
    "            with torch.enable_grad():\n",
    "                x = x.requires_grad_()\n",
    "                dx = self(t, x)\n",
    "\n",
    "            jacobian = torch.autograd.grad(dx, x, i, is_grads_batched=True, create_graph=True)[0]\n",
    "            trace = torch.einsum(\"i...i\", jacobian)\n",
    "\n",
    "            return dx, trace * 1e-2\n",
    "\n",
    "        ladj = torch.zeros_like(x[..., 0])\n",
    "        z, ladj = odeint(augmented, (x, ladj), 0.0, 1.0, phi=self.parameters())\n",
    "\n",
    "        return Normal(0.0, z.new_tensor(1.0)).log_prob(z).sum(dim=-1) + ladj * 1e2"
   ]
  },
  {
   "cell_type": "code",
   "execution_count": null,
   "metadata": {},
   "outputs": [],
   "source": [
    "class FlowMatchingLoss(nn.Module):\n",
    "    def __init__(self, v: nn.Module):\n",
    "        super().__init__()\n",
    "\n",
    "        self.v = v\n",
    "\n",
    "    def forward(self, x: Tensor) -> Tensor:\n",
    "        t = torch.rand_like(x[..., 0]).unsqueeze(-1)\n",
    "        z = torch.randn_like(x)\n",
    "        y = (1 - t) * x + (1e-4 + (1 - 1e-4) * t) * z\n",
    "        u = (1 - 1e-4) * z - x\n",
    "\n",
    "        return (self.v(t.squeeze(-1), y) - u).square().mean()"
   ]
  },
  {
   "cell_type": "code",
   "execution_count": null,
   "metadata": {},
   "outputs": [],
   "source": [
    "if __name__ == \"__main__\":\n",
    "    flow = CNF(8, hidden_features=[256] * 3)\n",
    "\n",
    "    # Training\n",
    "    loss = FlowMatchingLoss(flow)\n",
    "    optimizer = torch.optim.AdamW(flow.parameters(), lr=1e-3)\n",
    "\n",
    "    # data, _ = make_moons(4096, noise=0.05)\n",
    "    # data = torch.from_numpy(data).float()\n",
    "    data = torch.from_numpy(train_data).float()\n",
    "\n",
    "    for epoch in tqdm(range(100000), ncols=88):\n",
    "        subset = torch.randint(0, len(data), (256,))\n",
    "        x = data[subset]\n",
    "\n",
    "        optimizer.zero_grad()\n",
    "        loss(x).backward()\n",
    "        optimizer.step()\n",
    "\n",
    "    # Sampling\n",
    "    with torch.no_grad():\n",
    "        z = torch.randn(4096, 8)\n",
    "        x = flow.decode(z).numpy()"
   ]
  },
  {
   "cell_type": "code",
   "execution_count": null,
   "metadata": {},
   "outputs": [],
   "source": [
    "generated_data = x\n",
    "plot_train_data = train_data[: len(generated_data)]"
   ]
  },
  {
   "cell_type": "code",
   "execution_count": null,
   "metadata": {},
   "outputs": [],
   "source": [
    "jets_plot = jets.reshape(-1, 8)\n",
    "label_map = {\n",
    "    \"0\": r\"${p_T}_1$\",\n",
    "    \"1\": r\"$\\eta_1$\",\n",
    "    \"2\": r\"$\\phi_1$\",\n",
    "    \"3\": r\"$m_1$\",\n",
    "    \"4\": r\"${p_T}_2$\",\n",
    "    \"5\": r\"$\\eta_2$\",\n",
    "    \"6\": r\"$\\phi_2$\",\n",
    "    \"7\": r\"$m_2$\",\n",
    "}\n",
    "fig, axs = plt.subplots(2, 4, figsize=(15, 10))\n",
    "for index, ax in enumerate(axs.reshape(-1)):\n",
    "    hist1 = ax.hist(plot_train_data[:, index], bins=100, label=\"train data\")\n",
    "\n",
    "    next(ax._get_lines.prop_cycler)\n",
    "    ax.hist(generated_data[:, index], bins=hist1[1], label=\"generated\", histtype=\"step\")\n",
    "    ax.set_xlabel(f\"{label_map[str(index)]}\")\n",
    "    ax.set_yscale(\"log\")\n",
    "    if index == 2 or index == 6:\n",
    "        ax.legend(frameon=False)\n",
    "        ax.set_ylim(1e-1, 1e6)\n",
    "plt.tight_layout()\n",
    "plt.show()"
   ]
  }
 ],
 "metadata": {
  "kernelspec": {
   "display_name": "pllhome",
   "language": "python",
   "name": "python3"
  },
  "language_info": {
   "codemirror_mode": {
    "name": "ipython",
    "version": 3
   },
   "file_extension": ".py",
   "mimetype": "text/x-python",
   "name": "python",
   "nbconvert_exporter": "python",
   "pygments_lexer": "ipython3",
   "version": "3.10.6"
  }
 },
 "nbformat": 4,
 "nbformat_minor": 2
}
