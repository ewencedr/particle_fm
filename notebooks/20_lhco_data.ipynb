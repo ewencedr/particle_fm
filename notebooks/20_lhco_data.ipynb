{
 "cells": [
  {
   "cell_type": "code",
   "execution_count": null,
   "metadata": {},
   "outputs": [],
   "source": [
    "import energyflow as ef\n",
    "import fastjet as fj\n",
    "import h5py\n",
    "import matplotlib.pyplot as plt\n",
    "import numpy as np\n",
    "import pandas\n",
    "from pyjet import DTYPE_PTEPM, cluster"
   ]
  },
  {
   "cell_type": "code",
   "execution_count": null,
   "metadata": {},
   "outputs": [],
   "source": [
    "filepath = \"/beegfs/desy/user/ewencedr/data/lhco/events_anomalydetection_v2.h5\""
   ]
  },
  {
   "cell_type": "code",
   "execution_count": null,
   "metadata": {},
   "outputs": [],
   "source": [
    "# Option 1: Load everything into memory\n",
    "df = pandas.read_hdf(filepath)\n",
    "print(df.shape)\n",
    "print(\"Memory in GB:\", sum(df.memory_usage(deep=True)) / (1024**3))"
   ]
  },
  {
   "cell_type": "code",
   "execution_count": null,
   "metadata": {},
   "outputs": [],
   "source": [
    "truth = np.array(df[2100])\n",
    "print(truth.shape)\n",
    "np.unique(truth, return_counts=True)"
   ]
  },
  {
   "cell_type": "code",
   "execution_count": null,
   "metadata": {},
   "outputs": [],
   "source": []
  },
  {
   "cell_type": "code",
   "execution_count": null,
   "metadata": {},
   "outputs": [],
   "source": [
    "events_combined_perm = np.array(df)[np.random.permutation(len(np.array(df)))]\n",
    "print(np.shape(events_combined_perm))\n",
    "# events_combined = events_combined[:, :10000]\n",
    "# print(events_combined.shape)\n",
    "print(events_combined_perm[:, 2100])"
   ]
  },
  {
   "cell_type": "code",
   "execution_count": null,
   "metadata": {},
   "outputs": [],
   "source": [
    "events_combined = events_combined_perm[:10000]\n",
    "print(np.unique(events_combined[:, 2100], return_counts=True))\n",
    "# events_combined = events_combined.T\n",
    "# print(events_combined.shape)"
   ]
  },
  {
   "cell_type": "code",
   "execution_count": null,
   "metadata": {},
   "outputs": [],
   "source": [
    "phi = events_combined[:, ::3]\n",
    "print(phi.shape)\n",
    "print(phi[0, :50])"
   ]
  },
  {
   "cell_type": "markdown",
   "metadata": {},
   "source": [
    "## Clustering"
   ]
  },
  {
   "cell_type": "code",
   "execution_count": null,
   "metadata": {},
   "outputs": [],
   "source": [
    "# Now, let's cluster some jets!\n",
    "leadpT = {}\n",
    "first_jets = {}\n",
    "alljets = {}\n",
    "for mytype in [\"background\", \"signal\"]:\n",
    "    leadpT[mytype] = []\n",
    "    alljets[mytype] = []\n",
    "    first_jets[mytype] = []\n",
    "    for i in range(np.shape(events_combined)[0]):\n",
    "        if i % 1000 == 0:\n",
    "            print(mytype, i)\n",
    "            pass\n",
    "        # print(f\"events: {np.shape(events_combined[i])}\")\n",
    "        issignal = events_combined[i][2100]\n",
    "        if mytype == \"background\" and issignal:\n",
    "            continue\n",
    "        elif mytype == \"signal\" and issignal == 0:\n",
    "            continue\n",
    "        pseudojets_input = np.zeros(\n",
    "            len([x for x in events_combined[i][::3] if x > 0]), dtype=DTYPE_PTEPM\n",
    "        )\n",
    "        # print(np.shape(pseudojets_input))\n",
    "        for j in range(700):\n",
    "            if events_combined[i][j * 3] > 0:\n",
    "                pseudojets_input[j][\"pT\"] = events_combined[i][j * 3]\n",
    "                pseudojets_input[j][\"eta\"] = events_combined[i][j * 3 + 1]\n",
    "                pseudojets_input[j][\"phi\"] = events_combined[i][j * 3 + 2]\n",
    "                pass\n",
    "            pass\n",
    "        sequence = cluster(pseudojets_input, R=1.0, p=-1)\n",
    "        jets = sequence.inclusive_jets(ptmin=20)\n",
    "        leadpT[mytype] += [jets[0].pt]\n",
    "        first_jets[mytype] += [jets[0]]\n",
    "        alljets[mytype] += [jets]\n",
    "        pass"
   ]
  },
  {
   "cell_type": "code",
   "execution_count": null,
   "metadata": {},
   "outputs": [],
   "source": [
    "array = np.array([1, 2, 3, 4, 5])\n",
    "array[:2]"
   ]
  },
  {
   "cell_type": "code",
   "execution_count": null,
   "metadata": {},
   "outputs": [],
   "source": [
    "jets = alljets[\"background\"]\n",
    "mass_sorted_jets = []\n",
    "for jet in jets:\n",
    "    jets_to_sort = jet[:2]  # only sort the first two subjets with highest pT\n",
    "    sorted_subjet = sorted(jets_to_sort, key=lambda x: x.mass, reverse=True)\n",
    "    mass_sorted_jets.append(sorted_subjet)"
   ]
  },
  {
   "cell_type": "code",
   "execution_count": null,
   "metadata": {},
   "outputs": [],
   "source": [
    "jets = mass_sorted_jets\n",
    "# jets = alljets['background']\n",
    "x_masses = []\n",
    "y_masses = []\n",
    "x_jets = []\n",
    "for jets in jets:\n",
    "    # print(jets)\n",
    "    x_jet = jets[0]\n",
    "    y_jet = jets[1]\n",
    "    x_jets.append(x_jet)\n",
    "    # if (x_jet.mass < y_jet.mass):\n",
    "    #    x_jet = jets[1]\n",
    "    #    y_jet = jets[0]\n",
    "    #    pass\n",
    "    # x_jet_mass = sum([x.mass for x in x_jet])\n",
    "    # y_jet_mass = sum([x.mass for x in y_jet])\n",
    "    x_masses.append(x_jet.mass)\n",
    "    y_masses.append(y_jet.mass)\n",
    "x_jets = np.array(x_jets)"
   ]
  },
  {
   "cell_type": "code",
   "execution_count": null,
   "metadata": {},
   "outputs": [],
   "source": [
    "plt.hist(x_masses, bins=100, histtype=\"step\", label=\"highest mass\")\n",
    "plt.hist(y_masses, bins=100, histtype=\"step\", label=\"second hight mass\")\n",
    "plt.xlabel(\"mass\")\n",
    "plt.legend()\n",
    "plt.show()"
   ]
  },
  {
   "cell_type": "code",
   "execution_count": null,
   "metadata": {},
   "outputs": [],
   "source": []
  },
  {
   "cell_type": "code",
   "execution_count": null,
   "metadata": {},
   "outputs": [],
   "source": [
    "first_jets[\"signal\"][2]"
   ]
  },
  {
   "cell_type": "code",
   "execution_count": null,
   "metadata": {},
   "outputs": [],
   "source": [
    "print(len(first_jets[\"background\"]))\n",
    "print(f\"Jet pt: {first_jets['background'][0].pt}\")\n",
    "print(f\"Jet eta: {first_jets['background'][0].eta}\")\n",
    "print(f\"Jet phi: {first_jets['background'][0].phi}\")\n",
    "print(f\"Jet mass: {first_jets['background'][0].mass}\")"
   ]
  },
  {
   "cell_type": "code",
   "execution_count": null,
   "metadata": {},
   "outputs": [],
   "source": [
    "constituents = []\n",
    "rel_constituents = []\n",
    "len_constituents = []\n",
    "mask = []\n",
    "len_padding = 250\n",
    "for jet in x_jets:\n",
    "    const_temp = []\n",
    "    for constituent_void in jet.constituents_array():\n",
    "        array = np.asarray(constituent_void).tolist()\n",
    "        const_temp.append(array)\n",
    "    unpadded_consts = np.array(const_temp)\n",
    "    mask_single_jet = np.ones(len(unpadded_consts))\n",
    "    padded_mask = np.pad(\n",
    "        mask_single_jet, (0, len_padding - len(mask_single_jet)), \"constant\", constant_values=0\n",
    "    )\n",
    "    padded_consts = np.pad(\n",
    "        unpadded_consts,\n",
    "        ((0, len_padding - len(unpadded_consts)), (0, 0)),\n",
    "        \"constant\",\n",
    "        constant_values=0,\n",
    "    )\n",
    "    constituents.append(padded_consts)\n",
    "    # relative coordinates\n",
    "    rel_constituents_temp = padded_consts.copy()\n",
    "    rel_constituents_temp[:, 0] = rel_constituents_temp[:, 0] / jet.pt\n",
    "    rel_constituents_temp[:, 1] = rel_constituents_temp[:, 1] - jet.eta\n",
    "    rel_constituents_temp[:, 2] = rel_constituents_temp[:, 2] - jet.phi\n",
    "    rel_constituents_temp[:, 2] = np.where(\n",
    "        rel_constituents_temp[:, 2] > np.pi,\n",
    "        rel_constituents_temp[:, 2] - 2 * np.pi,\n",
    "        rel_constituents_temp[:, 2],\n",
    "    )\n",
    "    rel_constituents_temp[:, 2] = np.where(\n",
    "        rel_constituents_temp[:, 2] < -np.pi,\n",
    "        rel_constituents_temp[:, 2] + 2 * np.pi,\n",
    "        rel_constituents_temp[:, 2],\n",
    "    )\n",
    "\n",
    "    rel_constituents.append(rel_constituents_temp)\n",
    "    # mask\n",
    "    mask.append(padded_mask)\n",
    "    # len\n",
    "    len_constituents.append(len(jet.constituents_array()))\n",
    "constituents = np.array(constituents)\n",
    "rel_constituents = np.array(rel_constituents)\n",
    "mask = np.array(mask)\n",
    "print(f\"max constituents: {np.max(len_constituents)}\")\n",
    "print(f\"min constituents: {np.min(len_constituents)}\")\n",
    "print(constituents.shape)\n",
    "print(mask.shape)"
   ]
  },
  {
   "cell_type": "code",
   "execution_count": null,
   "metadata": {},
   "outputs": [],
   "source": [
    "plt.hist(np.sum(mask, axis=-1), bins=range(0, 250, 1))\n",
    "plt.xlabel(\"particle multiplicity\")\n",
    "plt.show()"
   ]
  },
  {
   "cell_type": "code",
   "execution_count": null,
   "metadata": {},
   "outputs": [],
   "source": [
    "index = 2\n",
    "plt.hist(\n",
    "    rel_constituents[:, :, index].flatten()[rel_constituents[:, :, index].flatten() != 0], bins=100\n",
    ")\n",
    "plt.xlabel(\"phi\")\n",
    "# plt.yscale('log')\n",
    "plt.show()"
   ]
  },
  {
   "cell_type": "code",
   "execution_count": null,
   "metadata": {},
   "outputs": [],
   "source": [
    "masses = []\n",
    "for jet in x_jets:\n",
    "    masses.append(jet.mass)\n",
    "plt.hist(masses, bins=100)\n",
    "plt.xlabel(\"mass\")\n",
    "plt.show()"
   ]
  },
  {
   "cell_type": "code",
   "execution_count": null,
   "metadata": {},
   "outputs": [],
   "source": [
    "background = alljets[\"background\"]\n",
    "print(len(background))"
   ]
  },
  {
   "cell_type": "code",
   "execution_count": null,
   "metadata": {},
   "outputs": [],
   "source": [
    "print(leadpT[\"background\"])"
   ]
  },
  {
   "cell_type": "code",
   "execution_count": null,
   "metadata": {},
   "outputs": [],
   "source": [
    "print(len(background[200]))"
   ]
  },
  {
   "cell_type": "code",
   "execution_count": null,
   "metadata": {},
   "outputs": [],
   "source": [
    "mjj = {}\n",
    "for mytype in [\"background\", \"signal\"]:\n",
    "    mjj[mytype] = []\n",
    "    for k in range(len(alljets[mytype])):\n",
    "        E = alljets[mytype][k][0].e + alljets[mytype][k][1].e\n",
    "        px = alljets[mytype][k][0].px + alljets[mytype][k][1].px\n",
    "        py = alljets[mytype][k][0].py + alljets[mytype][k][1].py\n",
    "        pz = alljets[mytype][k][0].pz + alljets[mytype][k][1].pz\n",
    "        mjj[mytype] += [(E**2 - px**2 - py**2 - pz**2) ** 0.5]\n",
    "        pass\n",
    "    pass"
   ]
  },
  {
   "cell_type": "code",
   "execution_count": null,
   "metadata": {},
   "outputs": [],
   "source": [
    "fig = plt.figure()\n",
    "ax = fig.add_subplot(1, 1, 1)\n",
    "n, b, p = plt.hist(mjj[\"background\"], bins=50, facecolor=\"r\", alpha=0.2, label=\"background\")\n",
    "plt.hist(mjj[\"signal\"], bins=b, facecolor=\"b\", alpha=0.2, label=\"signal\")\n",
    "plt.xlabel(r\"$m_{JJ}$ [GeV]\")\n",
    "plt.ylabel(\"Number of events\")\n",
    "plt.legend(loc=\"upper right\")\n",
    "plt.show()"
   ]
  },
  {
   "cell_type": "code",
   "execution_count": null,
   "metadata": {},
   "outputs": [],
   "source": [
    "# Let's make some very simple plots.\n",
    "fig = plt.figure()\n",
    "ax = fig.add_subplot(1, 1, 1)\n",
    "n, b, p = plt.hist(leadpT[\"background\"], bins=50, facecolor=\"r\", alpha=0.2, label=\"background\")\n",
    "plt.hist(leadpT[\"signal\"], bins=b, facecolor=\"b\", alpha=0.2, label=\"signal\")\n",
    "plt.xlabel(r\"Leading jet $p_{T}$ [GeV]\")\n",
    "plt.ylabel(\"Number of events\")\n",
    "plt.legend(loc=\"upper right\")\n",
    "plt.show()"
   ]
  },
  {
   "cell_type": "markdown",
   "metadata": {},
   "source": [
    "# Fastjet"
   ]
  },
  {
   "cell_type": "code",
   "execution_count": null,
   "metadata": {},
   "outputs": [],
   "source": [
    "def run(data, n_events=1000):\n",
    "    out = []\n",
    "\n",
    "    # Loop over events\n",
    "    for ievt in range(n_events):\n",
    "        # Build a list of all particles\n",
    "        pjs = []\n",
    "        for i in range(data.shape[1]):\n",
    "            pj = fj.PseudoJet()\n",
    "            pj.reset_PtYPhiM(data[ievt, i, 0], data[ievt, i, 1], data[ievt, i, 2], 0)\n",
    "            pjs.append(pj)\n",
    "\n",
    "        # run jet clustering with AntiKt, R=1.0\n",
    "        R = 1.0\n",
    "        jet_def = fj.JetDefinition(fj.antikt_algorithm, R)\n",
    "\n",
    "        # Save the two leading jets\n",
    "        jets = jet_def(pjs)\n",
    "        jets = [j for j in jets if j.pt() > 30.0]\n",
    "        out.append([jets[0], jets[1]])\n",
    "\n",
    "    return out"
   ]
  },
  {
   "cell_type": "markdown",
   "metadata": {},
   "source": [
    "# Load data"
   ]
  },
  {
   "cell_type": "code",
   "execution_count": null,
   "metadata": {},
   "outputs": [],
   "source": [
    "path = \"/beegfs/desy/user/ewencedr/data/lhco/events_anomalydetection_v2_processed.h5\"\n",
    "with h5py.File(path, \"r\") as f:\n",
    "    rel_constituents = f[\"data\"][:]\n",
    "    mask = f[\"mask\"][:]"
   ]
  },
  {
   "cell_type": "code",
   "execution_count": null,
   "metadata": {},
   "outputs": [],
   "source": [
    "print(rel_constituents.shape)\n",
    "print(mask.shape)"
   ]
  },
  {
   "cell_type": "code",
   "execution_count": null,
   "metadata": {},
   "outputs": [],
   "source": [
    "plt.hist(np.sum(mask, axis=-1), bins=range(0, 250, 1))\n",
    "plt.xlabel(\"particle multiplicity\")\n",
    "plt.yscale(\"log\")\n",
    "plt.show()"
   ]
  },
  {
   "cell_type": "code",
   "execution_count": null,
   "metadata": {},
   "outputs": [],
   "source": [
    "index = 2\n",
    "plt.hist(\n",
    "    rel_constituents[:, :, index].flatten()[rel_constituents[:, :, index].flatten() != 0], bins=100\n",
    ")\n",
    "plt.xlabel(\"phi\")\n",
    "plt.yscale(\"log\")\n",
    "plt.show()"
   ]
  },
  {
   "cell_type": "code",
   "execution_count": null,
   "metadata": {},
   "outputs": [],
   "source": [
    "p4s = ef.p4s_from_ptyphims(rel_constituents[:, :, :3])\n",
    "sum_p4 = np.sum(p4s, axis=-2)\n",
    "jet_data = ef.ptyphims_from_p4s(sum_p4, phi_ref=0)"
   ]
  },
  {
   "cell_type": "code",
   "execution_count": null,
   "metadata": {},
   "outputs": [],
   "source": [
    "jet_data.shape"
   ]
  },
  {
   "cell_type": "code",
   "execution_count": null,
   "metadata": {},
   "outputs": [],
   "source": [
    "plt.hist(jet_data[:, 1], bins=100)\n",
    "plt.yscale(\"log\")\n",
    "plt.xlabel(\"mass\")\n",
    "# plt.xlim(0.1+1e-12-1e-11,0.1+1e-12+1e-11)\n",
    "plt.show()"
   ]
  },
  {
   "cell_type": "code",
   "execution_count": null,
   "metadata": {},
   "outputs": [],
   "source": [
    "data = rel_constituents[:, :, :3]\n",
    "print(data.shape)"
   ]
  },
  {
   "cell_type": "code",
   "execution_count": null,
   "metadata": {},
   "outputs": [],
   "source": [
    "data2 = np.concatenate([data, np.expand_dims(mask, axis=-1)], axis=-1)\n",
    "print(data2.shape)"
   ]
  },
  {
   "cell_type": "code",
   "execution_count": null,
   "metadata": {},
   "outputs": [],
   "source": []
  }
 ],
 "metadata": {
  "kernelspec": {
   "display_name": "pllhome",
   "language": "python",
   "name": "python3"
  },
  "language_info": {
   "codemirror_mode": {
    "name": "ipython",
    "version": 3
   },
   "file_extension": ".py",
   "mimetype": "text/x-python",
   "name": "python",
   "nbconvert_exporter": "python",
   "pygments_lexer": "ipython3",
   "version": "3.10.6"
  }
 },
 "nbformat": 4,
 "nbformat_minor": 2
}
