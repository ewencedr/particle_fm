{
 "cells": [
  {
   "cell_type": "code",
   "execution_count": null,
   "metadata": {},
   "outputs": [],
   "source": [
    "import matplotlib.pyplot as plt\n",
    "import pandas as pd"
   ]
  },
  {
   "cell_type": "markdown",
   "metadata": {},
   "source": [
    "# ODE solver comparison"
   ]
  },
  {
   "cell_type": "code",
   "execution_count": null,
   "metadata": {},
   "outputs": [],
   "source": [
    "df = pd.read_csv(\n",
    "    \"/beegfs/desy/user/ewencedr/deep-learning/ode_solver_comparison/ode_solver-v3.csv\"\n",
    ")"
   ]
  },
  {
   "cell_type": "code",
   "execution_count": null,
   "metadata": {},
   "outputs": [],
   "source": [
    "df_reduced = df.loc[:, [\"Solver\", \"Steps\", \"Time per Jet\", \"w1m\", \"w1m_std\"]]"
   ]
  },
  {
   "cell_type": "code",
   "execution_count": null,
   "metadata": {},
   "outputs": [],
   "source": [
    "df_adaptive = pd.read_csv(\n",
    "    \"/beegfs/desy/user/ewencedr/deep-learning/ode_solver_comparison/ode_solver-adaptive.csv\"\n",
    ")\n",
    "df_adaptive"
   ]
  },
  {
   "cell_type": "code",
   "execution_count": null,
   "metadata": {},
   "outputs": [],
   "source": [
    "steps_time = df_reduced.pivot(index=\"Steps\", columns=\"Solver\", values=\"Time per Jet\")"
   ]
  },
  {
   "cell_type": "code",
   "execution_count": null,
   "metadata": {},
   "outputs": [],
   "source": [
    "plt.plot(steps_time.index, steps_time[\"euler\"], label=\"Euler (1nfe)\", color=\"#B6BFC3\")\n",
    "plt.plot(steps_time.index, steps_time[\"midpoint\"], label=\"Midpoint (2nfe)\", color=\"#0271BB\")\n",
    "plt.plot(steps_time.index, steps_time[\"rk4\"], label=\"RK4 (4nfe)\", color=\"#E2001A\")\n",
    "plt.plot(steps_time.index, steps_time[\"ieuler\"], label=\"iEuler\", color=\"#3B515B\")\n",
    "plt.axhline(\n",
    "    df_adaptive.loc[1, [\"Time per Jet\"]][0],\n",
    "    label=\"Dopri5 Zuko\",\n",
    "    linestyle=\"--\",\n",
    "    color=\"black\",\n",
    "    alpha=0.8,\n",
    ")\n",
    "plt.axhline(\n",
    "    df_adaptive.loc[0, [\"Time per Jet\"]][0],\n",
    "    label=\"Dopri5\",\n",
    "    linestyle=\"--\",\n",
    "    color=\"black\",\n",
    "    alpha=0.5,\n",
    ")\n",
    "plt.axhline(\n",
    "    df_adaptive.loc[2, [\"Time per Jet\"]][0],\n",
    "    label=\"Tsit5\",\n",
    "    linestyle=\"--\",\n",
    "    color=\"black\",\n",
    "    alpha=0.3,\n",
    ")\n",
    "plt.axhline(0.05, label=\"Pyhia\", linestyle=\"-.\", color=\"#E2001A\")\n",
    "plt.yscale(\"log\")\n",
    "plt.xlabel(\"Steps\")\n",
    "plt.ylabel(\"Time per Jet [s]\")\n",
    "plt.legend(loc=\"best\", prop={\"size\": 11}, frameon=False, ncol=2)\n",
    "plt.show()"
   ]
  },
  {
   "cell_type": "code",
   "execution_count": null,
   "metadata": {},
   "outputs": [],
   "source": [
    "df_nfe = pd.read_csv(\n",
    "    \"/beegfs/desy/user/ewencedr/deep-learning/ode_solver_comparison/ode_solver-nfe2.csv\"\n",
    ")\n",
    "nfe = [20, 40, 60, 80, 100, 200, 20, 40, 60, 80, 100, 200, 20, 40, 60, 80, 100, 200]\n",
    "df_nfe[\"nfe\"] = nfe\n",
    "df_nfe"
   ]
  },
  {
   "cell_type": "code",
   "execution_count": null,
   "metadata": {},
   "outputs": [],
   "source": [
    "nfe_w1m = df_nfe.pivot(index=\"nfe\", columns=\"Solver\", values=[\"w1m\", \"w1m_std\"])\n",
    "print(nfe_w1m)"
   ]
  },
  {
   "cell_type": "code",
   "execution_count": null,
   "metadata": {},
   "outputs": [],
   "source": [
    "steps_w1m = df_reduced.pivot(index=\"Steps\", columns=\"Solver\", values=[\"w1m\", \"w1m_std\"])"
   ]
  },
  {
   "cell_type": "code",
   "execution_count": null,
   "metadata": {},
   "outputs": [],
   "source": [
    "label = [\"Euler\", \"Midpoint\", \"RK4\", \"iEuler\"]\n",
    "colors = [\"#B6BFC3\", \"#0271BB\", \"#E2001A\", \"#3B515B\"]\n",
    "# label = [\"Midpoint (2nfe)\", \"RK4 (4nfe)\", \"iEuler\"]\n",
    "# colors = [\"#0271BB\", \"#E2001A\", \"#3B515B\"]\n",
    "for i, solver in enumerate([\"euler\", \"midpoint\", \"rk4\"]):\n",
    "    plt.plot(nfe_w1m.index, nfe_w1m[\"w1m\"][solver], label=label.pop(0), color=colors[i])\n",
    "    plt.fill_between(\n",
    "        nfe_w1m.index,\n",
    "        nfe_w1m[\"w1m\"][solver] - nfe_w1m[\"w1m_std\"][solver],\n",
    "        nfe_w1m[\"w1m\"][solver] + nfe_w1m[\"w1m_std\"][solver],\n",
    "        color=colors[i],\n",
    "        alpha=0.2,\n",
    "    )\n",
    "plt.axhline(\n",
    "    df_adaptive.loc[1, [\"w1m\"]][0], label=\"Dopri5 Zuko\", linestyle=\"--\", color=\"black\", alpha=0.8\n",
    ")\n",
    "plt.fill_between(\n",
    "    steps_w1m.index,\n",
    "    df_adaptive.loc[1, [\"w1m\"]][0] - df_adaptive.loc[1, [\"w1m_std\"]][0],\n",
    "    df_adaptive.loc[1, [\"w1m\"]][0] + df_adaptive.loc[1, [\"w1m_std\"]][0],\n",
    "    color=\"black\",\n",
    "    alpha=0.1,\n",
    ")\n",
    "# plt.axhline(\n",
    "#    df_adaptive.loc[0, [\"w1m\"]][0], label=\"Dopri5\", linestyle=\"--\", color=\"black\", alpha=0.5\n",
    "# )\n",
    "# plt.fill_between(\n",
    "#    steps_w1m.index,\n",
    "#    df_adaptive.loc[0, [\"w1m\"]][0] - df_adaptive.loc[0, [\"w1m_std\"]][0],\n",
    "#    df_adaptive.loc[0, [\"w1m\"]][0] + df_adaptive.loc[0, [\"w1m_std\"]][0],\n",
    "#    color=\"black\",\n",
    "#    alpha=0.25,\n",
    "# )\n",
    "# plt.axhline(\n",
    "#    df_adaptive.loc[2, [\"w1m\"]][0], label=\"Tsit5\", linestyle=\"--\", color=\"black\", alpha=0.3\n",
    "# )\n",
    "# plt.fill_between(\n",
    "#        steps_w1m.index,\n",
    "#        df_adaptive.loc[2,[\"w1m\"]][0] - df_adaptive.loc[2,[\"w1m_std\"]][0],\n",
    "#        df_adaptive.loc[2,[\"w1m\"]][0] + df_adaptive.loc[2,[\"w1m_std\"]][0],\n",
    "#        color=\"black\",\n",
    "#        alpha=0.15,\n",
    "#    )\n",
    "plt.yscale(\"log\")\n",
    "plt.xlabel(\"nfe\")\n",
    "plt.ylabel(\"$W_1^M$\")\n",
    "plt.legend(loc=\"best\", prop={\"size\": 11}, frameon=False, ncol=2)\n",
    "plt.show()"
   ]
  },
  {
   "cell_type": "code",
   "execution_count": null,
   "metadata": {},
   "outputs": [],
   "source": [
    "nfe_w1m = df_nfe.pivot(index=\"nfe\", columns=\"Solver\", values=[\"w1m\", \"w1m_std\"])\n",
    "print(nfe_w1m)"
   ]
  },
  {
   "cell_type": "code",
   "execution_count": null,
   "metadata": {},
   "outputs": [],
   "source": [
    "time_w1m = df_reduced.pivot(index=\"Time per Jet\", columns=\"Solver\", values=[\"w1m\", \"w1m_std\"])"
   ]
  },
  {
   "cell_type": "markdown",
   "metadata": {},
   "source": [
    "# Timing"
   ]
  },
  {
   "cell_type": "code",
   "execution_count": null,
   "metadata": {},
   "outputs": [],
   "source": [
    "df_t = pd.read_csv(\n",
    "    \"/beegfs/desy/user/ewencedr/pc-jedi/logs/epic_debug/2023-07-18_18-10-03-392032/outputs/times.csv\"\n",
    ")\n",
    "df_t"
   ]
  },
  {
   "cell_type": "code",
   "execution_count": null,
   "metadata": {},
   "outputs": [],
   "source": [
    "plt.scatter(df_t.n_particles, df_t.times_mean / 266920, color=\"b\", label=\"EPiC-JeDi\")\n",
    "plt.xlabel(\"Number of Particles\")\n",
    "plt.ylabel(\"Generation Time per Jet [s]\")\n",
    "plt.legend(loc=\"best\", prop={\"size\": 11}, frameon=False, ncol=2)\n",
    "plt.show()"
   ]
  },
  {
   "cell_type": "code",
   "execution_count": null,
   "metadata": {},
   "outputs": [],
   "source": [
    "plt.scatter(df_t.n_particles, df_t.times_mean, color=\"b\")\n",
    "plt.fill_between(\n",
    "    df_t.n_particles,\n",
    "    df_t.times_mean - df_t.times_std,\n",
    "    df_t.times_mean + df_t.times_std,\n",
    "    color=\"b\",\n",
    "    alpha=0.2,\n",
    ")\n",
    "plt.show()"
   ]
  },
  {
   "cell_type": "code",
   "execution_count": null,
   "metadata": {},
   "outputs": [],
   "source": [
    "plt.errorbar(df_t.n_particles, df_t.times_mean, yerr=df_t.times_std * 100, fmt=\"o\", color=\"b\")"
   ]
  },
  {
   "cell_type": "code",
   "execution_count": null,
   "metadata": {},
   "outputs": [],
   "source": []
  }
 ],
 "metadata": {
  "kernelspec": {
   "display_name": "pllhome",
   "language": "python",
   "name": "python3"
  },
  "language_info": {
   "codemirror_mode": {
    "name": "ipython",
    "version": 3
   },
   "file_extension": ".py",
   "mimetype": "text/x-python",
   "name": "python",
   "nbconvert_exporter": "python",
   "pygments_lexer": "ipython3",
   "version": "3.10.6"
  }
 },
 "nbformat": 4,
 "nbformat_minor": 2
}
